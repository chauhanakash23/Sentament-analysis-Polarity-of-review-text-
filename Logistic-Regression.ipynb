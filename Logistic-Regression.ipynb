{
 "cells": [
  {
   "cell_type": "markdown",
   "metadata": {},
   "source": [
    "# Amazon Fine Food Reviews Analysis\n",
    "\n",
    "\n",
    "Data Source: https://www.kaggle.com/snap/amazon-fine-food-reviews <br>\n",
    "\n",
    "EDA: https://nycdatascience.com/blog/student-works/amazon-fine-foods-visualization/\n",
    "\n",
    "\n",
    "The Amazon Fine Food Reviews dataset consists of reviews of fine foods from Amazon.<br>\n",
    "\n",
    "Number of reviews: 568,454<br>\n",
    "Number of users: 256,059<br>\n",
    "Number of products: 74,258<br>\n",
    "Timespan: Oct 1999 - Oct 2012<br>\n",
    "Number of Attributes/Columns in data: 10 \n",
    "\n",
    "Attribute Information:\n",
    "\n",
    "1. Id\n",
    "2. ProductId - unique identifier for the product\n",
    "3. UserId - unqiue identifier for the user\n",
    "4. ProfileName\n",
    "5. HelpfulnessNumerator - number of users who found the review helpful\n",
    "6. HelpfulnessDenominator - number of users who indicated whether they found the review helpful or not\n",
    "7. Score - rating between 1 and 5\n",
    "8. Time - timestamp for the review\n",
    "9. Summary - brief summary of the review\n",
    "10. Text - text of the review\n",
    "\n",
    "\n",
    "#### Objective:\n",
    "Given a review, determine whether the review is positive (rating of 4 or 5) or negative (rating of 1 or 2).\n",
    "\n",
    "<br>\n",
    "[Q] How to determine if a review is positive or negative?<br>\n",
    "<br> \n",
    "[Ans] We could use Score/Rating. A rating of 4 or 5 can be cosnidered as a positive review. A rating of 1 or 2 can be considered as negative one. A review of rating 3 is considered nuetral and such reviews are ignored from our analysis. This is an approximate and proxy way of determining the polarity (positivity/negativity) of a review.\n",
    "\n",
    "\n"
   ]
  },
  {
   "cell_type": "markdown",
   "metadata": {},
   "source": [
    "# [1] Reading data"
   ]
  },
  {
   "cell_type": "markdown",
   "metadata": {},
   "source": [
    "# [1.1]  Loading data"
   ]
  },
  {
   "cell_type": "code",
   "execution_count": 1,
   "metadata": {},
   "outputs": [
    {
     "name": "stderr",
     "output_type": "stream",
     "text": [
      "C:\\Users\\chauh\\Anaconda3\\lib\\site-packages\\gensim\\utils.py:1212: UserWarning: detected Windows; aliasing chunkize to chunkize_serial\n",
      "  warnings.warn(\"detected Windows; aliasing chunkize to chunkize_serial\")\n"
     ]
    }
   ],
   "source": [
    "%matplotlib inline\n",
    "import numpy as np\n",
    "import pandas as pd\n",
    "import matplotlib.pyplot as plt\n",
    "import sqlite3 as sql\n",
    "import seaborn as sns\n",
    "import random\n",
    "import gensim\n",
    "import nltk\n",
    "from sklearn.feature_extraction.text import CountVectorizer\n",
    "from sklearn.feature_extraction.text import TfidfVectorizer\n",
    "from sklearn.model_selection import train_test_split\n",
    "from sklearn import preprocessing\n",
    "import warnings\n",
    "warnings.filterwarnings(\"ignore\")\n",
    "from sklearn.metrics import accuracy_score\n",
    "from sklearn.metrics import confusion_matrix\n",
    "from sklearn.metrics import precision_score\n",
    "from sklearn.metrics import f1_score\n",
    "from sklearn.metrics import recall_score"
   ]
  },
  {
   "cell_type": "code",
   "execution_count": 2,
   "metadata": {
    "collapsed": true
   },
   "outputs": [],
   "source": [
    "con = sql.connect('D:/Work/database.sqlite')"
   ]
  },
  {
   "cell_type": "code",
   "execution_count": 3,
   "metadata": {},
   "outputs": [
    {
     "data": {
      "text/plain": [
       "(525814, 10)"
      ]
     },
     "execution_count": 3,
     "metadata": {},
     "output_type": "execute_result"
    }
   ],
   "source": [
    "filtered_data = pd.read_sql_query(\"\"\"select * from Reviews where Score != 3\"\"\", con)\n",
    "filtered_data.shape"
   ]
  },
  {
   "cell_type": "code",
   "execution_count": 4,
   "metadata": {
    "collapsed": true
   },
   "outputs": [],
   "source": [
    "def partition(x):\n",
    "    if x < 3:\n",
    "        return 'negative'\n",
    "    else:\n",
    "        return 'positive'"
   ]
  },
  {
   "cell_type": "code",
   "execution_count": 5,
   "metadata": {
    "collapsed": true
   },
   "outputs": [],
   "source": [
    "actual_score = filtered_data['Score']\n",
    "posneg = actual_score.map(partition)\n",
    "filtered_data['Score'] = posneg\n",
    "\n",
    "sorted_data = filtered_data.sort_values('ProductId', axis=0, ascending= True, inplace= False, kind= 'quicksort', na_position='last')\n",
    "final = sorted_data.drop_duplicates(subset={'UserId', 'ProfileName', 'Time', 'Text'}, keep='first', inplace=False)\n",
    "\n",
    "final = final[final.HelpfulnessNumerator <= final.HelpfulnessDenominator]"
   ]
  },
  {
   "cell_type": "markdown",
   "metadata": {},
   "source": [
    "# [3] Pre processing"
   ]
  },
  {
   "cell_type": "markdown",
   "metadata": {},
   "source": [
    "# [3.1] Processing review text\n",
    "\n",
    "Now that we have finished deduplication our data requires some preprocessing before we go on further with analysis and making the prediction model.\n",
    "\n",
    "Hence in the Preprocessing phase we do the following in the order below:-\n",
    "\n",
    "1. Begin by removing the html tags\n",
    "2. Remove any punctuations or limited set of special characters like , or . or # etc.\n",
    "3. Check if the word is made up of english letters and is not alpha-numeric\n",
    "4. Check to see if the length of the word is greater than 2 (as it was researched that there is no adjective in 2-letters)\n",
    "5. Convert the word to lowercase\n",
    "6. Remove Stopwords\n",
    "7. Finally Snowball Stemming the word (it was obsereved to be better than Porter Stemming)<br>\n",
    "\n",
    "After which we collect the words used to describe positive and negative reviews"
   ]
  },
  {
   "cell_type": "code",
   "execution_count": 6,
   "metadata": {},
   "outputs": [
    {
     "name": "stdout",
     "output_type": "stream",
     "text": [
      "6\n",
      "I set aside at least an hour each day to read to my son (3 y/o). At this point, I consider myself a connoisseur of children's books and this is one of the best. Santa Clause put this under the tree. Since then, we've read it perpetually and he loves it.<br /><br />First, this book taught him the months of the year.<br /><br />Second, it's a pleasure to read. Well suited to 1.5 y/o old to 4+.<br /><br />Very few children's books are worth owning. Most should be borrowed from the library. This book, however, deserves a permanent spot on your shelf. Sendak's best.\n"
     ]
    }
   ],
   "source": [
    "import re\n",
    "import string\n",
    "from nltk.corpus import stopwords\n",
    "from nltk.stem.porter import PorterStemmer\n",
    "from nltk.stem import WordNetLemmatizer\n",
    "\n",
    "i=0\n",
    "for sent in final['Text'].values:\n",
    "    if len(re.findall('<.*?',sent)):\n",
    "        print(i)\n",
    "        print(sent)\n",
    "        break\n",
    "    i += 1    "
   ]
  },
  {
   "cell_type": "code",
   "execution_count": 7,
   "metadata": {},
   "outputs": [
    {
     "name": "stdout",
     "output_type": "stream",
     "text": [
      "{'your', 'to', 'both', 'll', 're', 'so', 'can', 'where', 'from', 'weren', \"wouldn't\", 'off', 'had', 'having', 'over', 'themselves', 'me', 'should', 'yourselves', 'here', 'o', 'herself', 'once', 'through', 'as', 'of', 'this', 'haven', 'just', 'won', 'same', 'shouldn', 'very', \"shan't\", 'above', 'be', \"didn't\", 'been', 'why', 'ourselves', 'will', 'hadn', 'we', \"doesn't\", 'am', 'by', 'such', 'couldn', 'other', \"you've\", 'no', 's', 'his', \"should've\", \"haven't\", 'into', 'ain', \"mustn't\", 'if', 'my', 'any', 'doing', \"you're\", 'those', 'each', 'being', 'after', 'now', 'but', 'between', \"you'd\", 'in', 'ma', 'for', 'its', \"shouldn't\", 'itself', 'yourself', 'were', 'm', 'isn', 'some', 'myself', 'have', 'too', 'most', 'during', 'him', \"aren't\", 'hers', 'you', 'while', 'all', 'further', 'out', \"won't\", 'himself', \"wasn't\", \"hasn't\", 'not', 'aren', 'whom', 'does', 'are', \"couldn't\", 'below', 'i', 'and', \"don't\", 'then', 'is', 'a', 'it', 'didn', 'nor', 'an', 'at', 'against', 'wasn', 'few', \"you'll\", 't', 'before', \"isn't\", 'hasn', 'these', 'mustn', 'her', 'needn', 'don', 'he', 'doesn', 'wouldn', 'more', 'do', 'who', 'how', 'up', \"that'll\", \"weren't\", 'on', \"it's\", 'only', 'has', 'the', 'she', 'because', 'shan', 'there', 'under', 'again', 'they', 'with', 've', 'when', 'y', 'what', \"needn't\", 'yours', 'ours', 'own', 'theirs', \"she's\", 'mightn', 'd', \"hadn't\", 'down', 'was', 'did', 'until', 'our', 'them', 'about', 'or', 'that', 'their', 'which', \"mightn't\", 'than'}\n"
     ]
    }
   ],
   "source": [
    "stop = set(stopwords.words('english')) #set of stopwords\n",
    "sno = nltk.stem.SnowballStemmer('english') #initialising the snowball stemmer\n",
    "\n",
    "def cleanhtml(sentence): #function to clean the word of any html-tags\n",
    "    cleanr = re.compile('<.*?>')\n",
    "    cleantext = re.sub(cleanr, ' ', sentence)\n",
    "    return cleantext\n",
    "def cleanpunc(sentence): #function to clean the word of any punctuation or special characters\n",
    "    cleaned = re.sub(r'[?|!|\\'|\"|#]',r'',sentence)\n",
    "    cleaned = re.sub(r'[.|,|)|(|\\|/]',r' ',cleaned)\n",
    "    return  cleaned\n",
    "print(stop)"
   ]
  },
  {
   "cell_type": "code",
   "execution_count": 8,
   "metadata": {
    "collapsed": true
   },
   "outputs": [],
   "source": [
    "i=0\n",
    "str1=' '\n",
    "final_string=[]\n",
    "all_positive_words=[] # store words from +ve reviews here\n",
    "all_negative_words=[] # store words from -ve reviews here.\n",
    "s=''\n",
    "for sent in final['Text'].values:\n",
    "    filtered_sentence=[]\n",
    "    #print(sent)\n",
    "    sent=cleanhtml(sent) # remove HTMl tags\n",
    "    for w in sent.split():\n",
    "        for cleaned_words in cleanpunc(w).split():\n",
    "            if((cleaned_words.isalpha()) & (len(cleaned_words)>2)):    \n",
    "                if(cleaned_words.lower() not in stop):\n",
    "                    s=(sno.stem(cleaned_words.lower())).encode('utf8')\n",
    "                    filtered_sentence.append(s)\n",
    "                    if (final['Score'].values)[i] == 'positive': \n",
    "                        all_positive_words.append(s) #list of all words used to describe positive reviews\n",
    "                    if(final['Score'].values)[i] == 'negative':\n",
    "                        all_negative_words.append(s) #list of all words used to describe negative reviews reviews\n",
    "                else:\n",
    "                    continue\n",
    "            else:\n",
    "                continue \n",
    "    #print(filtered_sentence)\n",
    "    str1 = b\" \".join(filtered_sentence) #final string of cleaned words\n",
    "    #print(\"***********************************************************************\")\n",
    "    \n",
    "    final_string.append(str1)\n",
    "    i+=1"
   ]
  },
  {
   "cell_type": "code",
   "execution_count": 9,
   "metadata": {
    "collapsed": true
   },
   "outputs": [],
   "source": [
    "final['CleanedText']=final_string\n",
    "final['CleanedText']=final['CleanedText'].str.decode(\"utf-8\")\n",
    "conn = sql.connect('final.sqlite')\n",
    "c=conn.cursor()\n",
    "conn.text_factory = str\n",
    "final.to_sql('Reviews', conn,  schema=None, if_exists='replace', index=True, index_label=None, chunksize=None, dtype=None)"
   ]
  },
  {
   "cell_type": "code",
   "execution_count": 10,
   "metadata": {},
   "outputs": [
    {
     "name": "stdout",
     "output_type": "stream",
     "text": [
      "(100000, 11)\n"
     ]
    }
   ],
   "source": [
    "# down sampling to make the dataset balanced.\n",
    "pos = final[final['Score']=='positive'].sample(n = 50000 )\n",
    "neg = final[final['Score']=='negative'].sample(n = 50000)\n",
    "final_ = pd.concat([pos,neg])\n",
    "print(final_.shape)"
   ]
  },
  {
   "cell_type": "code",
   "execution_count": 11,
   "metadata": {
    "collapsed": true
   },
   "outputs": [],
   "source": [
    "data_sorted = final_.sort_values(by=['Time'], ascending=True)\n",
    "data_sorted = data_sorted[['Id','ProductId','UserId','ProfileName','HelpfulnessNumerator','HelpfulnessDenominator','Time','Summary','Text','CleanedText','Score']]"
   ]
  },
  {
   "cell_type": "code",
   "execution_count": 12,
   "metadata": {
    "collapsed": true
   },
   "outputs": [],
   "source": [
    "# data split\n",
    "X_train, X_test, Y_train, Y_test = train_test_split(data_sorted['CleanedText'].values, data_sorted['Score'].values, test_size = 0.3)"
   ]
  },
  {
   "cell_type": "markdown",
   "metadata": {},
   "source": [
    "# [3] Featurization"
   ]
  },
  {
   "cell_type": "markdown",
   "metadata": {},
   "source": [
    "# [3.1] Bow"
   ]
  },
  {
   "cell_type": "code",
   "execution_count": 13,
   "metadata": {},
   "outputs": [
    {
     "name": "stdout",
     "output_type": "stream",
     "text": [
      "(70000, 5000)\n",
      "(30000, 5000)\n"
     ]
    }
   ],
   "source": [
    "#unigram\n",
    "count_vect = CountVectorizer(max_features=5000)\n",
    "X_tr = count_vect.fit_transform(X_train)\n",
    "X_te = count_vect.transform(X_test)\n",
    "\n",
    "#standardization\n",
    "from sklearn.preprocessing import StandardScaler\n",
    "std = StandardScaler(copy=True, with_mean=False, with_std=True)\n",
    "X_tra = std.fit_transform(X_tr)\n",
    "X_tes = std.transform(X_te)\n",
    "\n",
    "print(X_tra.shape)\n",
    "print(X_tes.shape)"
   ]
  },
  {
   "cell_type": "code",
   "execution_count": 20,
   "metadata": {
    "collapsed": true
   },
   "outputs": [],
   "source": [
    "#from sklearn.model_selection import GridSearchCV\n",
    "from sklearn.linear_model import LogisticRegression\n",
    "from sklearn.model_selection import cross_val_score\n",
    "from sklearn.metrics import roc_curve, auc, make_scorer\n",
    "def custom_auc(ground_truth, predictions):\n",
    "    fpr, tpr, _ = roc_curve(ground_truth, predictions[:, 1], pos_label='positive')    \n",
    "    return auc(fpr, tpr)\n",
    "\n",
    "auc_ = make_scorer(custom_auc, greater_is_better=True, needs_proba=True)\n",
    "\n",
    "c = [0.001,0.01,0.1,1,10,100,1000] # hyper parameter\n",
    "reg = ['l1','l2']\n",
    "dict = {}\n",
    "for i in c:\n",
    "    for j in reg:\n",
    "        clf = LogisticRegression(C=i,penalty=j)\n",
    "        scores = cross_val_score(clf, X_tra, Y_train, scoring=auc_)\n",
    "        dict[i,j] = max(scores)   "
   ]
  },
  {
   "cell_type": "code",
   "execution_count": 21,
   "metadata": {},
   "outputs": [
    {
     "name": "stdout",
     "output_type": "stream",
     "text": [
      "The best value of hyper parameter is  (0.01, 'l1')\n",
      "The best score is  0.939854331374\n"
     ]
    }
   ],
   "source": [
    "#print(dict)\n",
    "import operator\n",
    "c_ = max(dict.items(), key=operator.itemgetter(1))[0]\n",
    "max_auc_score = dict[c_]\n",
    "print('The best value of hyper parameter is ', c_)\n",
    "print('The best score is ', max_auc_score)"
   ]
  },
  {
   "cell_type": "code",
   "execution_count": 15,
   "metadata": {
    "scrolled": true
   },
   "outputs": [
    {
     "name": "stdout",
     "output_type": "stream",
     "text": [
      "Accuracy on test set: 0.87%\n",
      "Precision on test set: 0.87%\n",
      "Recall on test set: 0.88%\n",
      "F1 score on test set: 0.88%\n"
     ]
    },
    {
     "data": {
      "image/png": "[encoded data removed]",
      "text/plain": [
       "<matplotlib.figure.Figure at 0x22c062cdb00>"
      ]
     },
     "metadata": {},
     "output_type": "display_data"
    }
   ],
   "source": [
    "#training the model with best value of hyper parameter\n",
    "from sklearn.linear_model import LogisticRegression\n",
    "clf = LogisticRegression(C=0.01,penalty='l1')\n",
    "clf.fit(X_tra,Y_train)\n",
    "y_pred = clf.predict(X_tes)\n",
    "\n",
    "import seaborn as sns\n",
    "ax = sns.heatmap(confusion_matrix(Y_test, y_pred), annot=True, fmt='d')\n",
    "\n",
    "print('Accuracy on test set: %0.2f%%'%(accuracy_score(Y_test, y_pred)))\n",
    "print('Precision on test set: %0.2f%%'%(precision_score(Y_test, y_pred, pos_label='positive')))\n",
    "print('Recall on test set: %0.2f%%'%(recall_score(Y_test, y_pred, pos_label='positive')))\n",
    "print('F1 score on test set: %0.2f%%'%(f1_score(Y_test, y_pred, pos_label='positive')))"
   ]
  },
  {
   "cell_type": "code",
   "execution_count": 49,
   "metadata": {},
   "outputs": [
    {
     "name": "stdout",
     "output_type": "stream",
     "text": [
      "\t\t\tPositive\t\t\t\t\t\tNegative\n",
      "________________________________________________________________________________________________\n",
      "\t-0.7807\taccomplish     \t\t\t\t0.6250\tafghanistan    \n",
      "\t-0.4012\tador           \t\t\t\t0.4608\talfredo        \n",
      "\t-0.3708\tacquir         \t\t\t\t0.3999\taftertast      \n",
      "\t-0.3623\taid            \t\t\t\t0.3816\taccur          \n",
      "\t-0.3501\tairi           \t\t\t\t0.3726\taggress        \n",
      "\t-0.2458\tala            \t\t\t\t0.2824\tactual         \n",
      "\t-0.2426\tadvic          \t\t\t\t0.2789\tairport        \n",
      "\t-0.2326\tahead          \t\t\t\t0.2678\tacai           \n",
      "\t-0.2315\tadjust         \t\t\t\t0.2531\talcohol        \n",
      "\t-0.2236\taggrav         \t\t\t\t0.2414\tabandon        \n"
     ]
    }
   ],
   "source": [
    "def show_most_informative_features(vectorizer, clf, n=10):\n",
    "    feature_names = vectorizer.get_feature_names()\n",
    "    coefs_with_fns = sorted(zip(clf.coef_[0], feature_names))\n",
    "    top = zip(coefs_with_fns[:n], coefs_with_fns[:-(n + 1):-1])\n",
    "    print(\"\\t\\t\\tPositive\\t\\t\\t\\t\\t\\tNegative\")\n",
    "    print(\"________________________________________________________________________________________________\")\n",
    "    for (coef_1, fn_1), (coef_2, fn_2) in top:\n",
    "        print(\"\\t%.4f\\t%-15s\\t\\t\\t\\t%.4f\\t%-15s\" % (coef_1, fn_1, coef_2, fn_2))\n",
    "        \n",
    "show_most_informative_features(count_vect,clf)\n",
    "#Code Reference:https://stackoverflow.com/questions/11116697/how-to-get-most-informative-features-for-scikit-learn-classifiers"
   ]
  },
  {
   "cell_type": "markdown",
   "metadata": {},
   "source": [
    "# Sparsity using L1 regularization"
   ]
  },
  {
   "cell_type": "code",
   "execution_count": 15,
   "metadata": {},
   "outputs": [
    {
     "name": "stdout",
     "output_type": "stream",
     "text": [
      "Non Zero weights: 4999\n"
     ]
    }
   ],
   "source": [
    "from sklearn.linear_model import LogisticRegression\n",
    "\n",
    "clf = LogisticRegression(C= 100, penalty= 'l1')\n",
    "clf.fit(X_tra,Y_train)\n",
    "print(\"Non Zero weights:\",np.count_nonzero(clf.coef_))"
   ]
  },
  {
   "cell_type": "code",
   "execution_count": 16,
   "metadata": {},
   "outputs": [
    {
     "name": "stdout",
     "output_type": "stream",
     "text": [
      "Non Zero weights: 4991\n"
     ]
    }
   ],
   "source": [
    "from sklearn.linear_model import LogisticRegression\n",
    "\n",
    "clf = LogisticRegression(C= 10, penalty= 'l1')\n",
    "clf.fit(X_tra,Y_train)\n",
    "print(\"Non Zero weights:\",np.count_nonzero(clf.coef_))"
   ]
  },
  {
   "cell_type": "code",
   "execution_count": 17,
   "metadata": {},
   "outputs": [
    {
     "name": "stdout",
     "output_type": "stream",
     "text": [
      "Non Zero weights: 4939\n"
     ]
    }
   ],
   "source": [
    "from sklearn.linear_model import LogisticRegression\n",
    "\n",
    "clf = LogisticRegression(C= 1, penalty= 'l1')\n",
    "clf.fit(X_tra,Y_train)\n",
    "print(\"Non Zero weights:\",np.count_nonzero(clf.coef_))"
   ]
  },
  {
   "cell_type": "code",
   "execution_count": 18,
   "metadata": {},
   "outputs": [
    {
     "name": "stdout",
     "output_type": "stream",
     "text": [
      "Non Zero weights: 4480\n"
     ]
    }
   ],
   "source": [
    "from sklearn.linear_model import LogisticRegression\n",
    "\n",
    "clf = LogisticRegression(C= 0.1, penalty= 'l1')\n",
    "clf.fit(X_tra,Y_train)\n",
    "print(\"Non Zero weights:\",np.count_nonzero(clf.coef_))"
   ]
  },
  {
   "cell_type": "code",
   "execution_count": 19,
   "metadata": {},
   "outputs": [
    {
     "name": "stdout",
     "output_type": "stream",
     "text": [
      "Non Zero weights: 1972\n"
     ]
    }
   ],
   "source": [
    "from sklearn.linear_model import LogisticRegression\n",
    "\n",
    "clf = LogisticRegression(C= 0.01, penalty= 'l1')\n",
    "clf.fit(X_tra,Y_train)\n",
    "print(\"Non Zero weights:\",np.count_nonzero(clf.coef_))"
   ]
  },
  {
   "cell_type": "code",
   "execution_count": 20,
   "metadata": {},
   "outputs": [
    {
     "name": "stdout",
     "output_type": "stream",
     "text": [
      "Non Zero weights: 153\n"
     ]
    }
   ],
   "source": [
    "from sklearn.linear_model import LogisticRegression\n",
    "\n",
    "clf = LogisticRegression(C= 0.001, penalty= 'l1')\n",
    "clf.fit(X_tra,Y_train)\n",
    "print(\"Non Zero weights:\",np.count_nonzero(clf.coef_))"
   ]
  },
  {
   "cell_type": "markdown",
   "metadata": {},
   "source": [
    "# Pertubation Test"
   ]
  },
  {
   "cell_type": "code",
   "execution_count": 16,
   "metadata": {},
   "outputs": [
    {
     "name": "stdout",
     "output_type": "stream",
     "text": [
      "Non Zero weights: 1983\n"
     ]
    }
   ],
   "source": [
    "from sklearn.linear_model import LogisticRegression\n",
    "clf = LogisticRegression(C=0.01,penalty='l1')\n",
    "clf.fit(X_tra,Y_train)\n",
    "y_pred = clf.predict(X_tes)\n",
    "print(\"Non Zero weights:\",np.count_nonzero(clf.coef_))"
   ]
  },
  {
   "cell_type": "code",
   "execution_count": 17,
   "metadata": {},
   "outputs": [
    {
     "name": "stdout",
     "output_type": "stream",
     "text": [
      "[[-0.01281491  0.          0.         ...,  0.         -0.01395659  0.        ]]\n"
     ]
    }
   ],
   "source": [
    "#weights as of now\n",
    "#from scipy.sparse import find\n",
    "w1 = clf.coef_\n",
    "#w1 = find(clf.coef_[0])[2]\n",
    "print(w1[:50])"
   ]
  },
  {
   "cell_type": "code",
   "execution_count": 21,
   "metadata": {},
   "outputs": [],
   "source": [
    "from scipy.sparse import find\n",
    "X_tra_noise = X_tra\n",
    "eps = np.random.uniform(low=-0.0001, high=0.0001, size=(find(X_tra_noise)[0].size,)) #noise\n",
    "\n",
    "#Getting the postions(row and column) and value of non-zero datapoints \n",
    "a,b,c = find(X_tra_noise)\n",
    "\n",
    "#adding noise to non-zero datapoints\n",
    "X_tra_noise[a,b] = eps + X_tra_noise[a,b]"
   ]
  },
  {
   "cell_type": "code",
   "execution_count": 22,
   "metadata": {},
   "outputs": [
    {
     "name": "stdout",
     "output_type": "stream",
     "text": [
      "Non Zero weights: 1982\n"
     ]
    }
   ],
   "source": [
    "#training with noise\n",
    "from sklearn.linear_model import LogisticRegression\n",
    "\n",
    "clf = LogisticRegression(C= 0.01, penalty= 'l1')\n",
    "clf.fit(X_tra_noise,Y_train)\n",
    "y_pred = clf.predict(X_tes)\n",
    "print(\"Non Zero weights:\",np.count_nonzero(clf.coef_))"
   ]
  },
  {
   "cell_type": "code",
   "execution_count": 23,
   "metadata": {},
   "outputs": [
    {
     "name": "stdout",
     "output_type": "stream",
     "text": [
      "[[-0.01281507  0.          0.         ...,  0.         -0.01395966  0.        ]]\n"
     ]
    }
   ],
   "source": [
    "#weights after adding noise\n",
    "w2 = clf.coef_\n",
    "#w2 = find(clf.coef_[0])[2]\n",
    "print(w2[:50])"
   ]
  },
  {
   "cell_type": "code",
   "execution_count": 24,
   "metadata": {
    "collapsed": true
   },
   "outputs": [],
   "source": [
    "w1 += 10**-6\n",
    "w2 += 10**-6"
   ]
  },
  {
   "cell_type": "code",
   "execution_count": 26,
   "metadata": {},
   "outputs": [
    {
     "name": "stdout",
     "output_type": "stream",
     "text": [
      "[[ 0.00128038  0.          0.         ...,  0.          0.02201433  0.        ]]\n"
     ]
    }
   ],
   "source": [
    "#percentage difference\n",
    "change = (abs((w1-w2)/w1))*100\n",
    "print(change)"
   ]
  },
  {
   "cell_type": "markdown",
   "metadata": {},
   "source": [
    "# [3.2] TF-IDF"
   ]
  },
  {
   "cell_type": "code",
   "execution_count": 168,
   "metadata": {},
   "outputs": [
    {
     "name": "stdout",
     "output_type": "stream",
     "text": [
      "(70000, 32460)\n",
      "(30000, 32460)\n"
     ]
    }
   ],
   "source": [
    "tfidf_vect = TfidfVectorizer()\n",
    "X_tr = tfidf_vect.fit_transform(X_train)\n",
    "X_te = tfidf_vect.transform(X_test)\n",
    "\n",
    "#standardization\n",
    "from sklearn.preprocessing import StandardScaler\n",
    "std = StandardScaler(copy=True, with_mean=False, with_std=True)\n",
    "\n",
    "X_tra = std.fit_transform(X_tr)\n",
    "X_tes = std.transform(X_te)\n",
    "\n",
    "print(X_tra.shape)\n",
    "print(X_tes.shape)"
   ]
  },
  {
   "cell_type": "code",
   "execution_count": 98,
   "metadata": {
    "collapsed": true
   },
   "outputs": [],
   "source": [
    "#from sklearn.model_selection import GridSearchCV\n",
    "from sklearn.linear_model import LogisticRegression\n",
    "from sklearn.model_selection import cross_val_score\n",
    "from sklearn.metrics import roc_curve, auc, make_scorer\n",
    "def custom_auc(ground_truth, predictions):\n",
    "    fpr, tpr, _ = roc_curve(ground_truth, predictions[:, 1], pos_label='positive')    \n",
    "    return auc(fpr, tpr)\n",
    "\n",
    "auc_ = make_scorer(custom_auc, greater_is_better=True, needs_proba=True)\n",
    "\n",
    "c = [0.001,0.01,0.1,1,10,100,1000] # hyper parameter\n",
    "reg = ['l1','l2']\n",
    "dict = {}\n",
    "for i in c:\n",
    "    for j in reg:\n",
    "        clf = LogisticRegression(C=i,penalty=j)\n",
    "        scores = cross_val_score(clf, X_tra, Y_train, scoring=auc_)\n",
    "        dict[i,j] = max(scores)   "
   ]
  },
  {
   "cell_type": "code",
   "execution_count": 99,
   "metadata": {},
   "outputs": [
    {
     "name": "stdout",
     "output_type": "stream",
     "text": [
      "The best value of hyper parameter is  (0.01, 'l1')\n",
      "The best score is  0.94709407512\n"
     ]
    }
   ],
   "source": [
    "#print(dict)\n",
    "import operator\n",
    "c_ = max(dict.items(), key=operator.itemgetter(1))[0]\n",
    "max_auc_score = dict[c_]\n",
    "print('The best value of hyper parameter is ', c_)\n",
    "print('The best score is ', max_auc_score)"
   ]
  },
  {
   "cell_type": "code",
   "execution_count": 100,
   "metadata": {},
   "outputs": [
    {
     "name": "stdout",
     "output_type": "stream",
     "text": [
      "Accuracy on test set: 0.87%\n",
      "Precision on test set: 0.87%\n",
      "Recall on test set: 0.88%\n",
      "F1 score on test set: 0.88%\n"
     ]
    },
    {
     "data": {
      "image/png": "[encoded data removed]",
      "text/plain": [
       "<matplotlib.figure.Figure at 0x28c8084c9b0>"
      ]
     },
     "metadata": {},
     "output_type": "display_data"
    }
   ],
   "source": [
    "#training the model with best value of hyper parameter\n",
    "clf = LogisticRegression(C=0.01,penalty='l1')\n",
    "clf.fit(X_tra,Y_train)\n",
    "y_pred = clf.predict(X_tes)\n",
    "\n",
    "import seaborn as sns\n",
    "ax = sns.heatmap(confusion_matrix(Y_test, y_pred), annot=True, fmt='d')\n",
    "\n",
    "print('Accuracy on test set: %0.2f%%'%(accuracy_score(Y_test, y_pred)))\n",
    "print('Precision on test set: %0.2f%%'%(precision_score(Y_test, y_pred, pos_label='positive')))\n",
    "print('Recall on test set: %0.2f%%'%(recall_score(Y_test, y_pred, pos_label='positive')))\n",
    "print('F1 score on test set: %0.2f%%'%(f1_score(Y_test, y_pred, pos_label='positive')))"
   ]
  },
  {
   "cell_type": "code",
   "execution_count": 101,
   "metadata": {
    "scrolled": false
   },
   "outputs": [
    {
     "name": "stdout",
     "output_type": "stream",
     "text": [
      "\t\t\tPositive\t\t\t\t\t\tNegative\n",
      "________________________________________________________________________________________________\n",
      "\t-0.4325\tdisappoint     \t\t\t\t0.6075\tgreat          \n",
      "\t-0.3425\tworst          \t\t\t\t0.4587\tlove           \n",
      "\t-0.2923\tterribl        \t\t\t\t0.4316\tbest           \n",
      "\t-0.2554\treturn         \t\t\t\t0.3784\tdelici         \n",
      "\t-0.2530\thorribl        \t\t\t\t0.3170\tperfect        \n",
      "\t-0.2501\taw             \t\t\t\t0.3127\tgood           \n",
      "\t-0.2026\tunfortun       \t\t\t\t0.2876\texcel          \n",
      "\t-0.1994\ttast           \t\t\t\t0.2134\tnice           \n",
      "\t-0.1853\tdisgust        \t\t\t\t0.2126\tfavorit        \n",
      "\t-0.1820\twast           \t\t\t\t0.2076\tamaz           \n"
     ]
    }
   ],
   "source": [
    "def show_most_informative_features(vectorizer, clf, n=10):\n",
    "    feature_names = vectorizer.get_feature_names()\n",
    "    coefs_with_fns = sorted(zip(clf.coef_[0], feature_names))\n",
    "    top = zip(coefs_with_fns[:n], coefs_with_fns[:-(n + 1):-1])\n",
    "    print(\"\\t\\t\\tPositive\\t\\t\\t\\t\\t\\tNegative\")\n",
    "    print(\"________________________________________________________________________________________________\")\n",
    "    for (coef_1, fn_1), (coef_2, fn_2) in top:\n",
    "        print(\"\\t%.4f\\t%-15s\\t\\t\\t\\t%.4f\\t%-15s\" % (coef_1, fn_1, coef_2, fn_2))\n",
    "        \n",
    "show_most_informative_features(tfidf_vect,clf)\n",
    "#Code Reference:https://stackoverflow.com/questions/11116697/how-to-get-most-informative-features-for-scikit-learn-classifiers"
   ]
  },
  {
   "cell_type": "markdown",
   "metadata": {},
   "source": [
    "# Sparsity check with L1 regularization"
   ]
  },
  {
   "cell_type": "code",
   "execution_count": 23,
   "metadata": {},
   "outputs": [
    {
     "name": "stdout",
     "output_type": "stream",
     "text": [
      "Non Zero weights: 26683\n"
     ]
    }
   ],
   "source": [
    "from sklearn.linear_model import LogisticRegression\n",
    "\n",
    "clf = LogisticRegression(C= 1000, penalty= 'l1')\n",
    "clf.fit(X_tra,Y_train)\n",
    "print(\"Non Zero weights:\",np.count_nonzero(clf.coef_))"
   ]
  },
  {
   "cell_type": "code",
   "execution_count": 24,
   "metadata": {},
   "outputs": [
    {
     "name": "stdout",
     "output_type": "stream",
     "text": [
      "Non Zero weights: 25701\n"
     ]
    }
   ],
   "source": [
    "from sklearn.linear_model import LogisticRegression\n",
    "\n",
    "clf = LogisticRegression(C= 100, penalty= 'l1')\n",
    "clf.fit(X_tra,Y_train)\n",
    "print(\"Non Zero weights:\",np.count_nonzero(clf.coef_))"
   ]
  },
  {
   "cell_type": "code",
   "execution_count": 25,
   "metadata": {},
   "outputs": [
    {
     "name": "stdout",
     "output_type": "stream",
     "text": [
      "Non Zero weights: 24166\n"
     ]
    }
   ],
   "source": [
    "from sklearn.linear_model import LogisticRegression\n",
    "\n",
    "clf = LogisticRegression(C= 10, penalty= 'l1')\n",
    "clf.fit(X_tra,Y_train)\n",
    "print(\"Non Zero weights:\",np.count_nonzero(clf.coef_))"
   ]
  },
  {
   "cell_type": "code",
   "execution_count": 26,
   "metadata": {},
   "outputs": [
    {
     "name": "stdout",
     "output_type": "stream",
     "text": [
      "Non Zero weights: 21804\n"
     ]
    }
   ],
   "source": [
    "from sklearn.linear_model import LogisticRegression\n",
    "\n",
    "clf = LogisticRegression(C= 1, penalty= 'l1')\n",
    "clf.fit(X_tra,Y_train)\n",
    "print(\"Non Zero weights:\",np.count_nonzero(clf.coef_))"
   ]
  },
  {
   "cell_type": "code",
   "execution_count": 27,
   "metadata": {},
   "outputs": [
    {
     "name": "stdout",
     "output_type": "stream",
     "text": [
      "Non Zero weights: 17705\n"
     ]
    }
   ],
   "source": [
    "from sklearn.linear_model import LogisticRegression\n",
    "\n",
    "clf = LogisticRegression(C= 0.1, penalty= 'l1')\n",
    "clf.fit(X_tra,Y_train)\n",
    "print(\"Non Zero weights:\",np.count_nonzero(clf.coef_))"
   ]
  },
  {
   "cell_type": "code",
   "execution_count": 28,
   "metadata": {},
   "outputs": [
    {
     "name": "stdout",
     "output_type": "stream",
     "text": [
      "Non Zero weights: 6782\n"
     ]
    }
   ],
   "source": [
    "from sklearn.linear_model import LogisticRegression\n",
    "\n",
    "clf = LogisticRegression(C= 0.01, penalty= 'l1')\n",
    "clf.fit(X_tra,Y_train)\n",
    "print(\"Non Zero weights:\",np.count_nonzero(clf.coef_))"
   ]
  },
  {
   "cell_type": "code",
   "execution_count": 29,
   "metadata": {
    "scrolled": true
   },
   "outputs": [
    {
     "name": "stdout",
     "output_type": "stream",
     "text": [
      "Non Zero weights: 171\n"
     ]
    }
   ],
   "source": [
    "from sklearn.linear_model import LogisticRegression\n",
    "\n",
    "clf = LogisticRegression(C= 0.001, penalty= 'l1')\n",
    "clf.fit(X_tra,Y_train)\n",
    "print(\"Non Zero weights:\",np.count_nonzero(clf.coef_))"
   ]
  },
  {
   "cell_type": "markdown",
   "metadata": {},
   "source": [
    "# Pertubation test"
   ]
  },
  {
   "cell_type": "code",
   "execution_count": 181,
   "metadata": {},
   "outputs": [
    {
     "name": "stdout",
     "output_type": "stream",
     "text": [
      "Non Zero weights: 6663\n"
     ]
    }
   ],
   "source": [
    "from sklearn.linear_model import LogisticRegression\n",
    "clf = LogisticRegression(C=0.01,penalty='l1')\n",
    "clf.fit(X_tra,Y_train)\n",
    "y_pred = clf.predict(X_tes)\n",
    "print(\"Non Zero weights:\",np.count_nonzero(clf.coef_))"
   ]
  },
  {
   "cell_type": "code",
   "execution_count": 189,
   "metadata": {},
   "outputs": [
    {
     "name": "stdout",
     "output_type": "stream",
     "text": [
      "[[ 0.          0.         -0.00133931 ...,  0.          0.          0.00023088]]\n"
     ]
    }
   ],
   "source": [
    "#weights as of now\n",
    "#from scipy.sparse import find\n",
    "w1 = clf.coef_\n",
    "#w1 = find(clf.coef_[0])[2]\n",
    "print(w1[:50])"
   ]
  },
  {
   "cell_type": "code",
   "execution_count": 190,
   "metadata": {
    "collapsed": true
   },
   "outputs": [],
   "source": [
    "X_tra_noise = X_tra\n",
    "#eps = np.random.uniform(low=-0.0001, high=0.0001, size = X_tra_noise[0].size)\n",
    "eps = np.random.uniform(low=-0.0001, high=0.0001, size=(find(X_tra_noise)[0].size,)) #noise\n",
    "#Getting the postions(row and column) and value of non-zero datapoints \n",
    "a,b,c = find(X_tra_noise)\n",
    "#adding noise to non-zero datapoints\n",
    "X_tra_noise[a,b] = eps + X_tra_noise[a,b]\n",
    "#X_tra_noise = eps + X_tra_noise"
   ]
  },
  {
   "cell_type": "code",
   "execution_count": 191,
   "metadata": {},
   "outputs": [
    {
     "name": "stdout",
     "output_type": "stream",
     "text": [
      "Non Zero weights: 6669\n"
     ]
    }
   ],
   "source": [
    "#training with noise\n",
    "from sklearn.linear_model import LogisticRegression\n",
    "\n",
    "clf = LogisticRegression(C= 0.01, penalty= 'l1')\n",
    "clf.fit(X_tra_noise,Y_train)\n",
    "y_pred = clf.predict(X_tes)\n",
    "print(\"Non Zero weights:\",np.count_nonzero(clf.coef_))"
   ]
  },
  {
   "cell_type": "code",
   "execution_count": 193,
   "metadata": {},
   "outputs": [
    {
     "name": "stdout",
     "output_type": "stream",
     "text": [
      "[[ 0.          0.         -0.00133638 ...,  0.          0.          0.00091567]]\n"
     ]
    }
   ],
   "source": [
    "#weights after adding noise\n",
    "w2 = clf.coef_\n",
    "#w2 = find(clf.coef_[0])[2]\n",
    "print(w2[:50])\n",
    "#print(w2.shape)"
   ]
  },
  {
   "cell_type": "code",
   "execution_count": 194,
   "metadata": {
    "collapsed": true
   },
   "outputs": [],
   "source": [
    "w1 += 10**-6\n",
    "w2 += 10**-6"
   ]
  },
  {
   "cell_type": "code",
   "execution_count": 195,
   "metadata": {},
   "outputs": [
    {
     "name": "stdout",
     "output_type": "stream",
     "text": [
      "10561386.2488\n"
     ]
    }
   ],
   "source": [
    "#percentage difference\n",
    "change = (np.sum(abs((w1-w2)/w1)))*100\n",
    "print(change)"
   ]
  },
  {
   "cell_type": "markdown",
   "metadata": {},
   "source": [
    "# W2V"
   ]
  },
  {
   "cell_type": "code",
   "execution_count": 53,
   "metadata": {
    "collapsed": true
   },
   "outputs": [],
   "source": [
    "# Training own Word2Vec model using your own train text corpus\n",
    "import gensim\n",
    "list_of_sent=[]\n",
    "\n",
    "for sent in X_train:\n",
    "    filtered_sentence=[]\n",
    "    for word in sent.split():\n",
    "        for cleaned_words in cleanpunc(word).split():\n",
    "            if(cleaned_words.isalpha()):    \n",
    "                filtered_sentence.append(cleaned_words.lower())\n",
    "            else:\n",
    "                continue \n",
    "    list_of_sent.append(filtered_sentence)"
   ]
  },
  {
   "cell_type": "code",
   "execution_count": 54,
   "metadata": {
    "collapsed": true
   },
   "outputs": [],
   "source": [
    "w2v_model=gensim.models.Word2Vec(list_of_sent,min_count=5,size=100, workers=4)"
   ]
  },
  {
   "cell_type": "code",
   "execution_count": 55,
   "metadata": {
    "collapsed": true
   },
   "outputs": [],
   "source": [
    "w2v_words = list(w2v_model.wv.vocab)"
   ]
  },
  {
   "cell_type": "code",
   "execution_count": 56,
   "metadata": {
    "collapsed": true
   },
   "outputs": [],
   "source": [
    "list_of_sent_test = []\n",
    "for sent in X_test:\n",
    "    filtered_sentence=[]\n",
    "    for word in sent.split():\n",
    "        for cleaned_words in cleanpunc(word).split():\n",
    "            if(cleaned_words.isalpha()):    \n",
    "                filtered_sentence.append(cleaned_words.lower())\n",
    "            else:\n",
    "                continue \n",
    "    list_of_sent_test.append(filtered_sentence)"
   ]
  },
  {
   "cell_type": "markdown",
   "metadata": {},
   "source": [
    "# Avg W2V"
   ]
  },
  {
   "cell_type": "code",
   "execution_count": 57,
   "metadata": {
    "collapsed": true
   },
   "outputs": [],
   "source": [
    "sent_vectors_TRAIN = []; \n",
    "for sent in list_of_sent: \n",
    "    sent_vec = np.zeros(100)\n",
    "    cnt_words =0; \n",
    "    for word in sent: \n",
    "        if word in w2v_words:\n",
    "            vec = w2v_model.wv[word]\n",
    "            sent_vec += vec\n",
    "            cnt_words += 1\n",
    "    if cnt_words != 0:\n",
    "        sent_vec /= cnt_words\n",
    "    sent_vectors_TRAIN.append(sent_vec)\n",
    "\n",
    "sent_vectors_TEST = []; \n",
    "for sent in list_of_sent_test: \n",
    "    sent_vec = np.zeros(100)\n",
    "    cnt_words =0; \n",
    "    for word in sent: \n",
    "        if word in w2v_words:\n",
    "            vec = w2v_model.wv[word]\n",
    "            sent_vec += vec\n",
    "            cnt_words += 1\n",
    "    if cnt_words != 0:\n",
    "        sent_vec /= cnt_words\n",
    "    sent_vectors_TEST.append(sent_vec)"
   ]
  },
  {
   "cell_type": "code",
   "execution_count": 58,
   "metadata": {},
   "outputs": [
    {
     "name": "stdout",
     "output_type": "stream",
     "text": [
      "(70000, 100)\n",
      "(30000, 100)\n"
     ]
    }
   ],
   "source": [
    "#standardization\n",
    "from sklearn.preprocessing import StandardScaler\n",
    "std = StandardScaler(copy=True, with_mean=False, with_std=True)\n",
    "\n",
    "X_tra = std.fit_transform(sent_vectors_TRAIN)\n",
    "X_tes = std.transform(sent_vectors_TEST)\n",
    "\n",
    "print(X_tra.shape)\n",
    "print(X_tes.shape)"
   ]
  },
  {
   "cell_type": "code",
   "execution_count": 37,
   "metadata": {
    "collapsed": true
   },
   "outputs": [],
   "source": [
    "#from sklearn.model_selection import GridSearchCV\n",
    "from sklearn.linear_model import LogisticRegression\n",
    "from sklearn.model_selection import cross_val_score\n",
    "from sklearn.metrics import roc_curve, auc, make_scorer\n",
    "def custom_auc(ground_truth, predictions):\n",
    "    fpr, tpr, _ = roc_curve(ground_truth, predictions[:, 1], pos_label='positive')    \n",
    "    return auc(fpr, tpr)\n",
    "\n",
    "auc_ = make_scorer(custom_auc, greater_is_better=True, needs_proba=True)\n",
    "\n",
    "c = [0.001,0.01,0.1,1,10,100,1000] # hyper parameter\n",
    "reg = ['l1','l2']\n",
    "dict = {}\n",
    "for i in c:\n",
    "    for j in reg:\n",
    "        clf = LogisticRegression(C=i,penalty=j)\n",
    "        scores = cross_val_score(clf, X_tra, Y_train, scoring=auc_)\n",
    "        dict[i,j] = max(scores)   "
   ]
  },
  {
   "cell_type": "code",
   "execution_count": 38,
   "metadata": {},
   "outputs": [
    {
     "name": "stdout",
     "output_type": "stream",
     "text": [
      "The best value of hyper parameter is  (0.1, 'l1')\n",
      "The best score is  0.923644673862\n"
     ]
    }
   ],
   "source": [
    "#print(dict)\n",
    "import operator\n",
    "c_ = max(dict.items(), key=operator.itemgetter(1))[0]\n",
    "max_auc_score = dict[c_]\n",
    "print('The best value of hyper parameter is ', c_)\n",
    "print('The best score is ', max_auc_score)"
   ]
  },
  {
   "cell_type": "code",
   "execution_count": 39,
   "metadata": {
    "scrolled": true
   },
   "outputs": [
    {
     "name": "stdout",
     "output_type": "stream",
     "text": [
      "Accuracy on test set: 0.85%\n",
      "Precision on test set: 0.86%\n",
      "Recall on test set: 0.84%\n",
      "F1 score on test set: 0.85%\n"
     ]
    },
    {
     "data": {
      "image/png": "[encoded data removed]",
      "text/plain": [
       "<matplotlib.figure.Figure at 0x1db2a33bd68>"
      ]
     },
     "metadata": {},
     "output_type": "display_data"
    }
   ],
   "source": [
    "#training the model with best value of hyper parameter\n",
    "clf = LogisticRegression(C=0.1,penalty='l1')\n",
    "clf.fit(X_tra,Y_train)\n",
    "y_pred = clf.predict(X_tes)\n",
    "\n",
    "import seaborn as sns\n",
    "ax = sns.heatmap(confusion_matrix(Y_test, y_pred), annot=True, fmt='d')\n",
    "\n",
    "print('Accuracy on test set: %0.2f%%'%(accuracy_score(Y_test, y_pred)))\n",
    "print('Precision on test set: %0.2f%%'%(precision_score(Y_test, y_pred, pos_label='positive')))\n",
    "print('Recall on test set: %0.2f%%'%(recall_score(Y_test, y_pred, pos_label='positive')))\n",
    "print('F1 score on test set: %0.2f%%'%(f1_score(Y_test, y_pred, pos_label='positive')))"
   ]
  },
  {
   "cell_type": "code",
   "execution_count": 37,
   "metadata": {},
   "outputs": [
    {
     "name": "stdout",
     "output_type": "stream",
     "text": [
      "Non Zero weights: 100\n"
     ]
    }
   ],
   "source": [
    "from sklearn.linear_model import LogisticRegression\n",
    "\n",
    "clf = LogisticRegression(C= 1000, penalty= 'l1')\n",
    "clf.fit(X_tra,Y_train)\n",
    "print(\"Non Zero weights:\",np.count_nonzero(clf.coef_))"
   ]
  },
  {
   "cell_type": "code",
   "execution_count": 38,
   "metadata": {},
   "outputs": [
    {
     "name": "stdout",
     "output_type": "stream",
     "text": [
      "Non Zero weights: 100\n"
     ]
    }
   ],
   "source": [
    "from sklearn.linear_model import LogisticRegression\n",
    "\n",
    "clf = LogisticRegression(C= 100, penalty= 'l1')\n",
    "clf.fit(X_tra,Y_train)\n",
    "print(\"Non Zero weights:\",np.count_nonzero(clf.coef_))"
   ]
  },
  {
   "cell_type": "code",
   "execution_count": 39,
   "metadata": {},
   "outputs": [
    {
     "name": "stdout",
     "output_type": "stream",
     "text": [
      "Non Zero weights: 100\n"
     ]
    }
   ],
   "source": [
    "from sklearn.linear_model import LogisticRegression\n",
    "\n",
    "clf = LogisticRegression(C= 10, penalty= 'l1')\n",
    "clf.fit(X_tra,Y_train)\n",
    "print(\"Non Zero weights:\",np.count_nonzero(clf.coef_))"
   ]
  },
  {
   "cell_type": "code",
   "execution_count": 40,
   "metadata": {},
   "outputs": [
    {
     "name": "stdout",
     "output_type": "stream",
     "text": [
      "Non Zero weights: 100\n"
     ]
    }
   ],
   "source": [
    "from sklearn.linear_model import LogisticRegression\n",
    "\n",
    "clf = LogisticRegression(C= 1, penalty= 'l1')\n",
    "clf.fit(X_tra,Y_train)\n",
    "print(\"Non Zero weights:\",np.count_nonzero(clf.coef_))"
   ]
  },
  {
   "cell_type": "code",
   "execution_count": 41,
   "metadata": {},
   "outputs": [
    {
     "name": "stdout",
     "output_type": "stream",
     "text": [
      "Non Zero weights: 97\n"
     ]
    }
   ],
   "source": [
    "from sklearn.linear_model import LogisticRegression\n",
    "\n",
    "clf = LogisticRegression(C= 0.1, penalty= 'l1')\n",
    "clf.fit(X_tra,Y_train)\n",
    "print(\"Non Zero weights:\",np.count_nonzero(clf.coef_))"
   ]
  },
  {
   "cell_type": "code",
   "execution_count": 42,
   "metadata": {},
   "outputs": [
    {
     "name": "stdout",
     "output_type": "stream",
     "text": [
      "Non Zero weights: 84\n"
     ]
    }
   ],
   "source": [
    "from sklearn.linear_model import LogisticRegression\n",
    "\n",
    "clf = LogisticRegression(C= 0.01, penalty= 'l1')\n",
    "clf.fit(X_tra,Y_train)\n",
    "print(\"Non Zero weights:\",np.count_nonzero(clf.coef_))"
   ]
  },
  {
   "cell_type": "code",
   "execution_count": 43,
   "metadata": {},
   "outputs": [
    {
     "name": "stdout",
     "output_type": "stream",
     "text": [
      "Non Zero weights: 38\n"
     ]
    }
   ],
   "source": [
    "from sklearn.linear_model import LogisticRegression\n",
    "\n",
    "clf = LogisticRegression(C= 0.001, penalty= 'l1')\n",
    "clf.fit(X_tra,Y_train)\n",
    "print(\"Non Zero weights:\",np.count_nonzero(clf.coef_))"
   ]
  },
  {
   "cell_type": "markdown",
   "metadata": {},
   "source": [
    "# Pertubation test"
   ]
  },
  {
   "cell_type": "code",
   "execution_count": 60,
   "metadata": {},
   "outputs": [
    {
     "name": "stdout",
     "output_type": "stream",
     "text": [
      "Non Zero weights: 99\n"
     ]
    }
   ],
   "source": [
    "from sklearn.linear_model import LogisticRegression\n",
    "clf = LogisticRegression(C=0.1,penalty='l1')\n",
    "clf.fit(X_tra,Y_train)\n",
    "y_pred = clf.predict(X_tes)\n",
    "print(\"Non Zero weights:\",np.count_nonzero(clf.coef_))"
   ]
  },
  {
   "cell_type": "code",
   "execution_count": 61,
   "metadata": {},
   "outputs": [
    {
     "name": "stdout",
     "output_type": "stream",
     "text": [
      "[[-0.18158631  0.38119818 -0.09202783 -0.07280273 -0.19755169  0.21496575\n",
      "  -0.64489484  0.20795525  0.17232091 -0.04112043 -0.01664352 -0.13655291\n",
      "   0.00899827  0.10702985  0.30598386 -0.13418279  0.46211364  0.06027384\n",
      "   0.44568433  0.11333529 -0.26340398  0.1442699   0.15847305 -0.08701019\n",
      "   0.0868698   0.60098747 -0.26132705  0.12207499 -0.07638939  0.41730211\n",
      "   0.14627892  0.34097224  0.15905488  0.19227353 -0.34336696 -0.34050458\n",
      "  -0.18115796  0.24595999  0.21170464 -0.42619317  0.10844331  0.1660308\n",
      "  -0.11335034  0.20127913 -0.08372807 -0.03587241  0.08649826 -0.35402089\n",
      "  -0.14737472  0.18137868 -0.07596315  0.1393826   0.17670217 -0.23495009\n",
      "  -0.10332862 -0.03778506  0.0019195   0.30256063  0.05624048  0.14614739\n",
      "  -0.19764969  0.23365352  0.          0.05402262  0.35195357 -0.03327357\n",
      "   0.01133252 -0.14470742 -0.0697396   0.03274746  0.16604023 -0.1909839\n",
      "  -0.0417343   0.15996682  0.10433504 -0.11667993 -0.19164354 -0.04652345\n",
      "   0.17114517  0.35356508 -0.13221579 -0.43981646  0.06399263 -0.12737645\n",
      "   0.07274048  0.02621131  0.18515549 -0.14035184  0.23022963 -0.06767861\n",
      "   0.03051151  0.07854888  0.09346702  0.24304277 -0.04616882  0.21735618\n",
      "   0.10704361  0.12215169 -0.08535638  0.08026537]]\n"
     ]
    }
   ],
   "source": [
    "#weights as of now\n",
    "#from scipy.sparse import find\n",
    "w1 = clf.coef_\n",
    "#w1 = find(clf.coef_[0])[2]\n",
    "print(w1[:50])"
   ]
  },
  {
   "cell_type": "code",
   "execution_count": 62,
   "metadata": {
    "collapsed": true
   },
   "outputs": [],
   "source": [
    "X_tra_noise = X_tra\n",
    "eps = np.random.uniform(low=-0.0001, high=0.0001, size=(find(X_tra_noise)[0].size,)) #noise\n",
    "#Getting the postions(row and column) and value of non-zero datapoints \n",
    "a,b,c = find(X_tra_noise)\n",
    "\n",
    "#adding noise to non-zero datapoints\n",
    "X_tra_noise[a,b] = eps + X_tra_noise[a,b]"
   ]
  },
  {
   "cell_type": "code",
   "execution_count": 63,
   "metadata": {},
   "outputs": [
    {
     "name": "stdout",
     "output_type": "stream",
     "text": [
      "Non Zero weights: 99\n"
     ]
    }
   ],
   "source": [
    "#training with noise\n",
    "from sklearn.linear_model import LogisticRegression\n",
    "\n",
    "clf = LogisticRegression(C= 0.1, penalty= 'l1')\n",
    "clf.fit(X_tra_noise,Y_train)\n",
    "y_pred = clf.predict(X_tes)\n",
    "print(\"Non Zero weights:\",np.count_nonzero(clf.coef_))"
   ]
  },
  {
   "cell_type": "code",
   "execution_count": 64,
   "metadata": {},
   "outputs": [
    {
     "name": "stdout",
     "output_type": "stream",
     "text": [
      "[[-0.18252952  0.38205685 -0.09217313 -0.07287893 -0.19799611  0.2140811\n",
      "  -0.64564881  0.20801356  0.17243406 -0.04119817 -0.01282879 -0.13707193\n",
      "   0.00814292  0.10724993  0.30507217 -0.13214768  0.4623082   0.06005151\n",
      "   0.44559401  0.11296866 -0.2644223   0.14354152  0.15868571 -0.0870517\n",
      "   0.08717443  0.60096739 -0.26147338  0.12137926 -0.07736252  0.41800545\n",
      "   0.14658514  0.34142445  0.15878385  0.19253179 -0.34261884 -0.34092738\n",
      "  -0.18099852  0.24701538  0.2122671  -0.4259079   0.10861525  0.16698056\n",
      "  -0.11425177  0.20141171 -0.08254602 -0.03597477  0.08669084 -0.35404432\n",
      "  -0.14765196  0.1816485  -0.07584045  0.14022324  0.17635344 -0.23486112\n",
      "  -0.10395466 -0.03790181  0.00109785  0.30223499  0.05666679  0.14659223\n",
      "  -0.19757293  0.23369665  0.          0.05413219  0.35188394 -0.03309335\n",
      "   0.01134001 -0.14483555 -0.06953758  0.03208529  0.1661607  -0.19124963\n",
      "  -0.0416257   0.16063381  0.10550848 -0.11635489 -0.19146078 -0.04576992\n",
      "   0.17088263  0.3538584  -0.1328382  -0.43893991  0.06387703 -0.12680545\n",
      "   0.07261439  0.02585786  0.18455627 -0.14050602  0.22994838 -0.06717813\n",
      "   0.02970938  0.07804859  0.09289134  0.2422038  -0.04606938  0.21789478\n",
      "   0.10738097  0.12211586 -0.08537625  0.07975664]]\n"
     ]
    }
   ],
   "source": [
    "#weights after adding noise\n",
    "w2 = clf.coef_\n",
    "#w2 = find(clf.coef_[0])[2]\n",
    "print(w2[:50])"
   ]
  },
  {
   "cell_type": "code",
   "execution_count": 68,
   "metadata": {
    "collapsed": true
   },
   "outputs": [],
   "source": [
    "w1 += 1e-6\n",
    "w2 += 1e-6"
   ]
  },
  {
   "cell_type": "code",
   "execution_count": 69,
   "metadata": {},
   "outputs": [
    {
     "name": "stdout",
     "output_type": "stream",
     "text": [
      "34.5164957086\n"
     ]
    }
   ],
   "source": [
    "#percentage difference\n",
    "diff = abs(w1 - w2)\n",
    "change = np.sum(diff/w1)*100\n",
    "print(change)"
   ]
  },
  {
   "cell_type": "markdown",
   "metadata": {},
   "source": [
    "# TF-IDF weighted W2V"
   ]
  },
  {
   "cell_type": "code",
   "execution_count": 70,
   "metadata": {
    "collapsed": true
   },
   "outputs": [],
   "source": [
    "tfidf_vect = TfidfVectorizer()\n",
    "final_tfidf = tfidf_vect.fit_transform(X_train)\n",
    "\n",
    "tfidf_feat = tfidf_vect.get_feature_names()\n",
    "\n",
    "tfidf_sent_vectors_tr = []\n",
    "row=0\n",
    "for sent in list_of_sent: \n",
    "    sent_vec = np.zeros(100) \n",
    "    weight_sum =0\n",
    "    for word in sent:\n",
    "        if word in w2v_words:\n",
    "            vec = w2v_model.wv[word]\n",
    "            tf_idf = final_tfidf[row, tfidf_feat.index(word)]\n",
    "            sent_vec += (vec * tf_idf)\n",
    "            weight_sum += tf_idf\n",
    "    if weight_sum != 0:\n",
    "        sent_vec /= weight_sum\n",
    "    tfidf_sent_vectors_tr.append(sent_vec)\n",
    "    row += 1"
   ]
  },
  {
   "cell_type": "code",
   "execution_count": 71,
   "metadata": {
    "collapsed": true
   },
   "outputs": [],
   "source": [
    "tfidf_sent_vectors_TEST = [];\n",
    "row=0\n",
    "for sent in list_of_sent_test:  \n",
    "    sent_vec = np.zeros(100) \n",
    "    weight_sum =0\n",
    "    for word in sent: \n",
    "        if word in w2v_words:\n",
    "            vec = w2v_model.wv[word]\n",
    "            tf_idf = final_tfidf[row, tfidf_feat.index(word)]\n",
    "            sent_vec += (vec * tf_idf)\n",
    "            weight_sum += tf_idf\n",
    "    if weight_sum != 0:\n",
    "        sent_vec /= weight_sum\n",
    "    tfidf_sent_vectors_TEST.append(sent_vec)\n",
    "    row += 1    "
   ]
  },
  {
   "cell_type": "code",
   "execution_count": 72,
   "metadata": {},
   "outputs": [
    {
     "name": "stdout",
     "output_type": "stream",
     "text": [
      "(70000, 100)\n",
      "(30000, 100)\n"
     ]
    }
   ],
   "source": [
    "#standardization\n",
    "from sklearn.preprocessing import StandardScaler\n",
    "std = StandardScaler(copy=True, with_mean=False, with_std=True)\n",
    "\n",
    "X_tra = std.fit_transform(sent_vectors_TRAIN)\n",
    "X_tes = std.transform(sent_vectors_TEST)\n",
    "\n",
    "print(X_tra.shape)\n",
    "print(X_tes.shape)"
   ]
  },
  {
   "cell_type": "code",
   "execution_count": 44,
   "metadata": {
    "collapsed": true
   },
   "outputs": [],
   "source": [
    "#from sklearn.model_selection import GridSearchCV\n",
    "from sklearn.linear_model import LogisticRegression\n",
    "from sklearn.model_selection import cross_val_score\n",
    "from sklearn.metrics import roc_curve, auc, make_scorer\n",
    "def custom_auc(ground_truth, predictions):\n",
    "    fpr, tpr, _ = roc_curve(ground_truth, predictions[:, 1], pos_label='positive')    \n",
    "    return auc(fpr, tpr)\n",
    "\n",
    "auc_ = make_scorer(custom_auc, greater_is_better=True, needs_proba=True)\n",
    "\n",
    "c = [0.001,0.01,0.1,1,10,100,1000] # hyper parameter\n",
    "reg = ['l1','l2']\n",
    "dict = {}\n",
    "for i in c:\n",
    "    for j in reg:\n",
    "        clf = LogisticRegression(C=i,penalty=j)\n",
    "        scores = cross_val_score(clf, X_tra, Y_train, scoring=auc_)\n",
    "        dict[i,j] = max(scores)   "
   ]
  },
  {
   "cell_type": "code",
   "execution_count": 45,
   "metadata": {},
   "outputs": [
    {
     "name": "stdout",
     "output_type": "stream",
     "text": [
      "The best value of hyper parameter is  (0.1, 'l1')\n",
      "The best score is  0.92364431382\n"
     ]
    }
   ],
   "source": [
    "#print(dict)\n",
    "import operator\n",
    "c_ = max(dict.items(), key=operator.itemgetter(1))[0]\n",
    "max_auc_score = dict[c_]\n",
    "print('The best value of hyper parameter is ', c_)\n",
    "print('The best score is ', max_auc_score)"
   ]
  },
  {
   "cell_type": "code",
   "execution_count": 47,
   "metadata": {},
   "outputs": [
    {
     "name": "stdout",
     "output_type": "stream",
     "text": [
      "Accuracy on test set: 0.85%\n",
      "Precision on test set: 0.86%\n",
      "Recall on test set: 0.84%\n",
      "F1 score on test set: 0.85%\n"
     ]
    },
    {
     "data": {
      "image/png": "[encoded data removed]",
      "text/plain": [
       "<matplotlib.figure.Figure at 0x1db32092a90>"
      ]
     },
     "metadata": {},
     "output_type": "display_data"
    }
   ],
   "source": [
    "#training the model with best value of hyper parameter\n",
    "clf = LogisticRegression(C=0.1,penalty='l1')\n",
    "clf.fit(X_tra,Y_train)\n",
    "y_pred = clf.predict(X_tes)\n",
    "\n",
    "import seaborn as sns\n",
    "ax = sns.heatmap(confusion_matrix(Y_test, y_pred), annot=True, fmt='d')\n",
    "\n",
    "print('Accuracy on test set: %0.2f%%'%(accuracy_score(Y_test, y_pred)))\n",
    "print('Precision on test set: %0.2f%%'%(precision_score(Y_test, y_pred, pos_label='positive')))\n",
    "print('Recall on test set: %0.2f%%'%(recall_score(Y_test, y_pred, pos_label='positive')))\n",
    "print('F1 score on test set: %0.2f%%'%(f1_score(Y_test, y_pred, pos_label='positive')))"
   ]
  },
  {
   "cell_type": "code",
   "execution_count": 47,
   "metadata": {},
   "outputs": [
    {
     "name": "stdout",
     "output_type": "stream",
     "text": [
      "Non Zero weights: 100\n"
     ]
    }
   ],
   "source": [
    "from sklearn.linear_model import LogisticRegression\n",
    "\n",
    "clf = LogisticRegression(C= 1000, penalty= 'l1')\n",
    "clf.fit(X_tra,Y_train)\n",
    "print(\"Non Zero weights:\",np.count_nonzero(clf.coef_))"
   ]
  },
  {
   "cell_type": "code",
   "execution_count": 48,
   "metadata": {},
   "outputs": [
    {
     "name": "stdout",
     "output_type": "stream",
     "text": [
      "Non Zero weights: 100\n"
     ]
    }
   ],
   "source": [
    "from sklearn.linear_model import LogisticRegression\n",
    "\n",
    "clf = LogisticRegression(C= 100, penalty= 'l1')\n",
    "clf.fit(X_tra,Y_train)\n",
    "print(\"Non Zero weights:\",np.count_nonzero(clf.coef_))"
   ]
  },
  {
   "cell_type": "code",
   "execution_count": 49,
   "metadata": {},
   "outputs": [
    {
     "name": "stdout",
     "output_type": "stream",
     "text": [
      "Non Zero weights: 100\n"
     ]
    }
   ],
   "source": [
    "from sklearn.linear_model import LogisticRegression\n",
    "\n",
    "clf = LogisticRegression(C= 10, penalty= 'l1')\n",
    "clf.fit(X_tra,Y_train)\n",
    "print(\"Non Zero weights:\",np.count_nonzero(clf.coef_))"
   ]
  },
  {
   "cell_type": "code",
   "execution_count": 50,
   "metadata": {},
   "outputs": [
    {
     "name": "stdout",
     "output_type": "stream",
     "text": [
      "Non Zero weights: 100\n"
     ]
    }
   ],
   "source": [
    "from sklearn.linear_model import LogisticRegression\n",
    "\n",
    "clf = LogisticRegression(C= 1, penalty= 'l1')\n",
    "clf.fit(X_tra,Y_train)\n",
    "print(\"Non Zero weights:\",np.count_nonzero(clf.coef_))"
   ]
  },
  {
   "cell_type": "code",
   "execution_count": 51,
   "metadata": {},
   "outputs": [
    {
     "name": "stdout",
     "output_type": "stream",
     "text": [
      "Non Zero weights: 96\n"
     ]
    }
   ],
   "source": [
    "from sklearn.linear_model import LogisticRegression\n",
    "\n",
    "clf = LogisticRegression(C= 0.1, penalty= 'l1')\n",
    "clf.fit(X_tra,Y_train)\n",
    "print(\"Non Zero weights:\",np.count_nonzero(clf.coef_))"
   ]
  },
  {
   "cell_type": "code",
   "execution_count": 52,
   "metadata": {},
   "outputs": [
    {
     "name": "stdout",
     "output_type": "stream",
     "text": [
      "Non Zero weights: 84\n"
     ]
    }
   ],
   "source": [
    "from sklearn.linear_model import LogisticRegression\n",
    "\n",
    "clf = LogisticRegression(C= 0.01, penalty= 'l1')\n",
    "clf.fit(X_tra,Y_train)\n",
    "print(\"Non Zero weights:\",np.count_nonzero(clf.coef_))"
   ]
  },
  {
   "cell_type": "code",
   "execution_count": 53,
   "metadata": {},
   "outputs": [
    {
     "name": "stdout",
     "output_type": "stream",
     "text": [
      "Non Zero weights: 38\n"
     ]
    }
   ],
   "source": [
    "from sklearn.linear_model import LogisticRegression\n",
    "\n",
    "clf = LogisticRegression(C= 0.001, penalty= 'l1')\n",
    "clf.fit(X_tra,Y_train)\n",
    "print(\"Non Zero weights:\",np.count_nonzero(clf.coef_))"
   ]
  },
  {
   "cell_type": "code",
   "execution_count": 54,
   "metadata": {},
   "outputs": [
    {
     "name": "stdout",
     "output_type": "stream",
     "text": [
      "Non Zero weights: 6\n"
     ]
    }
   ],
   "source": [
    "from sklearn.linear_model import LogisticRegression\n",
    "\n",
    "clf = LogisticRegression(C= 0.0001, penalty= 'l1')\n",
    "clf.fit(X_tra,Y_train)\n",
    "print(\"Non Zero weights:\",np.count_nonzero(clf.coef_))"
   ]
  },
  {
   "cell_type": "markdown",
   "metadata": {
    "collapsed": true
   },
   "source": [
    "# Pertubation test"
   ]
  },
  {
   "cell_type": "code",
   "execution_count": 73,
   "metadata": {},
   "outputs": [
    {
     "name": "stdout",
     "output_type": "stream",
     "text": [
      "Non Zero weights: 99\n"
     ]
    }
   ],
   "source": [
    "from sklearn.linear_model import LogisticRegression\n",
    "clf = LogisticRegression(C=0.1,penalty='l1')\n",
    "clf.fit(X_tra,Y_train)\n",
    "y_pred = clf.predict(X_tes)\n",
    "print(\"Non Zero weights:\",np.count_nonzero(clf.coef_))"
   ]
  },
  {
   "cell_type": "code",
   "execution_count": 74,
   "metadata": {},
   "outputs": [
    {
     "name": "stdout",
     "output_type": "stream",
     "text": [
      "[[-0.18223168  0.38221252 -0.0920652  -0.07282922 -0.19702009  0.21465219\n",
      "  -0.64489108  0.20801944  0.17223961 -0.04107001 -0.01392369 -0.1366491\n",
      "   0.00894116  0.10717701  0.30568782 -0.1335935   0.46110311  0.05968478\n",
      "   0.44543751  0.11270381 -0.26394702  0.14368283  0.15851288 -0.08691142\n",
      "   0.08689471  0.60101595 -0.26097858  0.12285286 -0.0767456   0.41809561\n",
      "   0.14606642  0.34083519  0.15888527  0.19235032 -0.34291363 -0.34072884\n",
      "  -0.18085789  0.24567931  0.21165005 -0.42569402  0.10874061  0.16631364\n",
      "  -0.11382886  0.20161458 -0.08303451 -0.03576965  0.08665644 -0.35360424\n",
      "  -0.14728156  0.18199813 -0.07605339  0.13945516  0.177001   -0.23490367\n",
      "  -0.10417024 -0.03785996  0.00150955  0.30231244  0.05654073  0.14697502\n",
      "  -0.19762291  0.23333842  0.          0.05416984  0.35200829 -0.03309625\n",
      "   0.01193504 -0.1445059  -0.06964518  0.03268704  0.16611809 -0.19086924\n",
      "  -0.04195351  0.1606357   0.10542183 -0.11655337 -0.19130028 -0.04597737\n",
      "   0.17099587  0.354102   -0.13261705 -0.43984376  0.06395096 -0.1272518\n",
      "   0.07279984  0.02631555  0.18474854 -0.14045354  0.228797   -0.06758889\n",
      "   0.0306788   0.07801081  0.09332348  0.24233581 -0.04625523  0.21764206\n",
      "   0.1074158   0.12245652 -0.08548672  0.08048118]]\n"
     ]
    }
   ],
   "source": [
    "#weights as of now\n",
    "#from scipy.sparse import find\n",
    "w1 = clf.coef_\n",
    "#w1 = find(clf.coef_[0])[2]\n",
    "print(w1[:50])"
   ]
  },
  {
   "cell_type": "code",
   "execution_count": 75,
   "metadata": {
    "collapsed": true
   },
   "outputs": [],
   "source": [
    "X_tra_noise = X_tra\n",
    "eps = np.random.uniform(low=-0.0001, high=0.0001, size=(find(X_tra_noise)[0].size,)) #noise\n",
    "#Getting the postions(row and column) and value of non-zero datapoints \n",
    "a,b,c = find(X_tra_noise)\n",
    "\n",
    "#adding noise to non-zero datapoints\n",
    "X_tra_noise[a,b] = eps + X_tra_noise[a,b]"
   ]
  },
  {
   "cell_type": "code",
   "execution_count": 76,
   "metadata": {},
   "outputs": [
    {
     "name": "stdout",
     "output_type": "stream",
     "text": [
      "Non Zero weights: 99\n"
     ]
    }
   ],
   "source": [
    "#training with noise\n",
    "from sklearn.linear_model import LogisticRegression\n",
    "\n",
    "clf = LogisticRegression(C= 0.1, penalty= 'l1')\n",
    "clf.fit(X_tra_noise,Y_train)\n",
    "y_pred = clf.predict(X_tes)\n",
    "print(\"Non Zero weights:\",np.count_nonzero(clf.coef_))"
   ]
  },
  {
   "cell_type": "code",
   "execution_count": 77,
   "metadata": {},
   "outputs": [
    {
     "name": "stdout",
     "output_type": "stream",
     "text": [
      "[[-0.18126851  0.38082001 -0.09212571 -0.07277266 -0.19730095  0.21490739\n",
      "  -0.64477488  0.20798752  0.17230835 -0.04127824 -0.01770499 -0.13657093\n",
      "   0.00908172  0.10707785  0.30627842 -0.13398352  0.46251303  0.06049351\n",
      "   0.44552357  0.11347736 -0.26303823  0.14427457  0.15837048 -0.08704522\n",
      "   0.0869209   0.60087723 -0.26150073  0.12135094 -0.07624733  0.41714106\n",
      "   0.14634579  0.3408232   0.15914703  0.19224175 -0.34357037 -0.34051218\n",
      "  -0.18134371  0.246241    0.21163787 -0.42641158  0.10836654  0.165838\n",
      "  -0.11332846  0.20119898 -0.08401883 -0.0359514   0.08636915 -0.35397042\n",
      "  -0.1474301   0.18101034 -0.07584167  0.13921938  0.1766419  -0.23499468\n",
      "  -0.10294827 -0.03787529  0.00208052  0.30258686  0.05602757  0.14574431\n",
      "  -0.19753864  0.23386657  0.          0.05399752  0.35188908 -0.03323782\n",
      "   0.01104537 -0.14460001 -0.06979679  0.03275744  0.16598476 -0.19107704\n",
      "  -0.0416593   0.15997905  0.10404817 -0.11673262 -0.19163136 -0.04670805\n",
      "   0.17136427  0.35334917 -0.13200468 -0.43969219  0.06403919 -0.1273519\n",
      "   0.07270517  0.02600912  0.18528027 -0.14017548  0.23082054 -0.0674759\n",
      "   0.03021664  0.07877736  0.09353636  0.24328731 -0.04616602  0.21735924\n",
      "   0.10695778  0.12195824 -0.08541121  0.0800687 ]]\n"
     ]
    }
   ],
   "source": [
    "#weights after adding noise\n",
    "w2 = clf.coef_\n",
    "#w2 = find(clf.coef_[0])[2]\n",
    "print(w2[:50])"
   ]
  },
  {
   "cell_type": "code",
   "execution_count": 78,
   "metadata": {
    "collapsed": true
   },
   "outputs": [],
   "source": [
    "w1 += 1e-6\n",
    "w2 += 1e-6"
   ]
  },
  {
   "cell_type": "code",
   "execution_count": 79,
   "metadata": {},
   "outputs": [
    {
     "name": "stdout",
     "output_type": "stream",
     "text": [
      "27.3359375802\n"
     ]
    }
   ],
   "source": [
    "#percentage difference\n",
    "diff = abs(w1 - w2)\n",
    "change = (np.sum(diff/w1))*100\n",
    "print(change)"
   ]
  },
  {
   "cell_type": "code",
   "execution_count": null,
   "metadata": {
    "collapsed": true
   },
   "outputs": [],
   "source": []
  }
 ],
 "metadata": {
  "kernelspec": {
   "display_name": "Python 3",
   "language": "python",
   "name": "python3"
  },
  "language_info": {
   "codemirror_mode": {
    "name": "ipython",
    "version": 3
   },
   "file_extension": ".py",
   "mimetype": "text/x-python",
   "name": "python",
   "nbconvert_exporter": "python",
   "pygments_lexer": "ipython3",
   "version": "3.6.2"
  }
 },
 "nbformat": 4,
 "nbformat_minor": 2
}
