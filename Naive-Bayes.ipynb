{
 "cells": [
  {
   "cell_type": "markdown",
   "metadata": {},
   "source": [
    "# Amazon Fine Food Reviews Analysis\n",
    "\n",
    "\n",
    "Data Source: https://www.kaggle.com/snap/amazon-fine-food-reviews <br>\n",
    "\n",
    "EDA: https://nycdatascience.com/blog/student-works/amazon-fine-foods-visualization/\n",
    "\n",
    "\n",
    "The Amazon Fine Food Reviews dataset consists of reviews of fine foods from Amazon.<br>\n",
    "\n",
    "Number of reviews: 568,454<br>\n",
    "Number of users: 256,059<br>\n",
    "Number of products: 74,258<br>\n",
    "Timespan: Oct 1999 - Oct 2012<br>\n",
    "Number of Attributes/Columns in data: 10 \n",
    "\n",
    "Attribute Information:\n",
    "\n",
    "1. Id\n",
    "2. ProductId - unique identifier for the product\n",
    "3. UserId - unqiue identifier for the user\n",
    "4. ProfileName\n",
    "5. HelpfulnessNumerator - number of users who found the review helpful\n",
    "6. HelpfulnessDenominator - number of users who indicated whether they found the review helpful or not\n",
    "7. Score - rating between 1 and 5\n",
    "8. Time - timestamp for the review\n",
    "9. Summary - brief summary of the review\n",
    "10. Text - text of the review\n",
    "\n",
    "\n",
    "#### Objective:\n",
    "Given a review, determine whether the review is positive (rating of 4 or 5) or negative (rating of 1 or 2).\n",
    "\n",
    "<br>\n",
    "[Q] How to determine if a review is positive or negative?<br>\n",
    "<br> \n",
    "[Ans] We could use Score/Rating. A rating of 4 or 5 can be cosnidered as a positive review. A rating of 1 or 2 can be considered as negative one. A review of rating 3 is considered nuetral and such reviews are ignored from our analysis. This is an approximate and proxy way of determining the polarity (positivity/negativity) of a review."
   ]
  },
  {
   "cell_type": "markdown",
   "metadata": {},
   "source": [
    "# [1] Read Data"
   ]
  },
  {
   "cell_type": "markdown",
   "metadata": {},
   "source": [
    "## [1.1] Loading the data\n",
    "\n",
    "The dataset is available in two forms\n",
    "1. .csv file\n",
    "2. SQLite Database\n",
    "\n",
    "In order to load the data, We have used the SQLITE dataset as it is easier to query the data and visualise the data efficiently.\n",
    "<br> \n",
    "\n",
    "Here as we only want to get the global sentiment of the recommendations (positive or negative), we will purposefully ignore all Scores equal to 3. If the score is above 3, then the recommendation wil be set to \"positive\". Otherwise, it will be set to \"negative\"."
   ]
  },
  {
   "cell_type": "code",
   "execution_count": 1,
   "metadata": {},
   "outputs": [
    {
     "name": "stderr",
     "output_type": "stream",
     "text": [
      "C:\\Users\\chauh\\Anaconda3\\lib\\site-packages\\gensim\\utils.py:1212: UserWarning: detected Windows; aliasing chunkize to chunkize_serial\n",
      "  warnings.warn(\"detected Windows; aliasing chunkize to chunkize_serial\")\n"
     ]
    }
   ],
   "source": [
    "%matplotlib inline\n",
    "import numpy as np\n",
    "import pandas as pd\n",
    "import matplotlib.pyplot as plt\n",
    "import sqlite3 as sql\n",
    "import seaborn as sns\n",
    "import random\n",
    "import gensim\n",
    "import nltk\n",
    "from sklearn.feature_extraction.text import CountVectorizer\n",
    "from sklearn.feature_extraction.text import TfidfVectorizer\n",
    "from sklearn.model_selection import train_test_split\n",
    "from sklearn import preprocessing\n",
    "import warnings\n",
    "warnings.filterwarnings(\"ignore\")\n",
    "from sklearn.metrics import accuracy_score\n",
    "from sklearn.metrics import confusion_matrix\n",
    "from sklearn.metrics import precision_score\n",
    "from sklearn.metrics import f1_score\n",
    "from sklearn.metrics import recall_score"
   ]
  },
  {
   "cell_type": "code",
   "execution_count": 2,
   "metadata": {
    "collapsed": true
   },
   "outputs": [],
   "source": [
    "con = sql.connect('D:/Work/database.sqlite')"
   ]
  },
  {
   "cell_type": "code",
   "execution_count": 3,
   "metadata": {},
   "outputs": [
    {
     "data": {
      "text/plain": [
       "(525814, 10)"
      ]
     },
     "execution_count": 3,
     "metadata": {},
     "output_type": "execute_result"
    }
   ],
   "source": [
    "filtered_data = pd.read_sql_query(\"\"\"select * from Reviews where Score != 3\"\"\", con)\n",
    "filtered_data.shape"
   ]
  },
  {
   "cell_type": "code",
   "execution_count": 4,
   "metadata": {
    "collapsed": true
   },
   "outputs": [],
   "source": [
    "def partition(x):\n",
    "    if x < 3:\n",
    "        return 'negative'\n",
    "    else:\n",
    "        return 'positive'"
   ]
  },
  {
   "cell_type": "code",
   "execution_count": 5,
   "metadata": {
    "collapsed": true,
    "scrolled": true
   },
   "outputs": [],
   "source": [
    "actual_score = filtered_data['Score']\n",
    "posneg = actual_score.map(partition)\n",
    "filtered_data['Score'] = posneg\n",
    "\n",
    "sorted_data = filtered_data.sort_values('ProductId', axis=0, ascending= True, inplace= False, kind= 'quicksort', na_position='last')\n",
    "final = sorted_data.drop_duplicates(subset={'UserId', 'ProfileName', 'Time', 'Text'}, keep='first', inplace=False)\n",
    "\n",
    "final = final[final.HelpfulnessNumerator <= final.HelpfulnessDenominator]"
   ]
  },
  {
   "cell_type": "markdown",
   "metadata": {},
   "source": [
    "# [2] Data pre-processing"
   ]
  },
  {
   "cell_type": "code",
   "execution_count": 6,
   "metadata": {},
   "outputs": [
    {
     "name": "stdout",
     "output_type": "stream",
     "text": [
      "6\n",
      "I set aside at least an hour each day to read to my son (3 y/o). At this point, I consider myself a connoisseur of children's books and this is one of the best. Santa Clause put this under the tree. Since then, we've read it perpetually and he loves it.<br /><br />First, this book taught him the months of the year.<br /><br />Second, it's a pleasure to read. Well suited to 1.5 y/o old to 4+.<br /><br />Very few children's books are worth owning. Most should be borrowed from the library. This book, however, deserves a permanent spot on your shelf. Sendak's best.\n"
     ]
    }
   ],
   "source": [
    "import re\n",
    "import string\n",
    "from nltk.corpus import stopwords\n",
    "from nltk.stem.porter import PorterStemmer\n",
    "from nltk.stem import WordNetLemmatizer\n",
    "\n",
    "i=0\n",
    "for sent in final['Text'].values:\n",
    "    if len(re.findall('<.*?',sent)):\n",
    "        print(i)\n",
    "        print(sent)\n",
    "        break\n",
    "    i += 1    "
   ]
  },
  {
   "cell_type": "code",
   "execution_count": 7,
   "metadata": {},
   "outputs": [
    {
     "name": "stdout",
     "output_type": "stream",
     "text": [
      "{'it', 'after', \"hasn't\", 'she', 'when', \"wouldn't\", \"don't\", 'wouldn', 'while', 'to', 'under', 'doesn', 'hasn', 'against', \"haven't\", 'just', 'between', 'your', \"should've\", 'didn', 'nor', \"she's\", \"didn't\", \"couldn't\", 'over', 'why', 'so', 'hadn', 'be', 't', 'most', 'into', 'at', 'him', 'o', 'theirs', 'shan', 'you', 'been', 'myself', 'is', 'do', 'who', 'that', \"that'll\", 'aren', \"needn't\", 'their', 'will', 'll', 'up', 'on', 'this', 'were', 'how', 'off', 'no', 'itself', 'where', 're', 'm', 'don', 'which', 'other', 'because', 'some', 'down', 'herself', 'only', 'ours', \"hadn't\", 'his', 'yours', 'the', \"you'll\", 'any', 'same', \"aren't\", 'both', \"shouldn't\", 'now', 'those', 'too', 'have', \"it's\", 'yourselves', 'shouldn', 'her', 'can', \"wasn't\", 'during', 'ma', 'they', 'as', 'not', 'an', 'what', 'y', 'or', \"won't\", 'and', 'then', 'am', 'a', 'for', 'having', 'in', 'was', 'mightn', 'through', 'about', 'yourself', 'are', 'here', 'all', 'very', 'but', 'by', 'further', 's', \"you're\", 'weren', 'himself', \"you've\", 'had', 'has', 'of', 'should', \"mightn't\", 'these', 'ain', 'won', 'does', 'below', 'than', 'them', 'wasn', \"doesn't\", 'until', \"mustn't\", 'we', 'i', 'hers', 'did', 'more', \"weren't\", 'd', 'once', \"you'd\", \"shan't\", 'haven', 'needn', 'such', 'being', 'there', 'doing', 'my', 've', 'if', 'from', \"isn't\", 'he', 'ourselves', 'its', 'few', 'couldn', 'out', 'themselves', 'whom', 'each', 'again', 'with', 'me', 'above', 'own', 'isn', 'mustn', 'our', 'before'}\n"
     ]
    }
   ],
   "source": [
    "stop = set(stopwords.words('english')) #set of stopwords\n",
    "sno = nltk.stem.SnowballStemmer('english') #initialising the snowball stemmer\n",
    "\n",
    "def cleanhtml(sentence): #function to clean the word of any html-tags\n",
    "    cleanr = re.compile('<.*?>')\n",
    "    cleantext = re.sub(cleanr, ' ', sentence)\n",
    "    return cleantext\n",
    "def cleanpunc(sentence): #function to clean the word of any punctuation or special characters\n",
    "    cleaned = re.sub(r'[?|!|\\'|\"|#]',r'',sentence)\n",
    "    cleaned = re.sub(r'[.|,|)|(|\\|/]',r' ',cleaned)\n",
    "    return  cleaned\n",
    "print(stop)"
   ]
  },
  {
   "cell_type": "code",
   "execution_count": 8,
   "metadata": {},
   "outputs": [
    {
     "name": "stdout",
     "output_type": "stream",
     "text": [
      "time taken =  800.5755617618561\n"
     ]
    }
   ],
   "source": [
    "import time\n",
    "t1 = time.time()\n",
    "i=0\n",
    "str1=' '\n",
    "final_string=[]\n",
    "all_positive_words=[] # store words from +ve reviews here\n",
    "all_negative_words=[] # store words from -ve reviews here.\n",
    "s=''\n",
    "for sent in final['Text'].values:\n",
    "    filtered_sentence=[]\n",
    "    #print(sent)\n",
    "    sent=cleanhtml(sent) # remove HTMl tags\n",
    "    for w in sent.split():\n",
    "        for cleaned_words in cleanpunc(w).split():\n",
    "            if((cleaned_words.isalpha()) & (len(cleaned_words)>2)):    \n",
    "                if(cleaned_words.lower() not in stop):\n",
    "                    s=(sno.stem(cleaned_words.lower())).encode('utf8')\n",
    "                    filtered_sentence.append(s)\n",
    "                    if (final['Score'].values)[i] == 'positive': \n",
    "                        all_positive_words.append(s) #list of all words used to describe positive reviews\n",
    "                    if(final['Score'].values)[i] == 'negative':\n",
    "                        all_negative_words.append(s) #list of all words used to describe negative reviews reviews\n",
    "                else:\n",
    "                    continue\n",
    "            else:\n",
    "                continue \n",
    "    #print(filtered_sentence)\n",
    "    str1 = b\" \".join(filtered_sentence) #final string of cleaned words\n",
    "    #print(\"***********************************************************************\")\n",
    "    \n",
    "    final_string.append(str1)\n",
    "    i+=1\n",
    "print(\"time taken = \", time.time()-t1)    "
   ]
  },
  {
   "cell_type": "code",
   "execution_count": 9,
   "metadata": {
    "collapsed": true
   },
   "outputs": [],
   "source": [
    "final['CleanedText']=final_string\n",
    "final['CleanedText']=final['CleanedText'].str.decode(\"utf-8\")\n",
    "conn = sql.connect('final.sqlite')\n",
    "c=conn.cursor()\n",
    "conn.text_factory = str\n",
    "final.to_sql('Reviews', conn,  schema=None, if_exists='replace', index=True, index_label=None, chunksize=None, dtype=None)"
   ]
  },
  {
   "cell_type": "code",
   "execution_count": 10,
   "metadata": {},
   "outputs": [
    {
     "data": {
      "text/plain": [
       "positive    307061\n",
       "negative     57110\n",
       "Name: Score, dtype: int64"
      ]
     },
     "execution_count": 10,
     "metadata": {},
     "output_type": "execute_result"
    }
   ],
   "source": [
    "final['Score'].value_counts()"
   ]
  },
  {
   "cell_type": "code",
   "execution_count": 11,
   "metadata": {},
   "outputs": [
    {
     "name": "stdout",
     "output_type": "stream",
     "text": [
      "(110000, 11)\n"
     ]
    }
   ],
   "source": [
    "# down sampling to make the dataset balanced.\n",
    "pos = final[final['Score']=='positive'].sample(n = 55000 )\n",
    "neg = final[final['Score']=='negative'].sample(n = 55000)\n",
    "final_ = pd.concat([pos,neg])\n",
    "print(final_.shape)"
   ]
  },
  {
   "cell_type": "code",
   "execution_count": 12,
   "metadata": {
    "collapsed": true
   },
   "outputs": [],
   "source": [
    "data_sorted = final_.sort_values(by=['Time'], ascending=True)\n",
    "data_sorted = data_sorted[['Id','ProductId','UserId','ProfileName','HelpfulnessNumerator','HelpfulnessDenominator','Time','Summary','Text','CleanedText','Score']]"
   ]
  },
  {
   "cell_type": "code",
   "execution_count": 13,
   "metadata": {
    "collapsed": true
   },
   "outputs": [],
   "source": [
    "# data split\n",
    "X_train, X_test, Y_train, Y_test = train_test_split(data_sorted['CleanedText'].values, data_sorted['Score'].values, test_size = 0.3)"
   ]
  },
  {
   "cell_type": "markdown",
   "metadata": {},
   "source": [
    "# [3] Featurization"
   ]
  },
  {
   "cell_type": "markdown",
   "metadata": {},
   "source": [
    "# [3.1] BoW"
   ]
  },
  {
   "cell_type": "code",
   "execution_count": 14,
   "metadata": {},
   "outputs": [
    {
     "name": "stdout",
     "output_type": "stream",
     "text": [
      "X_tra:  (77000, 34115)\n",
      "X_tes:  (33000, 34115)\n"
     ]
    }
   ],
   "source": [
    "#uni-gram\n",
    "count_vect = CountVectorizer()\n",
    "X_trai = count_vect.fit_transform(X_train)\n",
    "X_tra = preprocessing.normalize(X_trai)\n",
    "X_te = count_vect.transform(X_test)\n",
    "X_tes = preprocessing.normalize(X_te)\n",
    "print(\"X_tra: \", X_tra.shape)\n",
    "print(\"X_tes: \", X_tes.shape)\n"
   ]
  },
  {
   "cell_type": "code",
   "execution_count": 15,
   "metadata": {
    "collapsed": true
   },
   "outputs": [],
   "source": [
    "# Time based splitting\n",
    "from sklearn.model_selection import TimeSeriesSplit\n",
    "tscv = TimeSeriesSplit(n_splits=10)\n",
    "a = {'alpha':[1000,100,10,1,0.1,0.01,0.001,0.0001,0.00001]} #different values of alpha"
   ]
  },
  {
   "cell_type": "code",
   "execution_count": 16,
   "metadata": {
    "collapsed": true
   },
   "outputs": [],
   "source": [
    "from sklearn.metrics import roc_curve, auc, make_scorer\n",
    "def custom_auc(ground_truth, predictions):\n",
    "    fpr, tpr, _ = roc_curve(ground_truth, predictions[:, 1], pos_label='positive')    \n",
    "    return auc(fpr, tpr)\n",
    "\n",
    "auc_ = make_scorer(custom_auc, greater_is_better=True, needs_proba=True)"
   ]
  },
  {
   "cell_type": "code",
   "execution_count": 17,
   "metadata": {},
   "outputs": [
    {
     "name": "stdout",
     "output_type": "stream",
     "text": [
      "Fitting 10 folds for each of 9 candidates, totalling 90 fits\n"
     ]
    },
    {
     "name": "stderr",
     "output_type": "stream",
     "text": [
      "[Parallel(n_jobs=1)]: Done  90 out of  90 | elapsed:   26.5s finished\n"
     ]
    },
    {
     "name": "stdout",
     "output_type": "stream",
     "text": [
      "Best alpha:  {'alpha': 1}\n",
      "Best score with the above alpha:  93.4404811273\n"
     ]
    }
   ],
   "source": [
    "from sklearn.naive_bayes import MultinomialNB\n",
    "from sklearn.model_selection import GridSearchCV\n",
    "\n",
    "nb = MultinomialNB()\n",
    "gsv = GridSearchCV(nb,a,cv=tscv, verbose=1, scoring=auc_)\n",
    "gsv.fit(X_tra,Y_train)\n",
    "print('Best alpha: ', gsv.best_params_)\n",
    "print('Best score with the above alpha: ', gsv.best_score_*100)"
   ]
  },
  {
   "cell_type": "code",
   "execution_count": 18,
   "metadata": {},
   "outputs": [
    {
     "data": {
      "image/png": "[encoded data removed]",
      "text/plain": [
       "<matplotlib.figure.Figure at 0x239d5d5ccc0>"
      ]
     },
     "metadata": {},
     "output_type": "display_data"
    }
   ],
   "source": [
    "x = []\n",
    "y = []\n",
    "\n",
    "import math\n",
    "\n",
    "for i in gsv.grid_scores_:\n",
    "    #print(i)\n",
    "    x.append(i[0]['alpha'])\n",
    "    y.append(i[1])\n",
    "x_1 = []\n",
    "for j in x:\n",
    "    x_1.append(math.log(j))\n",
    "#print(x_1)\n",
    "    \n",
    "plt.xlabel('log of Alpha')\n",
    "plt.ylabel('Auc')\n",
    "plt.plot(x_1,y)\n",
    "plt.title(' log of Alpha v/s auc')\n",
    "plt.show()"
   ]
  },
  {
   "cell_type": "code",
   "execution_count": 19,
   "metadata": {},
   "outputs": [
    {
     "data": {
      "image/png": "[encoded data removed]",
      "text/plain": [
       "<matplotlib.figure.Figure at 0x23985968208>"
      ]
     },
     "metadata": {},
     "output_type": "display_data"
    },
    {
     "name": "stdout",
     "output_type": "stream",
     "text": [
      "Accuracy on test set: 0.86%\n",
      "Precision on test set: 0.86%\n",
      "Recall on test set: 0.87%\n",
      "F1 score on test set: 0.86%\n"
     ]
    },
    {
     "data": {
      "image/png": "[encoded data removed]",
      "text/plain": [
       "<matplotlib.figure.Figure at 0x239859f0080>"
      ]
     },
     "metadata": {},
     "output_type": "display_data"
    }
   ],
   "source": [
    "#now with alpha = 1\n",
    "nb = MultinomialNB(alpha=1)\n",
    "nb.fit(X_tra, Y_train)\n",
    "y_pred = nb.predict_proba(X_tes)\n",
    "y_pr = nb.predict(X_tes)\n",
    "y_pred_tr = nb.predict_proba(X_tra)\n",
    "y_pr_tr = nb.predict(X_tra)\n",
    "\n",
    "from sklearn.metrics import roc_curve, auc\n",
    "\n",
    "fpr, tpr, thresholds = roc_curve(Y_test, y_pred[:,1], pos_label='positive')\n",
    "fpr_tr, tpr_tr, thresholds_tr = roc_curve(Y_train, y_pred_tr[:,1], pos_label='positive')\n",
    "\n",
    "roc_auc_te = auc(fpr, tpr)\n",
    "roc_auc_tr = auc(fpr_tr, tpr_tr)\n",
    "\n",
    "plt.figure()\n",
    "plt.plot(fpr, tpr, color='darkorange', lw=1, label='Test curve (area = %0.2f)' % roc_auc_te)\n",
    "plt.plot(fpr_tr, tpr_tr, color='blue', lw=1, label='Train (area = %0.2f)' % roc_auc_tr)\n",
    "plt.plot([0, 1], [0, 1], color='navy', linestyle='--')\n",
    "plt.xlim([0.0, 1.0])\n",
    "plt.ylim([0.0, 1.05])\n",
    "plt.xlabel('False Positive Rate')\n",
    "plt.ylabel('True Positive Rate')\n",
    "plt.title('Receiver operating characteristic')\n",
    "plt.legend(loc=\"lower right\")\n",
    "plt.show()\n",
    "\n",
    "#import scikitplot as skplt\n",
    "ax = sns.heatmap(confusion_matrix(Y_test, y_pr), annot=True, fmt='d')\n",
    "#skplt.metrics.plot_confusion_matrix(Y_test, y_pred)\n",
    "#plt.show()\n",
    "\n",
    "print('Accuracy on test set: %0.2f%%'%(accuracy_score(Y_test, y_pr)))\n",
    "print('Precision on test set: %0.2f%%'%(precision_score(Y_test, y_pr, pos_label='positive')))\n",
    "print('Recall on test set: %0.2f%%'%(recall_score(Y_test, y_pr, pos_label='positive')))\n",
    "print('F1 score on test set: %0.2f%%'%(f1_score(Y_test, y_pr, pos_label='positive')))"
   ]
  },
  {
   "cell_type": "code",
   "execution_count": 20,
   "metadata": {
    "scrolled": false
   },
   "outputs": [
    {
     "name": "stdout",
     "output_type": "stream",
     "text": [
      "\t\t\tPositive\t\t\t\t\t\tNegative\n",
      "________________________________________________________________________________________________\n",
      "\t-12.3097\taaa            \t\t\t\t-4.5587\tlike           \n",
      "\t-12.3097\taaaaa          \t\t\t\t-4.5696\ttast           \n",
      "\t-12.3097\taaaaaaarrrrrggghhh\t\t\t\t-4.6113\tlove           \n",
      "\t-12.3097\taaaaaahhhhh    \t\t\t\t-4.6152\tgreat          \n",
      "\t-12.3097\taaaaaahhhhhyaaaaaa\t\t\t\t-4.6443\tgood           \n",
      "\t-12.3097\taaaahhhhhh     \t\t\t\t-4.7567\tflavor         \n",
      "\t-12.3097\taachen         \t\t\t\t-4.8568\tproduct        \n",
      "\t-12.3097\taamzon         \t\t\t\t-4.8603\tuse            \n",
      "\t-12.3097\taap            \t\t\t\t-4.9433\tone            \n",
      "\t-12.3097\taappubl        \t\t\t\t-5.0280\ttri            \n"
     ]
    }
   ],
   "source": [
    "def show_most_informative_features(vectorizer, clf, n=10):\n",
    "    feature_names = vectorizer.get_feature_names()\n",
    "    coefs_with_fns = sorted(zip(clf.coef_[0], feature_names))\n",
    "    top = zip(coefs_with_fns[:n], coefs_with_fns[:-(n + 1):-1])\n",
    "    print(\"\\t\\t\\tPositive\\t\\t\\t\\t\\t\\tNegative\")\n",
    "    print(\"________________________________________________________________________________________________\")\n",
    "    for (coef_1, fn_1), (coef_2, fn_2) in top:\n",
    "        print(\"\\t%.4f\\t%-15s\\t\\t\\t\\t%.4f\\t%-15s\" % (coef_1, fn_1, coef_2, fn_2))\n",
    "        \n",
    "show_most_informative_features(count_vect,nb)\n",
    "#Code Reference:https://stackoverflow.com/questions/11116697/how-to-get-most-informative-features-for-scikit-learn-classifiers"
   ]
  },
  {
   "cell_type": "markdown",
   "metadata": {},
   "source": [
    "# Observations"
   ]
  },
  {
   "cell_type": "markdown",
   "metadata": {},
   "source": [
    "* From above figure after training step, it can be seen that the AUC score increases at first and then increases with the increase in the value of the hyperparameter(Through the range of specified alpha).\n",
    "* When the model is tested on the test data, the values of various performace measures are printed above, the accuracy being 86%\n",
    "* In confusion matrix, It is clear that out of 33k unseen data-points classifier predicts 14231 +ve and 14265 -ve class label correctly.\n",
    "* For the top 10 features, the feature importance is given in the table above.\n",
    "* In summary, it can be said that this model works pretty well on the unseen data."
   ]
  },
  {
   "cell_type": "markdown",
   "metadata": {},
   "source": [
    "# [3.2] TF-IDF"
   ]
  },
  {
   "cell_type": "code",
   "execution_count": 21,
   "metadata": {},
   "outputs": [
    {
     "name": "stdout",
     "output_type": "stream",
     "text": [
      "(77000, 34115)\n",
      "(33000, 34115)\n"
     ]
    }
   ],
   "source": [
    "tfidf_vect = TfidfVectorizer()\n",
    "X_trai = tfidf_vect.fit_transform(X_train)\n",
    "X_tra = preprocessing.normalize(X_trai)\n",
    "X_te = tfidf_vect.transform(X_test)\n",
    "X_tes = preprocessing.normalize(X_te)\n",
    "print(X_tra.shape)\n",
    "print(X_tes.shape)"
   ]
  },
  {
   "cell_type": "code",
   "execution_count": 22,
   "metadata": {
    "collapsed": true
   },
   "outputs": [],
   "source": [
    "# Time based splitting\n",
    "from sklearn.model_selection import TimeSeriesSplit\n",
    "tscv = TimeSeriesSplit(n_splits=10)\n",
    "a = {'alpha':[1000,100,10,1,0.1,0.01,0.001,0.0001,0.00001]} #different values of alpha"
   ]
  },
  {
   "cell_type": "code",
   "execution_count": 23,
   "metadata": {
    "collapsed": true
   },
   "outputs": [],
   "source": [
    "from sklearn.metrics import roc_curve, auc, make_scorer\n",
    "def custom_auc(ground_truth, predictions):\n",
    "    fpr, tpr, _ = roc_curve(ground_truth, predictions[:, 1], pos_label='positive')    \n",
    "    return auc(fpr, tpr)\n",
    "\n",
    "auc_ = make_scorer(custom_auc, greater_is_better=True, needs_proba=True)"
   ]
  },
  {
   "cell_type": "code",
   "execution_count": 24,
   "metadata": {},
   "outputs": [
    {
     "name": "stdout",
     "output_type": "stream",
     "text": [
      "Fitting 10 folds for each of 9 candidates, totalling 90 fits\n"
     ]
    },
    {
     "name": "stderr",
     "output_type": "stream",
     "text": [
      "[Parallel(n_jobs=1)]: Done  90 out of  90 | elapsed:   26.0s finished\n"
     ]
    },
    {
     "name": "stdout",
     "output_type": "stream",
     "text": [
      "Best alpha:  {'alpha': 10}\n",
      "Best score with the above alpha:  93.1433106811\n"
     ]
    }
   ],
   "source": [
    "from sklearn.naive_bayes import MultinomialNB\n",
    "from sklearn.model_selection import GridSearchCV\n",
    "\n",
    "nb = MultinomialNB()\n",
    "gsv = GridSearchCV(nb,a,cv=tscv, verbose=1, scoring=auc_)\n",
    "gsv.fit(X_tra,Y_train)\n",
    "print('Best alpha: ', gsv.best_params_)\n",
    "print('Best score with the above alpha: ', gsv.best_score_*100)"
   ]
  },
  {
   "cell_type": "code",
   "execution_count": 25,
   "metadata": {},
   "outputs": [
    {
     "data": {
      "image/png": "[encoded data removed]",
      "text/plain": [
       "<matplotlib.figure.Figure at 0x239d5d5c710>"
      ]
     },
     "metadata": {},
     "output_type": "display_data"
    }
   ],
   "source": [
    "x1 = []\n",
    "y1 = []\n",
    "\n",
    "import math\n",
    "\n",
    "for i in gsv.grid_scores_:\n",
    "    #print(i)\n",
    "    x1.append(i[0]['alpha'])\n",
    "    y1.append(i[1])\n",
    "x_2 = []\n",
    "for j in x:\n",
    "    x_2.append(math.log(j))\n",
    "#print(x_1)\n",
    "    \n",
    "plt.xlabel('log of Alpha')\n",
    "plt.ylabel('Auc')\n",
    "plt.plot(x_2,y)\n",
    "plt.title('log of Alpha v/s auc')\n",
    "plt.show()"
   ]
  },
  {
   "cell_type": "code",
   "execution_count": 26,
   "metadata": {},
   "outputs": [
    {
     "data": {
      "image/png": "[encoded data removed]",
      "text/plain": [
       "<matplotlib.figure.Figure at 0x23999753da0>"
      ]
     },
     "metadata": {},
     "output_type": "display_data"
    },
    {
     "name": "stdout",
     "output_type": "stream",
     "text": [
      "Accuracy on test set: 0.86%\n",
      "Precision on test set: 0.85%\n",
      "Recall on test set: 0.87%\n",
      "F1 score on test set: 0.86%\n"
     ]
    },
    {
     "data": {
      "image/png": "[encoded data removed]",
      "text/plain": [
       "<matplotlib.figure.Figure at 0x2399869a2b0>"
      ]
     },
     "metadata": {},
     "output_type": "display_data"
    }
   ],
   "source": [
    "#now with alpha = 10\n",
    "nb = MultinomialNB(alpha=10)\n",
    "nb.fit(X_tra, Y_train)\n",
    "y_pred = nb.predict_proba(X_tes)\n",
    "y_pr = nb.predict(X_tes)\n",
    "y_pred_tr = nb.predict_proba(X_tra)\n",
    "y_pr_tr = nb.predict(X_tra)\n",
    "\n",
    "from sklearn.metrics import roc_curve, auc\n",
    "\n",
    "fpr, tpr, thresholds = roc_curve(Y_test, y_pred[:,1], pos_label='positive')\n",
    "fpr_tr, tpr_tr, thresholds_tr = roc_curve(Y_train, y_pred_tr[:,1], pos_label='positive')\n",
    "\n",
    "roc_auc_te = auc(fpr, tpr)\n",
    "roc_auc_tr = auc(fpr_tr, tpr_tr)\n",
    "\n",
    "plt.figure()\n",
    "plt.plot(fpr, tpr, color='darkorange', lw=1, label='Test curve (area = %0.2f)' % roc_auc_te)\n",
    "plt.plot(fpr_tr, tpr_tr, color='blue', lw=1, label='Train (area = %0.2f)' % roc_auc_tr)\n",
    "plt.plot([0, 1], [0, 1], color='navy', linestyle='--')\n",
    "plt.xlim([0.0, 1.0])\n",
    "plt.ylim([0.0, 1.05])\n",
    "plt.xlabel('False Positive Rate')\n",
    "plt.ylabel('True Positive Rate')\n",
    "plt.title('Receiver operating characteristic')\n",
    "plt.legend(loc=\"lower right\")\n",
    "plt.show()\n",
    "\n",
    "#import scikitplot as skplt\n",
    "ax = sns.heatmap(confusion_matrix(Y_test, y_pr), annot=True, fmt='d')\n",
    "#skplt.metrics.plot_confusion_matrix(Y_test, y_pred)\n",
    "#plt.show()\n",
    "\n",
    "print('Accuracy on test set: %0.2f%%'%(accuracy_score(Y_test, y_pr)))\n",
    "print('Precision on test set: %0.2f%%'%(precision_score(Y_test, y_pr, pos_label='positive')))\n",
    "print('Recall on test set: %0.2f%%'%(recall_score(Y_test, y_pr, pos_label='positive')))\n",
    "print('F1 score on test set: %0.2f%%'%(f1_score(Y_test, y_pr, pos_label='positive')))"
   ]
  },
  {
   "cell_type": "code",
   "execution_count": 27,
   "metadata": {},
   "outputs": [
    {
     "name": "stdout",
     "output_type": "stream",
     "text": [
      "\t\t\tPositive\t\t\t\t\t\tNegative\n",
      "________________________________________________________________________________________________\n",
      "\t-10.8623\taaa            \t\t\t\t-6.0118\tgreat          \n",
      "\t-10.8623\taaaaa          \t\t\t\t-6.0561\tlove           \n",
      "\t-10.8623\taaaaaaarrrrrggghhh\t\t\t\t-6.1537\tgood           \n",
      "\t-10.8623\taaaaaahhhhh    \t\t\t\t-6.2158\ttast           \n",
      "\t-10.8623\taaaaaahhhhhyaaaaaa\t\t\t\t-6.2181\tlike           \n",
      "\t-10.8623\taaaahhhhhh     \t\t\t\t-6.2377\tflavor         \n",
      "\t-10.8623\taachen         \t\t\t\t-6.2456\ttea            \n",
      "\t-10.8623\taamzon         \t\t\t\t-6.2597\tcoffe          \n",
      "\t-10.8623\taap            \t\t\t\t-6.3372\tuse            \n",
      "\t-10.8623\taappubl        \t\t\t\t-6.3949\tproduct        \n"
     ]
    }
   ],
   "source": [
    "def show_most_informative_features(vectorizer, clf, n=10):\n",
    "    feature_names = vectorizer.get_feature_names()\n",
    "    coefs_with_fns = sorted(zip(clf.coef_[0], feature_names))\n",
    "    top = zip(coefs_with_fns[:n], coefs_with_fns[:-(n + 1):-1])\n",
    "    print(\"\\t\\t\\tPositive\\t\\t\\t\\t\\t\\tNegative\")\n",
    "    print(\"________________________________________________________________________________________________\")\n",
    "    for (coef_1, fn_1), (coef_2, fn_2) in top:\n",
    "        print(\"\\t%.4f\\t%-15s\\t\\t\\t\\t%.4f\\t%-15s\" % (coef_1, fn_1, coef_2, fn_2))\n",
    "        \n",
    "show_most_informative_features(tfidf_vect,nb)\n",
    "#Code Reference:https://stackoverflow.com/questions/11116697/how-to-get-most-informative-features-for-scikit-learn-classifiers"
   ]
  },
  {
   "cell_type": "markdown",
   "metadata": {},
   "source": [
    "# Observations"
   ]
  },
  {
   "cell_type": "markdown",
   "metadata": {},
   "source": [
    "* The value of hyperparameter with highest AUC score is 10, which is very high from the bag of words representaion where it was found to be 1.\n",
    "* Here also, the AUC score increase initially and then decreased drastically with the increase in the value of alpha.\n",
    "* The scores for performance evaluation are given above with the confusion matrix.\n",
    "* From the confusion matrix we can see that 14189 +ve points and 14173 -ve points were classified correctly by the model thus created.\n",
    "* Overall, the model is not so bad."
   ]
  },
  {
   "cell_type": "markdown",
   "metadata": {
    "collapsed": true
   },
   "source": [
    "# Summary"
   ]
  },
  {
   "cell_type": "code",
   "execution_count": 28,
   "metadata": {},
   "outputs": [
    {
     "name": "stdout",
     "output_type": "stream",
     "text": [
      "+------------+----------------+-----------+\n",
      "| Vectorizer | Hyperparameter | AUC Score |\n",
      "+------------+----------------+-----------+\n",
      "|    BoW     |       1        |    0.94   |\n",
      "|   Tf-idf   |       10       |    0.93   |\n",
      "+------------+----------------+-----------+\n"
     ]
    }
   ],
   "source": [
    "from prettytable import PrettyTable\n",
    "\n",
    "x = PrettyTable()\n",
    "\n",
    "x.field_names = [\"Vectorizer\", \"Hyperparameter\", \"AUC Score\"]\n",
    "\n",
    "x.add_row([\"BoW\", 1, 0.94])\n",
    "x.add_row([\"Tf-idf\", 10, 0.93])\n",
    "\n",
    "print(x)"
   ]
  }
 ],
 "metadata": {
  "kernelspec": {
   "display_name": "Python 3",
   "language": "python",
   "name": "python3"
  },
  "language_info": {
   "codemirror_mode": {
    "name": "ipython",
    "version": 3
   },
   "file_extension": ".py",
   "mimetype": "text/x-python",
   "name": "python",
   "nbconvert_exporter": "python",
   "pygments_lexer": "ipython3",
   "version": "3.6.2"
  }
 },
 "nbformat": 4,
 "nbformat_minor": 2
}
