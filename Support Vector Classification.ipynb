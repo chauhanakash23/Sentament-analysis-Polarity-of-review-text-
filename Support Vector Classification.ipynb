{
 "cells": [
  {
   "cell_type": "markdown",
   "metadata": {},
   "source": [
    "# Amazon Fine Food Reviews Analysis\n",
    "\n",
    "\n",
    "Data Source: https://www.kaggle.com/snap/amazon-fine-food-reviews <br>\n",
    "\n",
    "EDA: https://nycdatascience.com/blog/student-works/amazon-fine-foods-visualization/\n",
    "\n",
    "\n",
    "The Amazon Fine Food Reviews dataset consists of reviews of fine foods from Amazon.<br>\n",
    "\n",
    "Number of reviews: 568,454<br>\n",
    "Number of users: 256,059<br>\n",
    "Number of products: 74,258<br>\n",
    "Timespan: Oct 1999 - Oct 2012<br>\n",
    "Number of Attributes/Columns in data: 10 \n",
    "\n",
    "Attribute Information:\n",
    "\n",
    "1. Id\n",
    "2. ProductId - unique identifier for the product\n",
    "3. UserId - unqiue identifier for the user\n",
    "4. ProfileName\n",
    "5. HelpfulnessNumerator - number of users who found the review helpful\n",
    "6. HelpfulnessDenominator - number of users who indicated whether they found the review helpful or not\n",
    "7. Score - rating between 1 and 5\n",
    "8. Time - timestamp for the review\n",
    "9. Summary - brief summary of the review\n",
    "10. Text - text of the review\n",
    "\n",
    "\n",
    "#### Objective:\n",
    "Given a review, determine whether the review is positive (rating of 4 or 5) or negative (rating of 1 or 2).\n",
    "\n",
    "<br>\n",
    "[Q] How to determine if a review is positive or negative?<br>\n",
    "<br> \n",
    "[Ans] We could use Score/Rating. A rating of 4 or 5 can be cosnidered as a positive review. A rating of 1 or 2 can be considered as negative one. A review of rating 3 is considered nuetral and such reviews are ignored from our analysis. This is an approximate and proxy way of determining the polarity (positivity/negativity) of a review.\n",
    "\n",
    "\n"
   ]
  },
  {
   "cell_type": "markdown",
   "metadata": {},
   "source": [
    "# [1]. Reading Data"
   ]
  },
  {
   "cell_type": "markdown",
   "metadata": {},
   "source": [
    "## [1.1] Loading the data\n",
    "\n",
    "The dataset is available in two forms\n",
    "1. .csv file\n",
    "2. SQLite Database\n",
    "\n",
    "In order to load the data, We have used the SQLITE dataset as it is easier to query the data and visualise the data efficiently.\n",
    "<br> \n",
    "\n",
    "Here as we only want to get the global sentiment of the recommendations (positive or negative), we will purposefully ignore all Scores equal to 3. If the score is above 3, then the recommendation wil be set to \"positive\". Otherwise, it will be set to \"negative\"."
   ]
  },
  {
   "cell_type": "code",
   "execution_count": 1,
   "metadata": {
    "collapsed": true
   },
   "outputs": [],
   "source": [
    "%matplotlib inline\n",
    "import warnings\n",
    "warnings.filterwarnings(\"ignore\")\n",
    "\n",
    "\n",
    "import sqlite3\n",
    "import pandas as pd\n",
    "import numpy as np\n",
    "import nltk\n",
    "import string\n",
    "import matplotlib.pyplot as plt\n",
    "import seaborn as sns\n",
    "from sklearn.feature_extraction.text import TfidfTransformer\n",
    "from sklearn.feature_extraction.text import TfidfVectorizer\n",
    "\n",
    "from sklearn.feature_extraction.text import CountVectorizer\n",
    "from sklearn.metrics import confusion_matrix\n",
    "from sklearn import metrics\n",
    "from sklearn.metrics import roc_curve, auc\n",
    "from nltk.stem.porter import PorterStemmer\n",
    "\n",
    "import re\n",
    "# Tutorial about Python regular expressions: https://pymotw.com/2/re/\n",
    "import string\n",
    "from nltk.corpus import stopwords\n",
    "from nltk.stem import PorterStemmer\n",
    "from nltk.stem.wordnet import WordNetLemmatizer\n",
    "\n",
    "from gensim.models import Word2Vec\n",
    "from gensim.models import KeyedVectors\n",
    "import pickle\n",
    "\n",
    "from tqdm import tqdm\n",
    "import os"
   ]
  },
  {
   "cell_type": "code",
   "execution_count": 2,
   "metadata": {},
   "outputs": [
    {
     "name": "stdout",
     "output_type": "stream",
     "text": [
      "Number of data points in our data (525814, 10)\n"
     ]
    },
    {
     "data": {
      "text/html": [
       "<div>\n",
       "<style>\n",
       "    .dataframe thead tr:only-child th {\n",
       "        text-align: right;\n",
       "    }\n",
       "\n",
       "    .dataframe thead th {\n",
       "        text-align: left;\n",
       "    }\n",
       "\n",
       "    .dataframe tbody tr th {\n",
       "        vertical-align: top;\n",
       "    }\n",
       "</style>\n",
       "<table border=\"1\" class=\"dataframe\">\n",
       "  <thead>\n",
       "    <tr style=\"text-align: right;\">\n",
       "      <th></th>\n",
       "      <th>Id</th>\n",
       "      <th>ProductId</th>\n",
       "      <th>UserId</th>\n",
       "      <th>ProfileName</th>\n",
       "      <th>HelpfulnessNumerator</th>\n",
       "      <th>HelpfulnessDenominator</th>\n",
       "      <th>Score</th>\n",
       "      <th>Time</th>\n",
       "      <th>Summary</th>\n",
       "      <th>Text</th>\n",
       "    </tr>\n",
       "  </thead>\n",
       "  <tbody>\n",
       "    <tr>\n",
       "      <th>0</th>\n",
       "      <td>1</td>\n",
       "      <td>B001E4KFG0</td>\n",
       "      <td>A3SGXH7AUHU8GW</td>\n",
       "      <td>delmartian</td>\n",
       "      <td>1</td>\n",
       "      <td>1</td>\n",
       "      <td>1</td>\n",
       "      <td>1303862400</td>\n",
       "      <td>Good Quality Dog Food</td>\n",
       "      <td>I have bought several of the Vitality canned d...</td>\n",
       "    </tr>\n",
       "    <tr>\n",
       "      <th>1</th>\n",
       "      <td>2</td>\n",
       "      <td>B00813GRG4</td>\n",
       "      <td>A1D87F6ZCVE5NK</td>\n",
       "      <td>dll pa</td>\n",
       "      <td>0</td>\n",
       "      <td>0</td>\n",
       "      <td>0</td>\n",
       "      <td>1346976000</td>\n",
       "      <td>Not as Advertised</td>\n",
       "      <td>Product arrived labeled as Jumbo Salted Peanut...</td>\n",
       "    </tr>\n",
       "    <tr>\n",
       "      <th>2</th>\n",
       "      <td>3</td>\n",
       "      <td>B000LQOCH0</td>\n",
       "      <td>ABXLMWJIXXAIN</td>\n",
       "      <td>Natalia Corres \"Natalia Corres\"</td>\n",
       "      <td>1</td>\n",
       "      <td>1</td>\n",
       "      <td>1</td>\n",
       "      <td>1219017600</td>\n",
       "      <td>\"Delight\" says it all</td>\n",
       "      <td>This is a confection that has been around a fe...</td>\n",
       "    </tr>\n",
       "  </tbody>\n",
       "</table>\n",
       "</div>"
      ],
      "text/plain": [
       "   Id   ProductId          UserId                      ProfileName  \\\n",
       "0   1  B001E4KFG0  A3SGXH7AUHU8GW                       delmartian   \n",
       "1   2  B00813GRG4  A1D87F6ZCVE5NK                           dll pa   \n",
       "2   3  B000LQOCH0   ABXLMWJIXXAIN  Natalia Corres \"Natalia Corres\"   \n",
       "\n",
       "   HelpfulnessNumerator  HelpfulnessDenominator  Score        Time  \\\n",
       "0                     1                       1      1  1303862400   \n",
       "1                     0                       0      0  1346976000   \n",
       "2                     1                       1      1  1219017600   \n",
       "\n",
       "                 Summary                                               Text  \n",
       "0  Good Quality Dog Food  I have bought several of the Vitality canned d...  \n",
       "1      Not as Advertised  Product arrived labeled as Jumbo Salted Peanut...  \n",
       "2  \"Delight\" says it all  This is a confection that has been around a fe...  "
      ]
     },
     "execution_count": 2,
     "metadata": {},
     "output_type": "execute_result"
    }
   ],
   "source": [
    "# using SQLite Table to read data.\n",
    "con = sqlite3.connect('D:/Work/database.sqlite') \n",
    "\n",
    "# filtering only positive and negative reviews i.e. \n",
    "# not taking into consideration those reviews with Score=3\n",
    "# SELECT * FROM Reviews WHERE Score != 3 LIMIT 500000, will give top 500000 data points\n",
    "# you can change the number to any other number based on your computing power\n",
    "\n",
    "# filtered_data = pd.read_sql_query(\"\"\" SELECT * FROM Reviews WHERE Score != 3 LIMIT 500000\"\"\", con) \n",
    "# for tsne assignment you can take 5k data points\n",
    "\n",
    "filtered_data = pd.read_sql_query(\"\"\" SELECT * FROM Reviews WHERE Score != 3 \"\"\", con) \n",
    "\n",
    "# Give reviews with Score>3 a positive rating(1), and reviews with a score<3 a negative rating(0).\n",
    "def partition(x):\n",
    "    if x < 3:\n",
    "        return 0\n",
    "    return 1\n",
    "\n",
    "#changing reviews with score less than 3 to be positive and vice-versa\n",
    "actualScore = filtered_data['Score']\n",
    "positiveNegative = actualScore.map(partition) \n",
    "filtered_data['Score'] = positiveNegative\n",
    "print(\"Number of data points in our data\", filtered_data.shape)\n",
    "filtered_data.head(3)"
   ]
  },
  {
   "cell_type": "code",
   "execution_count": 3,
   "metadata": {
    "collapsed": true
   },
   "outputs": [],
   "source": [
    "display = pd.read_sql_query(\"\"\"\n",
    "SELECT UserId, ProductId, ProfileName, Time, Score, Text, COUNT(*)\n",
    "FROM Reviews\n",
    "GROUP BY UserId\n",
    "HAVING COUNT(*)>1\n",
    "\"\"\", con)"
   ]
  },
  {
   "cell_type": "code",
   "execution_count": 4,
   "metadata": {
    "scrolled": true
   },
   "outputs": [
    {
     "name": "stdout",
     "output_type": "stream",
     "text": [
      "(80668, 7)\n"
     ]
    },
    {
     "data": {
      "text/html": [
       "<div>\n",
       "<style>\n",
       "    .dataframe thead tr:only-child th {\n",
       "        text-align: right;\n",
       "    }\n",
       "\n",
       "    .dataframe thead th {\n",
       "        text-align: left;\n",
       "    }\n",
       "\n",
       "    .dataframe tbody tr th {\n",
       "        vertical-align: top;\n",
       "    }\n",
       "</style>\n",
       "<table border=\"1\" class=\"dataframe\">\n",
       "  <thead>\n",
       "    <tr style=\"text-align: right;\">\n",
       "      <th></th>\n",
       "      <th>UserId</th>\n",
       "      <th>ProductId</th>\n",
       "      <th>ProfileName</th>\n",
       "      <th>Time</th>\n",
       "      <th>Score</th>\n",
       "      <th>Text</th>\n",
       "      <th>COUNT(*)</th>\n",
       "    </tr>\n",
       "  </thead>\n",
       "  <tbody>\n",
       "    <tr>\n",
       "      <th>0</th>\n",
       "      <td>#oc-R115TNMSPFT9I7</td>\n",
       "      <td>B007Y59HVM</td>\n",
       "      <td>Breyton</td>\n",
       "      <td>1331510400</td>\n",
       "      <td>2</td>\n",
       "      <td>Overall its just OK when considering the price...</td>\n",
       "      <td>2</td>\n",
       "    </tr>\n",
       "    <tr>\n",
       "      <th>1</th>\n",
       "      <td>#oc-R11D9D7SHXIJB9</td>\n",
       "      <td>B005HG9ET0</td>\n",
       "      <td>Louis E. Emory \"hoppy\"</td>\n",
       "      <td>1342396800</td>\n",
       "      <td>5</td>\n",
       "      <td>My wife has recurring extreme muscle spasms, u...</td>\n",
       "      <td>3</td>\n",
       "    </tr>\n",
       "    <tr>\n",
       "      <th>2</th>\n",
       "      <td>#oc-R11DNU2NBKQ23Z</td>\n",
       "      <td>B007Y59HVM</td>\n",
       "      <td>Kim Cieszykowski</td>\n",
       "      <td>1348531200</td>\n",
       "      <td>1</td>\n",
       "      <td>This coffee is horrible and unfortunately not ...</td>\n",
       "      <td>2</td>\n",
       "    </tr>\n",
       "    <tr>\n",
       "      <th>3</th>\n",
       "      <td>#oc-R11O5J5ZVQE25C</td>\n",
       "      <td>B005HG9ET0</td>\n",
       "      <td>Penguin Chick</td>\n",
       "      <td>1346889600</td>\n",
       "      <td>5</td>\n",
       "      <td>This will be the bottle that you grab from the...</td>\n",
       "      <td>3</td>\n",
       "    </tr>\n",
       "    <tr>\n",
       "      <th>4</th>\n",
       "      <td>#oc-R12KPBODL2B5ZD</td>\n",
       "      <td>B007OSBE1U</td>\n",
       "      <td>Christopher P. Presta</td>\n",
       "      <td>1348617600</td>\n",
       "      <td>1</td>\n",
       "      <td>I didnt like this coffee. Instead of telling y...</td>\n",
       "      <td>2</td>\n",
       "    </tr>\n",
       "  </tbody>\n",
       "</table>\n",
       "</div>"
      ],
      "text/plain": [
       "               UserId   ProductId             ProfileName        Time  Score  \\\n",
       "0  #oc-R115TNMSPFT9I7  B007Y59HVM                 Breyton  1331510400      2   \n",
       "1  #oc-R11D9D7SHXIJB9  B005HG9ET0  Louis E. Emory \"hoppy\"  1342396800      5   \n",
       "2  #oc-R11DNU2NBKQ23Z  B007Y59HVM        Kim Cieszykowski  1348531200      1   \n",
       "3  #oc-R11O5J5ZVQE25C  B005HG9ET0           Penguin Chick  1346889600      5   \n",
       "4  #oc-R12KPBODL2B5ZD  B007OSBE1U   Christopher P. Presta  1348617600      1   \n",
       "\n",
       "                                                Text  COUNT(*)  \n",
       "0  Overall its just OK when considering the price...         2  \n",
       "1  My wife has recurring extreme muscle spasms, u...         3  \n",
       "2  This coffee is horrible and unfortunately not ...         2  \n",
       "3  This will be the bottle that you grab from the...         3  \n",
       "4  I didnt like this coffee. Instead of telling y...         2  "
      ]
     },
     "execution_count": 4,
     "metadata": {},
     "output_type": "execute_result"
    }
   ],
   "source": [
    "print(display.shape)\n",
    "display.head()"
   ]
  },
  {
   "cell_type": "code",
   "execution_count": 5,
   "metadata": {},
   "outputs": [
    {
     "data": {
      "text/html": [
       "<div>\n",
       "<style>\n",
       "    .dataframe thead tr:only-child th {\n",
       "        text-align: right;\n",
       "    }\n",
       "\n",
       "    .dataframe thead th {\n",
       "        text-align: left;\n",
       "    }\n",
       "\n",
       "    .dataframe tbody tr th {\n",
       "        vertical-align: top;\n",
       "    }\n",
       "</style>\n",
       "<table border=\"1\" class=\"dataframe\">\n",
       "  <thead>\n",
       "    <tr style=\"text-align: right;\">\n",
       "      <th></th>\n",
       "      <th>UserId</th>\n",
       "      <th>ProductId</th>\n",
       "      <th>ProfileName</th>\n",
       "      <th>Time</th>\n",
       "      <th>Score</th>\n",
       "      <th>Text</th>\n",
       "      <th>COUNT(*)</th>\n",
       "    </tr>\n",
       "  </thead>\n",
       "  <tbody>\n",
       "    <tr>\n",
       "      <th>80638</th>\n",
       "      <td>AZY10LLTJ71NX</td>\n",
       "      <td>B006P7E5ZI</td>\n",
       "      <td>undertheshrine \"undertheshrine\"</td>\n",
       "      <td>1334707200</td>\n",
       "      <td>5</td>\n",
       "      <td>I was recommended to try green tea extract to ...</td>\n",
       "      <td>5</td>\n",
       "    </tr>\n",
       "  </tbody>\n",
       "</table>\n",
       "</div>"
      ],
      "text/plain": [
       "              UserId   ProductId                      ProfileName        Time  \\\n",
       "80638  AZY10LLTJ71NX  B006P7E5ZI  undertheshrine \"undertheshrine\"  1334707200   \n",
       "\n",
       "       Score                                               Text  COUNT(*)  \n",
       "80638      5  I was recommended to try green tea extract to ...         5  "
      ]
     },
     "execution_count": 5,
     "metadata": {},
     "output_type": "execute_result"
    }
   ],
   "source": [
    "display[display['UserId']=='AZY10LLTJ71NX']"
   ]
  },
  {
   "cell_type": "code",
   "execution_count": 6,
   "metadata": {},
   "outputs": [
    {
     "data": {
      "text/plain": [
       "393063"
      ]
     },
     "execution_count": 6,
     "metadata": {},
     "output_type": "execute_result"
    }
   ],
   "source": [
    "display['COUNT(*)'].sum()"
   ]
  },
  {
   "cell_type": "markdown",
   "metadata": {},
   "source": [
    "#  [2] Exploratory Data Analysis"
   ]
  },
  {
   "cell_type": "markdown",
   "metadata": {},
   "source": [
    "## [2.1] Data Cleaning: Deduplication\n",
    "\n",
    "It is observed (as shown in the table below) that the reviews data had many duplicate entries. Hence it was necessary to remove duplicates in order to get unbiased results for the analysis of the data.  Following is an example:"
   ]
  },
  {
   "cell_type": "code",
   "execution_count": 7,
   "metadata": {
    "scrolled": false
   },
   "outputs": [
    {
     "data": {
      "text/html": [
       "<div>\n",
       "<style>\n",
       "    .dataframe thead tr:only-child th {\n",
       "        text-align: right;\n",
       "    }\n",
       "\n",
       "    .dataframe thead th {\n",
       "        text-align: left;\n",
       "    }\n",
       "\n",
       "    .dataframe tbody tr th {\n",
       "        vertical-align: top;\n",
       "    }\n",
       "</style>\n",
       "<table border=\"1\" class=\"dataframe\">\n",
       "  <thead>\n",
       "    <tr style=\"text-align: right;\">\n",
       "      <th></th>\n",
       "      <th>Id</th>\n",
       "      <th>ProductId</th>\n",
       "      <th>UserId</th>\n",
       "      <th>ProfileName</th>\n",
       "      <th>HelpfulnessNumerator</th>\n",
       "      <th>HelpfulnessDenominator</th>\n",
       "      <th>Score</th>\n",
       "      <th>Time</th>\n",
       "      <th>Summary</th>\n",
       "      <th>Text</th>\n",
       "    </tr>\n",
       "  </thead>\n",
       "  <tbody>\n",
       "    <tr>\n",
       "      <th>0</th>\n",
       "      <td>78445</td>\n",
       "      <td>B000HDL1RQ</td>\n",
       "      <td>AR5J8UI46CURR</td>\n",
       "      <td>Geetha Krishnan</td>\n",
       "      <td>2</td>\n",
       "      <td>2</td>\n",
       "      <td>5</td>\n",
       "      <td>1199577600</td>\n",
       "      <td>LOACKER QUADRATINI VANILLA WAFERS</td>\n",
       "      <td>DELICIOUS WAFERS. I FIND THAT EUROPEAN WAFERS ...</td>\n",
       "    </tr>\n",
       "    <tr>\n",
       "      <th>1</th>\n",
       "      <td>138317</td>\n",
       "      <td>B000HDOPYC</td>\n",
       "      <td>AR5J8UI46CURR</td>\n",
       "      <td>Geetha Krishnan</td>\n",
       "      <td>2</td>\n",
       "      <td>2</td>\n",
       "      <td>5</td>\n",
       "      <td>1199577600</td>\n",
       "      <td>LOACKER QUADRATINI VANILLA WAFERS</td>\n",
       "      <td>DELICIOUS WAFERS. I FIND THAT EUROPEAN WAFERS ...</td>\n",
       "    </tr>\n",
       "    <tr>\n",
       "      <th>2</th>\n",
       "      <td>138277</td>\n",
       "      <td>B000HDOPYM</td>\n",
       "      <td>AR5J8UI46CURR</td>\n",
       "      <td>Geetha Krishnan</td>\n",
       "      <td>2</td>\n",
       "      <td>2</td>\n",
       "      <td>5</td>\n",
       "      <td>1199577600</td>\n",
       "      <td>LOACKER QUADRATINI VANILLA WAFERS</td>\n",
       "      <td>DELICIOUS WAFERS. I FIND THAT EUROPEAN WAFERS ...</td>\n",
       "    </tr>\n",
       "    <tr>\n",
       "      <th>3</th>\n",
       "      <td>73791</td>\n",
       "      <td>B000HDOPZG</td>\n",
       "      <td>AR5J8UI46CURR</td>\n",
       "      <td>Geetha Krishnan</td>\n",
       "      <td>2</td>\n",
       "      <td>2</td>\n",
       "      <td>5</td>\n",
       "      <td>1199577600</td>\n",
       "      <td>LOACKER QUADRATINI VANILLA WAFERS</td>\n",
       "      <td>DELICIOUS WAFERS. I FIND THAT EUROPEAN WAFERS ...</td>\n",
       "    </tr>\n",
       "    <tr>\n",
       "      <th>4</th>\n",
       "      <td>155049</td>\n",
       "      <td>B000PAQ75C</td>\n",
       "      <td>AR5J8UI46CURR</td>\n",
       "      <td>Geetha Krishnan</td>\n",
       "      <td>2</td>\n",
       "      <td>2</td>\n",
       "      <td>5</td>\n",
       "      <td>1199577600</td>\n",
       "      <td>LOACKER QUADRATINI VANILLA WAFERS</td>\n",
       "      <td>DELICIOUS WAFERS. I FIND THAT EUROPEAN WAFERS ...</td>\n",
       "    </tr>\n",
       "  </tbody>\n",
       "</table>\n",
       "</div>"
      ],
      "text/plain": [
       "       Id   ProductId         UserId      ProfileName  HelpfulnessNumerator  \\\n",
       "0   78445  B000HDL1RQ  AR5J8UI46CURR  Geetha Krishnan                     2   \n",
       "1  138317  B000HDOPYC  AR5J8UI46CURR  Geetha Krishnan                     2   \n",
       "2  138277  B000HDOPYM  AR5J8UI46CURR  Geetha Krishnan                     2   \n",
       "3   73791  B000HDOPZG  AR5J8UI46CURR  Geetha Krishnan                     2   \n",
       "4  155049  B000PAQ75C  AR5J8UI46CURR  Geetha Krishnan                     2   \n",
       "\n",
       "   HelpfulnessDenominator  Score        Time  \\\n",
       "0                       2      5  1199577600   \n",
       "1                       2      5  1199577600   \n",
       "2                       2      5  1199577600   \n",
       "3                       2      5  1199577600   \n",
       "4                       2      5  1199577600   \n",
       "\n",
       "                             Summary  \\\n",
       "0  LOACKER QUADRATINI VANILLA WAFERS   \n",
       "1  LOACKER QUADRATINI VANILLA WAFERS   \n",
       "2  LOACKER QUADRATINI VANILLA WAFERS   \n",
       "3  LOACKER QUADRATINI VANILLA WAFERS   \n",
       "4  LOACKER QUADRATINI VANILLA WAFERS   \n",
       "\n",
       "                                                Text  \n",
       "0  DELICIOUS WAFERS. I FIND THAT EUROPEAN WAFERS ...  \n",
       "1  DELICIOUS WAFERS. I FIND THAT EUROPEAN WAFERS ...  \n",
       "2  DELICIOUS WAFERS. I FIND THAT EUROPEAN WAFERS ...  \n",
       "3  DELICIOUS WAFERS. I FIND THAT EUROPEAN WAFERS ...  \n",
       "4  DELICIOUS WAFERS. I FIND THAT EUROPEAN WAFERS ...  "
      ]
     },
     "execution_count": 7,
     "metadata": {},
     "output_type": "execute_result"
    }
   ],
   "source": [
    "display= pd.read_sql_query(\"\"\"\n",
    "SELECT *\n",
    "FROM Reviews\n",
    "WHERE Score != 3 AND UserId=\"AR5J8UI46CURR\"\n",
    "ORDER BY ProductID\n",
    "\"\"\", con)\n",
    "display.head()"
   ]
  },
  {
   "cell_type": "markdown",
   "metadata": {},
   "source": [
    "As it can be seen above that same user has multiple reviews with same values for HelpfulnessNumerator, HelpfulnessDenominator, Score, Time, Summary and Text and on doing analysis it was found that <br>\n",
    "<br> \n",
    "ProductId=B000HDOPZG was Loacker Quadratini Vanilla Wafer Cookies, 8.82-Ounce Packages (Pack of 8)<br>\n",
    "<br> \n",
    "ProductId=B000HDL1RQ was Loacker Quadratini Lemon Wafer Cookies, 8.82-Ounce Packages (Pack of 8) and so on<br>\n",
    "\n",
    "It was inferred after analysis that reviews with same parameters other than ProductId belonged to the same product just having different flavour or quantity. Hence in order to reduce redundancy it was decided to eliminate the rows having same parameters.<br>\n",
    "\n",
    "The method used for the same was that we first sort the data according to ProductId and then just keep the first similar product review and delelte the others. for eg. in the above just the review for ProductId=B000HDL1RQ remains. This method ensures that there is only one representative for each product and deduplication without sorting would lead to possibility of different representatives still existing for the same product."
   ]
  },
  {
   "cell_type": "code",
   "execution_count": 8,
   "metadata": {
    "collapsed": true
   },
   "outputs": [],
   "source": [
    "#Sorting data according to ProductId in ascending order\n",
    "sorted_data=filtered_data.sort_values('ProductId', axis=0, ascending=True, inplace=False, kind='quicksort', na_position='last')"
   ]
  },
  {
   "cell_type": "code",
   "execution_count": 9,
   "metadata": {},
   "outputs": [
    {
     "data": {
      "text/plain": [
       "(364173, 10)"
      ]
     },
     "execution_count": 9,
     "metadata": {},
     "output_type": "execute_result"
    }
   ],
   "source": [
    "#Deduplication of entries\n",
    "final=sorted_data.drop_duplicates(subset={\"UserId\",\"ProfileName\",\"Time\",\"Text\"}, keep='first', inplace=False)\n",
    "final.shape"
   ]
  },
  {
   "cell_type": "code",
   "execution_count": 10,
   "metadata": {},
   "outputs": [
    {
     "data": {
      "text/plain": [
       "69.25890143662969"
      ]
     },
     "execution_count": 10,
     "metadata": {},
     "output_type": "execute_result"
    }
   ],
   "source": [
    "#Checking to see how much % of data still remains\n",
    "(final['Id'].size*1.0)/(filtered_data['Id'].size*1.0)*100"
   ]
  },
  {
   "cell_type": "markdown",
   "metadata": {},
   "source": [
    "<b>Observation:-</b> It was also seen that in two rows given below the value of HelpfulnessNumerator is greater than HelpfulnessDenominator which is not practically possible hence these two rows too are removed from calcualtions"
   ]
  },
  {
   "cell_type": "code",
   "execution_count": 11,
   "metadata": {},
   "outputs": [
    {
     "data": {
      "text/html": [
       "<div>\n",
       "<style>\n",
       "    .dataframe thead tr:only-child th {\n",
       "        text-align: right;\n",
       "    }\n",
       "\n",
       "    .dataframe thead th {\n",
       "        text-align: left;\n",
       "    }\n",
       "\n",
       "    .dataframe tbody tr th {\n",
       "        vertical-align: top;\n",
       "    }\n",
       "</style>\n",
       "<table border=\"1\" class=\"dataframe\">\n",
       "  <thead>\n",
       "    <tr style=\"text-align: right;\">\n",
       "      <th></th>\n",
       "      <th>Id</th>\n",
       "      <th>ProductId</th>\n",
       "      <th>UserId</th>\n",
       "      <th>ProfileName</th>\n",
       "      <th>HelpfulnessNumerator</th>\n",
       "      <th>HelpfulnessDenominator</th>\n",
       "      <th>Score</th>\n",
       "      <th>Time</th>\n",
       "      <th>Summary</th>\n",
       "      <th>Text</th>\n",
       "    </tr>\n",
       "  </thead>\n",
       "  <tbody>\n",
       "    <tr>\n",
       "      <th>0</th>\n",
       "      <td>64422</td>\n",
       "      <td>B000MIDROQ</td>\n",
       "      <td>A161DK06JJMCYF</td>\n",
       "      <td>J. E. Stephens \"Jeanne\"</td>\n",
       "      <td>3</td>\n",
       "      <td>1</td>\n",
       "      <td>5</td>\n",
       "      <td>1224892800</td>\n",
       "      <td>Bought This for My Son at College</td>\n",
       "      <td>My son loves spaghetti so I didn't hesitate or...</td>\n",
       "    </tr>\n",
       "    <tr>\n",
       "      <th>1</th>\n",
       "      <td>44737</td>\n",
       "      <td>B001EQ55RW</td>\n",
       "      <td>A2V0I904FH7ABY</td>\n",
       "      <td>Ram</td>\n",
       "      <td>3</td>\n",
       "      <td>2</td>\n",
       "      <td>4</td>\n",
       "      <td>1212883200</td>\n",
       "      <td>Pure cocoa taste with crunchy almonds inside</td>\n",
       "      <td>It was almost a 'love at first bite' - the per...</td>\n",
       "    </tr>\n",
       "  </tbody>\n",
       "</table>\n",
       "</div>"
      ],
      "text/plain": [
       "      Id   ProductId          UserId              ProfileName  \\\n",
       "0  64422  B000MIDROQ  A161DK06JJMCYF  J. E. Stephens \"Jeanne\"   \n",
       "1  44737  B001EQ55RW  A2V0I904FH7ABY                      Ram   \n",
       "\n",
       "   HelpfulnessNumerator  HelpfulnessDenominator  Score        Time  \\\n",
       "0                     3                       1      5  1224892800   \n",
       "1                     3                       2      4  1212883200   \n",
       "\n",
       "                                        Summary  \\\n",
       "0             Bought This for My Son at College   \n",
       "1  Pure cocoa taste with crunchy almonds inside   \n",
       "\n",
       "                                                Text  \n",
       "0  My son loves spaghetti so I didn't hesitate or...  \n",
       "1  It was almost a 'love at first bite' - the per...  "
      ]
     },
     "execution_count": 11,
     "metadata": {},
     "output_type": "execute_result"
    }
   ],
   "source": [
    "display= pd.read_sql_query(\"\"\"\n",
    "SELECT *\n",
    "FROM Reviews\n",
    "WHERE Score != 3 AND Id=44737 OR Id=64422\n",
    "ORDER BY ProductID\n",
    "\"\"\", con)\n",
    "\n",
    "display.head()"
   ]
  },
  {
   "cell_type": "code",
   "execution_count": 12,
   "metadata": {
    "collapsed": true
   },
   "outputs": [],
   "source": [
    "final=final[final.HelpfulnessNumerator<=final.HelpfulnessDenominator]"
   ]
  },
  {
   "cell_type": "code",
   "execution_count": 13,
   "metadata": {},
   "outputs": [
    {
     "name": "stdout",
     "output_type": "stream",
     "text": [
      "(364171, 10)\n",
      "Sampled data:  (100000, 10)\n",
      "Data for rbf kernel:  (40000, 10)\n"
     ]
    }
   ],
   "source": [
    "#Before starting the next phase of preprocessing lets see the number of entries left\n",
    "print(final.shape)\n",
    "\n",
    "#How many positive and negative reviews are present in our dataset?\n",
    "#final['Score'].value_counts()\n",
    "\n",
    "#sampling 100k points\n",
    "pos = final[final['Score']==1].sample(n = 50000)\n",
    "neg = final[final['Score']==0].sample(n = 50000)\n",
    "final_ = pd.concat([pos,neg])\n",
    "print(\"Sampled data: \", final_.shape)\n",
    "\n",
    "#sampling 40k points for rbf kernel\n",
    "pos_ = final[final['Score']==1].sample(n=20000)\n",
    "neg_ = final[final['Score']==0].sample(n=20000)\n",
    "final_rbf = pd.concat([pos_,neg_])\n",
    "print(\"Data for rbf kernel: \", final_rbf.shape)"
   ]
  },
  {
   "cell_type": "markdown",
   "metadata": {},
   "source": [
    "#  [3] Preprocessing"
   ]
  },
  {
   "cell_type": "markdown",
   "metadata": {},
   "source": [
    "## [3.1].  Preprocessing Review Text\n",
    "\n",
    "Now that we have finished deduplication our data requires some preprocessing before we go on further with analysis and making the prediction model.\n",
    "\n",
    "Hence in the Preprocessing phase we do the following in the order below:-\n",
    "\n",
    "1. Begin by removing the html tags\n",
    "2. Remove any punctuations or limited set of special characters like , or . or # etc.\n",
    "3. Check if the word is made up of english letters and is not alpha-numeric\n",
    "4. Check to see if the length of the word is greater than 2 (as it was researched that there is no adjective in 2-letters)\n",
    "5. Convert the word to lowercase\n",
    "6. Remove Stopwords\n",
    "7. Finally Snowball Stemming the word (it was obsereved to be better than Porter Stemming)<br>\n",
    "\n",
    "After which we collect the words used to describe positive and negative reviews"
   ]
  },
  {
   "cell_type": "code",
   "execution_count": 14,
   "metadata": {},
   "outputs": [
    {
     "name": "stdout",
     "output_type": "stream",
     "text": [
      "Mostly these days I find companies that are liviing in a dream state.  Davidson Tea is obviously, to me, one of the few that does not fall into this catagory.  Their product is the best I have had and their presentation and dellivery are the same.  I mean<br />top end Hibiscus.  Thanks for the service,  Joe\n",
      "==================================================\n",
      "Great tasting chocolate cookies with a nice fudge center. These cookies are great for a chocolate lover and anyone who loves a super moist cookie because they are soft and moist. I love the consistency and the taste of these cookies. I will buy the cookies again.<br /><br />These cookies are similar to what a gourmet bakery will offer with out the overpricing of the bakery. I wish they were a little firmer so that when I microwave them they don't fall apart. The reseal able packaging is perfect to keep your cookies nice and fresh without worrying about them getting stale or attracting any insects. Great Job Chips Ahoy with this new Megafudge line of cookies my son and I loved them.\n",
      "==================================================\n",
      "I live in the boonies in Texas and when the local Wal-Mart stopped carrying Wiley's I thought the world was coming to an end!  I LOVE LOVE LOVE this product and now that I can order it online, I am once again a happy camper.  This is the BEST product to season purple hulls peas and others just like my grandmas did in the boonies of Arkansas (only there's no bacon grease!).  YUM!\n",
      "==================================================\n",
      "Great taste, and a lot less work then working from scratch. Add a little bit of carraway seeds, can't beat it!\n",
      "==================================================\n"
     ]
    }
   ],
   "source": [
    "# printing some random reviews\n",
    "sent_0 = final_['Text'].values[0]\n",
    "print(sent_0)\n",
    "print(\"=\"*50)\n",
    "\n",
    "sent_1000 = final_['Text'].values[1000]\n",
    "print(sent_1000)\n",
    "print(\"=\"*50)\n",
    "\n",
    "sent_1500 = final_['Text'].values[1500]\n",
    "print(sent_1500)\n",
    "print(\"=\"*50)\n",
    "\n",
    "sent_4900 = final_['Text'].values[4900]\n",
    "print(sent_4900)\n",
    "print(\"=\"*50)"
   ]
  },
  {
   "cell_type": "code",
   "execution_count": 15,
   "metadata": {},
   "outputs": [
    {
     "name": "stdout",
     "output_type": "stream",
     "text": [
      "Mostly these days I find companies that are liviing in a dream state.  Davidson Tea is obviously, to me, one of the few that does not fall into this catagory.  Their product is the best I have had and their presentation and dellivery are the same.  I mean<br />top end Hibiscus.  Thanks for the service,  Joe\n"
     ]
    }
   ],
   "source": [
    "# remove urls from text python: https://stackoverflow.com/a/40823105/4084039\n",
    "sent_0 = re.sub(r\"http\\S+\", \"\", sent_0)\n",
    "sent_1000 = re.sub(r\"http\\S+\", \"\", sent_1000)\n",
    "sent_150 = re.sub(r\"http\\S+\", \"\", sent_1500)\n",
    "sent_4900 = re.sub(r\"http\\S+\", \"\", sent_4900)\n",
    "\n",
    "print(sent_0)"
   ]
  },
  {
   "cell_type": "code",
   "execution_count": 16,
   "metadata": {},
   "outputs": [
    {
     "name": "stdout",
     "output_type": "stream",
     "text": [
      "Mostly these days I find companies that are liviing in a dream state.  Davidson Tea is obviously, to me, one of the few that does not fall into this catagory.  Their product is the best I have had and their presentation and dellivery are the same.  I meantop end Hibiscus.  Thanks for the service,  Joe\n",
      "==================================================\n",
      "Great tasting chocolate cookies with a nice fudge center. These cookies are great for a chocolate lover and anyone who loves a super moist cookie because they are soft and moist. I love the consistency and the taste of these cookies. I will buy the cookies again.These cookies are similar to what a gourmet bakery will offer with out the overpricing of the bakery. I wish they were a little firmer so that when I microwave them they don't fall apart. The reseal able packaging is perfect to keep your cookies nice and fresh without worrying about them getting stale or attracting any insects. Great Job Chips Ahoy with this new Megafudge line of cookies my son and I loved them.\n",
      "==================================================\n",
      "I live in the boonies in Texas and when the local Wal-Mart stopped carrying Wiley's I thought the world was coming to an end!  I LOVE LOVE LOVE this product and now that I can order it online, I am once again a happy camper.  This is the BEST product to season purple hulls peas and others just like my grandmas did in the boonies of Arkansas (only there's no bacon grease!).  YUM!\n",
      "==================================================\n",
      "Great taste, and a lot less work then working from scratch. Add a little bit of carraway seeds, can't beat it!\n"
     ]
    }
   ],
   "source": [
    "# https://stackoverflow.com/questions/16206380/python-beautifulsoup-how-to-remove-all-tags-from-an-element\n",
    "from bs4 import BeautifulSoup\n",
    "\n",
    "soup = BeautifulSoup(sent_0, 'lxml')\n",
    "text = soup.get_text()\n",
    "print(text)\n",
    "print(\"=\"*50)\n",
    "\n",
    "soup = BeautifulSoup(sent_1000, 'lxml')\n",
    "text = soup.get_text()\n",
    "print(text)\n",
    "print(\"=\"*50)\n",
    "\n",
    "soup = BeautifulSoup(sent_1500, 'lxml')\n",
    "text = soup.get_text()\n",
    "print(text)\n",
    "print(\"=\"*50)\n",
    "\n",
    "soup = BeautifulSoup(sent_4900, 'lxml')\n",
    "text = soup.get_text()\n",
    "print(text)"
   ]
  },
  {
   "cell_type": "code",
   "execution_count": 17,
   "metadata": {
    "collapsed": true
   },
   "outputs": [],
   "source": [
    "# https://stackoverflow.com/a/47091490/4084039\n",
    "import re\n",
    "\n",
    "def decontracted(phrase):\n",
    "    # specific\n",
    "    phrase = re.sub(r\"won't\", \"will not\", phrase)\n",
    "    phrase = re.sub(r\"can\\'t\", \"can not\", phrase)\n",
    "\n",
    "    # general\n",
    "    phrase = re.sub(r\"n\\'t\", \" not\", phrase)\n",
    "    phrase = re.sub(r\"\\'re\", \" are\", phrase)\n",
    "    phrase = re.sub(r\"\\'s\", \" is\", phrase)\n",
    "    phrase = re.sub(r\"\\'d\", \" would\", phrase)\n",
    "    phrase = re.sub(r\"\\'ll\", \" will\", phrase)\n",
    "    phrase = re.sub(r\"\\'t\", \" not\", phrase)\n",
    "    phrase = re.sub(r\"\\'ve\", \" have\", phrase)\n",
    "    phrase = re.sub(r\"\\'m\", \" am\", phrase)\n",
    "    return phrase"
   ]
  },
  {
   "cell_type": "code",
   "execution_count": 18,
   "metadata": {},
   "outputs": [
    {
     "name": "stdout",
     "output_type": "stream",
     "text": [
      "I live in the boonies in Texas and when the local Wal-Mart stopped carrying Wiley is I thought the world was coming to an end!  I LOVE LOVE LOVE this product and now that I can order it online, I am once again a happy camper.  This is the BEST product to season purple hulls peas and others just like my grandmas did in the boonies of Arkansas (only there is no bacon grease!).  YUM!\n",
      "==================================================\n"
     ]
    }
   ],
   "source": [
    "sent_1500 = decontracted(sent_1500)\n",
    "print(sent_1500)\n",
    "print(\"=\"*50)"
   ]
  },
  {
   "cell_type": "code",
   "execution_count": 19,
   "metadata": {},
   "outputs": [
    {
     "name": "stdout",
     "output_type": "stream",
     "text": [
      "Mostly these days I find companies that are liviing in a dream state.  Davidson Tea is obviously, to me, one of the few that does not fall into this catagory.  Their product is the best I have had and their presentation and dellivery are the same.  I mean<br />top end Hibiscus.  Thanks for the service,  Joe\n"
     ]
    }
   ],
   "source": [
    "#remove words with numbers python: https://stackoverflow.com/a/18082370/4084039\n",
    "sent_0 = re.sub(\"\\S*\\d\\S*\", \"\", sent_0).strip()\n",
    "print(sent_0)"
   ]
  },
  {
   "cell_type": "code",
   "execution_count": 20,
   "metadata": {},
   "outputs": [
    {
     "name": "stdout",
     "output_type": "stream",
     "text": [
      "I live in the boonies in Texas and when the local Wal Mart stopped carrying Wiley is I thought the world was coming to an end I LOVE LOVE LOVE this product and now that I can order it online I am once again a happy camper This is the BEST product to season purple hulls peas and others just like my grandmas did in the boonies of Arkansas only there is no bacon grease YUM \n"
     ]
    }
   ],
   "source": [
    "#remove spacial character: https://stackoverflow.com/a/5843547/4084039\n",
    "sent_1500 = re.sub('[^A-Za-z0-9]+', ' ', sent_1500)\n",
    "print(sent_1500)"
   ]
  },
  {
   "cell_type": "code",
   "execution_count": 21,
   "metadata": {
    "collapsed": true
   },
   "outputs": [],
   "source": [
    "# https://gist.github.com/sebleier/554280\n",
    "# we are removing the words from the stop words list: 'no', 'nor', 'not'\n",
    "# <br /><br /> ==> after the above steps, we are getting \"br br\"\n",
    "# we are including them into stop words list\n",
    "# instead of <br /> if we have <br/> these tags would have revmoved in the 1st step\n",
    "\n",
    "stopwords= set(['br', 'the', 'i', 'me', 'my', 'myself', 'we', 'our', 'ours', 'ourselves', 'you', \"you're\", \"you've\",\\\n",
    "            \"you'll\", \"you'd\", 'your', 'yours', 'yourself', 'yourselves', 'he', 'him', 'his', 'himself', \\\n",
    "            'she', \"she's\", 'her', 'hers', 'herself', 'it', \"it's\", 'its', 'itself', 'they', 'them', 'their',\\\n",
    "            'theirs', 'themselves', 'what', 'which', 'who', 'whom', 'this', 'that', \"that'll\", 'these', 'those', \\\n",
    "            'am', 'is', 'are', 'was', 'were', 'be', 'been', 'being', 'have', 'has', 'had', 'having', 'do', 'does', \\\n",
    "            'did', 'doing', 'a', 'an', 'the', 'and', 'but', 'if', 'or', 'because', 'as', 'until', 'while', 'of', \\\n",
    "            'at', 'by', 'for', 'with', 'about', 'against', 'between', 'into', 'through', 'during', 'before', 'after',\\\n",
    "            'above', 'below', 'to', 'from', 'up', 'down', 'in', 'out', 'on', 'off', 'over', 'under', 'again', 'further',\\\n",
    "            'then', 'once', 'here', 'there', 'when', 'where', 'why', 'how', 'all', 'any', 'both', 'each', 'few', 'more',\\\n",
    "            'most', 'other', 'some', 'such', 'only', 'own', 'same', 'so', 'than', 'too', 'very', \\\n",
    "            's', 't', 'can', 'will', 'just', 'don', \"don't\", 'should', \"should've\", 'now', 'd', 'll', 'm', 'o', 're', \\\n",
    "            've', 'y', 'ain', 'aren', \"aren't\", 'couldn', \"couldn't\", 'didn', \"didn't\", 'doesn', \"doesn't\", 'hadn',\\\n",
    "            \"hadn't\", 'hasn', \"hasn't\", 'haven', \"haven't\", 'isn', \"isn't\", 'ma', 'mightn', \"mightn't\", 'mustn',\\\n",
    "            \"mustn't\", 'needn', \"needn't\", 'shan', \"shan't\", 'shouldn', \"shouldn't\", 'wasn', \"wasn't\", 'weren', \"weren't\", \\\n",
    "            'won', \"won't\", 'wouldn', \"wouldn't\"])"
   ]
  },
  {
   "cell_type": "code",
   "execution_count": 22,
   "metadata": {},
   "outputs": [
    {
     "name": "stderr",
     "output_type": "stream",
     "text": [
      "100%|█████████████████████████████████████████████████████████████████████████| 100000/100000 [02:10<00:00, 766.36it/s]\n",
      "100%|███████████████████████████████████████████████████████████████████████████| 40000/40000 [00:43<00:00, 909.33it/s]\n"
     ]
    }
   ],
   "source": [
    "# Combining all the above stundents \n",
    "from tqdm import tqdm\n",
    "preprocessed_reviews = []\n",
    "# tqdm is for printing the status bar\n",
    "for sentance in tqdm(final_['Text'].values):\n",
    "    sentance = re.sub(r\"http\\S+\", \"\", sentance)\n",
    "    sentance = BeautifulSoup(sentance, 'lxml').get_text()\n",
    "    sentance = decontracted(sentance)\n",
    "    sentance = re.sub(\"\\S*\\d\\S*\", \"\", sentance).strip()\n",
    "    sentance = re.sub('[^A-Za-z]+', ' ', sentance)\n",
    "    # https://gist.github.com/sebleier/554280\n",
    "    sentance = ' '.join(e.lower() for e in sentance.split() if e.lower() not in stopwords)\n",
    "    preprocessed_reviews.append(sentance.strip())\n",
    "    \n",
    "preprocessed_reviews_rbf = []\n",
    "# tqdm is for printing the status bar\n",
    "for sentance in tqdm(final_rbf['Text'].values):\n",
    "    sentance = re.sub(r\"http\\S+\", \"\", sentance)\n",
    "    sentance = BeautifulSoup(sentance, 'lxml').get_text()\n",
    "    sentance = decontracted(sentance)\n",
    "    sentance = re.sub(\"\\S*\\d\\S*\", \"\", sentance).strip()\n",
    "    sentance = re.sub('[^A-Za-z]+', ' ', sentance)\n",
    "    # https://gist.github.com/sebleier/554280\n",
    "    sentance = ' '.join(e.lower() for e in sentance.split() if e.lower() not in stopwords)\n",
    "    preprocessed_reviews_rbf.append(sentance.strip())    "
   ]
  },
  {
   "cell_type": "code",
   "execution_count": 23,
   "metadata": {},
   "outputs": [
    {
     "data": {
      "text/plain": [
       "'live boonies texas local wal mart stopped carrying wiley thought world coming end love love love product order online happy camper best product season purple hulls peas others like grandmas boonies arkansas no bacon grease yum'"
      ]
     },
     "execution_count": 23,
     "metadata": {},
     "output_type": "execute_result"
    }
   ],
   "source": [
    "preprocessed_reviews[1500]"
   ]
  },
  {
   "cell_type": "code",
   "execution_count": 24,
   "metadata": {
    "collapsed": true
   },
   "outputs": [],
   "source": [
    "from sklearn.model_selection import train_test_split\n",
    "\n",
    "X_train, X_test, Y_train, Y_test = train_test_split(preprocessed_reviews, final_['Score'], test_size=0.3)\n",
    "\n",
    "X_train_rbf, X_test_rbf, Y_train_rbf, Y_test_rbf = train_test_split(preprocessed_reviews_rbf, final_rbf['Score'], test_size=0.3)"
   ]
  },
  {
   "cell_type": "markdown",
   "metadata": {},
   "source": [
    "# [4] Featurization"
   ]
  },
  {
   "cell_type": "markdown",
   "metadata": {},
   "source": [
    "## [4.1] BAG OF WORDS"
   ]
  },
  {
   "cell_type": "code",
   "execution_count": 25,
   "metadata": {},
   "outputs": [
    {
     "name": "stdout",
     "output_type": "stream",
     "text": [
      "some feature names  ['ability', 'able', 'absolute', 'absolutely', 'absorb', 'absorbed', 'acai', 'accept', 'acceptable', 'accepted']\n",
      "==================================================\n",
      "the type of count vectorizer  <class 'scipy.sparse.csr.csr_matrix'>\n",
      "the shape of out text BOW vectorizer  (100000, 5000)\n",
      "the number of unique words  5000\n",
      "some feature names  ['able', 'absolutely', 'actually', 'add', 'added', 'aftertaste', 'ago', 'almost', 'already', 'also']\n",
      "==================================================\n",
      "the type of count vectorizer  <class 'scipy.sparse.csr.csr_matrix'>\n",
      "the shape of out text BOW vectorizer  (40000, 500)\n",
      "the number of unique words  500\n"
     ]
    }
   ],
   "source": [
    "#BoW\n",
    "count_vect = CountVectorizer(min_df=10, max_features=5000) #in scikit-learn\n",
    "X_train_bow = count_vect.fit_transform(X_train)\n",
    "print(\"some feature names \", count_vect.get_feature_names()[:10])\n",
    "print('='*50)\n",
    "X_test_bow = count_vect.transform(X_test)\n",
    "final_counts = count_vect.transform(preprocessed_reviews)\n",
    "print(\"the type of count vectorizer \",type(final_counts))\n",
    "print(\"the shape of out text BOW vectorizer \",final_counts.get_shape())\n",
    "print(\"the number of unique words \", final_counts.get_shape()[1])\n",
    "\n",
    "\n",
    "#BoW\n",
    "count_vect_rbf = CountVectorizer(min_df=10, max_features=500)\n",
    "X_train_bow_rbf = count_vect_rbf.fit_transform(X_train_rbf)\n",
    "print(\"some feature names \", count_vect_rbf.get_feature_names()[:10])\n",
    "print('='*50)\n",
    "X_test_bow_rbf = count_vect_rbf.transform(X_test_rbf)\n",
    "final_counts_rbf = count_vect_rbf.transform(preprocessed_reviews_rbf)\n",
    "print(\"the type of count vectorizer \",type(final_counts_rbf))\n",
    "print(\"the shape of out text BOW vectorizer \",final_counts_rbf.get_shape())\n",
    "print(\"the number of unique words \", final_counts_rbf.get_shape()[1])"
   ]
  },
  {
   "cell_type": "markdown",
   "metadata": {},
   "source": [
    "## [4.2] Bi-Grams and n-Grams."
   ]
  },
  {
   "cell_type": "code",
   "execution_count": 26,
   "metadata": {},
   "outputs": [
    {
     "name": "stdout",
     "output_type": "stream",
     "text": [
      "the type of count vectorizer  <class 'scipy.sparse.csr.csr_matrix'>\n",
      "the shape of out text BOW vectorizer  (100000, 5000)\n",
      "the number of unique words including both unigrams and bigrams  5000\n"
     ]
    }
   ],
   "source": [
    "#bi-gram, tri-gram and n-gram\n",
    "\n",
    "#removing stop words like \"not\" should be avoided before building n-grams\n",
    "# count_vect = CountVectorizer(ngram_range=(1,2))\n",
    "# please do read the CountVectorizer documentation http://scikit-learn.org/stable/modules/generated/sklearn.feature_extraction.text.CountVectorizer.html\n",
    "\n",
    "# you can choose these numebrs min_df=10, max_features=5000, of your choice\n",
    "count_vect = CountVectorizer(ngram_range=(1,2), min_df=10, max_features=5000)\n",
    "final_bigram_counts = count_vect.fit_transform(preprocessed_reviews)\n",
    "print(\"the type of count vectorizer \",type(final_bigram_counts))\n",
    "print(\"the shape of out text BOW vectorizer \",final_bigram_counts.get_shape())\n",
    "print(\"the number of unique words including both unigrams and bigrams \", final_bigram_counts.get_shape()[1])"
   ]
  },
  {
   "cell_type": "markdown",
   "metadata": {},
   "source": [
    "## [4.3] TF-IDF"
   ]
  },
  {
   "cell_type": "code",
   "execution_count": 90,
   "metadata": {},
   "outputs": [
    {
     "name": "stdout",
     "output_type": "stream",
     "text": [
      "some sample features(unique words in the corpus) ['aa', 'aafco', 'aback', 'abandon', 'abandoned', 'abc', 'abdominal', 'ability', 'able', 'able buy']\n",
      "==================================================\n",
      "the type of count vectorizer  <class 'scipy.sparse.csr.csr_matrix'>\n",
      "the shape of out text TFIDF vectorizer  (100000, 41671)\n",
      "the number of unique words including both unigrams and bigrams  41671\n",
      "some sample features(unique words in the corpus) ['able', 'absolutely', 'actually', 'add', 'added', 'aftertaste', 'ago', 'almost', 'already', 'also']\n",
      "==================================================\n",
      "the type of count vectorizer  <class 'scipy.sparse.csr.csr_matrix'>\n",
      "the shape of out text TFIDF vectorizer  (40000, 500)\n",
      "the number of unique words including both unigrams and bigrams  500\n"
     ]
    }
   ],
   "source": [
    "tf_idf_vect = TfidfVectorizer(ngram_range=(1,2), min_df=10)\n",
    "X_train_tfidf = tf_idf_vect.fit_transform(X_train)\n",
    "print(\"some sample features(unique words in the corpus)\",tf_idf_vect.get_feature_names()[0:10])\n",
    "print('='*50)\n",
    "\n",
    "X_test_tfidf = tf_idf_vect.transform(X_test)\n",
    "final_tf_idf = tf_idf_vect.transform(preprocessed_reviews)\n",
    "print(\"the type of count vectorizer \",type(final_tf_idf))\n",
    "print(\"the shape of out text TFIDF vectorizer \",final_tf_idf.get_shape())\n",
    "print(\"the number of unique words including both unigrams and bigrams \", final_tf_idf.get_shape()[1])\n",
    "\n",
    "\n",
    "tf_idf_vect_rbf = TfidfVectorizer(ngram_range=(1,2), min_df=10, max_features=500)\n",
    "X_train_tfidf_rbf = tf_idf_vect_rbf.fit_transform(X_train_rbf)\n",
    "print(\"some sample features(unique words in the corpus)\",tf_idf_vect_rbf.get_feature_names()[0:10])\n",
    "print('='*50)\n",
    "\n",
    "X_test_tfidf_rbf = tf_idf_vect_rbf.transform(X_test_rbf)\n",
    "final_tf_idf_rbf = tf_idf_vect_rbf.transform(preprocessed_reviews_rbf)\n",
    "print(\"the type of count vectorizer \",type(final_tf_idf_rbf))\n",
    "print(\"the shape of out text TFIDF vectorizer \",final_tf_idf_rbf.get_shape())\n",
    "print(\"the number of unique words including both unigrams and bigrams \", final_tf_idf_rbf.get_shape()[1])"
   ]
  },
  {
   "cell_type": "markdown",
   "metadata": {},
   "source": [
    "## [4.4] Word2Vec"
   ]
  },
  {
   "cell_type": "code",
   "execution_count": 91,
   "metadata": {
    "collapsed": true
   },
   "outputs": [],
   "source": [
    "# Train your own Word2Vec model using your own text corpus\n",
    "i=0\n",
    "list_of_sentance = []\n",
    "for sentance in X_train:\n",
    "    list_of_sentance.append(sentance.split())\n",
    "    \n",
    "list_of_sent_test = []\n",
    "for sentance in X_test:\n",
    "    list_of_sent_test.append(sentance.split())\n",
    "    \n",
    "list_of_sentance_rbf = []\n",
    "for sentance in X_train_rbf:\n",
    "    list_of_sentance_rbf.append(sentance.split())\n",
    "    \n",
    "list_of_sent_test_rbf = []\n",
    "for sentance in X_test_rbf:\n",
    "    list_of_sent_test_rbf.append(sentance.split())    "
   ]
  },
  {
   "cell_type": "code",
   "execution_count": 92,
   "metadata": {
    "scrolled": true
   },
   "outputs": [
    {
     "name": "stdout",
     "output_type": "stream",
     "text": [
      "[('awesome', 0.8507898449897766), ('fantastic', 0.8502188920974731), ('good', 0.8171984553337097), ('wonderful', 0.8091678023338318), ('excellent', 0.8001160621643066), ('perfect', 0.7954995632171631), ('terrific', 0.788025975227356), ('amazing', 0.7688205242156982), ('fabulous', 0.7170669436454773), ('nice', 0.7040174603462219)]\n",
      "==================================================\n",
      "[('nastiest', 0.8667160272598267), ('greatest', 0.7625442743301392), ('best', 0.7607357501983643), ('vile', 0.656509280204773), ('tastiest', 0.6369719505310059), ('saltiest', 0.6305539608001709), ('disgusting', 0.607917070388794), ('grossest', 0.6060681343078613), ('worse', 0.595989465713501), ('awful', 0.5902849435806274)]\n"
     ]
    }
   ],
   "source": [
    "# Using Google News Word2Vectors\n",
    "\n",
    "# in this project we are using a pretrained model by google\n",
    "# its 3.3G file, once you load this into your memory \n",
    "# it occupies ~9Gb, so please do this step only if you have >12G of ram\n",
    "# we will provide a pickle file wich contains a dict , \n",
    "# and it contains all our courpus words as keys and  model[word] as values\n",
    "# To use this code-snippet, download \"GoogleNews-vectors-negative300.bin\" \n",
    "# from https://drive.google.com/file/d/0B7XkCwpI5KDYNlNUTTlSS21pQmM/edit\n",
    "# it's 1.9GB in size.\n",
    "\n",
    "\n",
    "# http://kavita-ganesan.com/gensim-word2vec-tutorial-starter-code/#.W17SRFAzZPY\n",
    "# you can comment this whole cell\n",
    "# or change these varible according to your need\n",
    "\n",
    "is_your_ram_gt_16g=False\n",
    "want_to_use_google_w2v = False\n",
    "want_to_train_w2v = True\n",
    "\n",
    "if want_to_train_w2v:\n",
    "    # min_count = 5 considers only words that occured atleast 5 times\n",
    "    w2v_model=Word2Vec(list_of_sentance,min_count=5,size=50, workers=4)\n",
    "    print(w2v_model.wv.most_similar('great'))\n",
    "    print('='*50)\n",
    "    print(w2v_model.wv.most_similar('worst'))\n",
    "    \n",
    "elif want_to_use_google_w2v and is_your_ram_gt_16g:\n",
    "    if os.path.isfile('GoogleNews-vectors-negative300.bin'):\n",
    "        w2v_model=KeyedVectors.load_word2vec_format('GoogleNews-vectors-negative300.bin', binary=True)\n",
    "        print(w2v_model.wv.most_similar('great'))\n",
    "        print(w2v_model.wv.most_similar('worst'))\n",
    "    else:\n",
    "        print(\"you don't have gogole's word2vec file, keep want_to_train_w2v = True, to train your own w2v \")"
   ]
  },
  {
   "cell_type": "code",
   "execution_count": 93,
   "metadata": {},
   "outputs": [
    {
     "name": "stdout",
     "output_type": "stream",
     "text": [
      "number of words that occured minimum 5 times  16659\n",
      "sample words  ['excellent', 'variety', 'quantity', 'gift', 'coffee', 'lover', 'friend', 'mine', 'also', 'pleased', 'recieve', 'quality', 'product', 'dog', 'got', 'ill', 'eating', 'treats', 'e', 'g', 'diarrhea', 'vomiting', 'would', 'not', 'recommend', 'pet', 'owner', 'agree', 'folks', 'concerned', 'made', 'china', 'aspect', 'packaging', 'makes', 'appealing', 'natural', 'healthy', 'treat', 'dogs', 'purchase', 'caution', 'pot', 'lids', 'standardized', 'supplier', 'quite', 'helpful', 'first', 'lid']\n"
     ]
    }
   ],
   "source": [
    "w2v_words = list(w2v_model.wv.vocab)\n",
    "print(\"number of words that occured minimum 5 times \",len(w2v_words))\n",
    "print(\"sample words \", w2v_words[0:50])"
   ]
  },
  {
   "cell_type": "markdown",
   "metadata": {},
   "source": [
    "## [4.4.1] Converting text into vectors using Avg W2V, TFIDF-W2V"
   ]
  },
  {
   "cell_type": "markdown",
   "metadata": {},
   "source": [
    "#### [4.4.1.1] Avg W2v"
   ]
  },
  {
   "cell_type": "code",
   "execution_count": 94,
   "metadata": {},
   "outputs": [
    {
     "name": "stderr",
     "output_type": "stream",
     "text": [
      "100%|███████████████████████████████████████████████████████████████████████████| 70000/70000 [01:24<00:00, 831.34it/s]\n"
     ]
    },
    {
     "name": "stdout",
     "output_type": "stream",
     "text": [
      "70000\n",
      "50\n"
     ]
    },
    {
     "name": "stderr",
     "output_type": "stream",
     "text": [
      "100%|███████████████████████████████████████████████████████████████████████████| 30000/30000 [00:39<00:00, 755.54it/s]\n"
     ]
    },
    {
     "name": "stdout",
     "output_type": "stream",
     "text": [
      "30000\n",
      "50\n"
     ]
    },
    {
     "name": "stderr",
     "output_type": "stream",
     "text": [
      "100%|███████████████████████████████████████████████████████████████████████████| 28000/28000 [00:36<00:00, 760.80it/s]\n"
     ]
    },
    {
     "name": "stdout",
     "output_type": "stream",
     "text": [
      "28000\n",
      "50\n"
     ]
    },
    {
     "name": "stderr",
     "output_type": "stream",
     "text": [
      "100%|███████████████████████████████████████████████████████████████████████████| 12000/12000 [00:15<00:00, 778.35it/s]\n"
     ]
    },
    {
     "name": "stdout",
     "output_type": "stream",
     "text": [
      "12000\n",
      "50\n"
     ]
    }
   ],
   "source": [
    "# average Word2Vec\n",
    "# compute average word2vec for each review.\n",
    "sent_vectors_TRAIN_aw2v = []; # the avg-w2v for each sentence/review is stored in this list\n",
    "for sent in tqdm(list_of_sentance): # for each review/sentence\n",
    "    sent_vec = np.zeros(50) # as word vectors are of zero length 50, you might need to change this to 300 if you use google's w2v\n",
    "    cnt_words =0; # num of words with a valid vector in the sentence/review\n",
    "    for word in sent: # for each word in a review/sentence\n",
    "        if word in w2v_words:\n",
    "            vec = w2v_model.wv[word]\n",
    "            sent_vec += vec\n",
    "            cnt_words += 1\n",
    "    if cnt_words != 0:\n",
    "        sent_vec /= cnt_words\n",
    "    sent_vectors_TRAIN_aw2v.append(sent_vec)\n",
    "print(len(sent_vectors_TRAIN_aw2v))\n",
    "print(len(sent_vectors_TRAIN_aw2v[0]))\n",
    "    \n",
    "    \n",
    "sent_vectors_TEST_aw2v = []; \n",
    "for sent in tqdm(list_of_sent_test): \n",
    "    sent_vec = np.zeros(50)\n",
    "    cnt_words =0; \n",
    "    for word in sent: \n",
    "        if word in w2v_words:\n",
    "            vec = w2v_model.wv[word]\n",
    "            sent_vec += vec\n",
    "            cnt_words += 1\n",
    "    if cnt_words != 0:\n",
    "        sent_vec /= cnt_words\n",
    "    sent_vectors_TEST_aw2v.append(sent_vec)    \n",
    "\n",
    "print(len(sent_vectors_TEST_aw2v))\n",
    "print(len(sent_vectors_TEST_aw2v[0]))\n",
    "\n",
    "\n",
    "# average Word2Vec\n",
    "# compute average word2vec for each review.\n",
    "sent_vectors_TRAIN_rbf_aw2v = []; # the avg-w2v for each sentence/review is stored in this list\n",
    "for sent in tqdm(list_of_sentance_rbf): # for each review/sentence\n",
    "    sent_vec = np.zeros(50) # as word vectors are of zero length 50, you might need to change this to 300 if you use google's w2v\n",
    "    cnt_words =0; # num of words with a valid vector in the sentence/review\n",
    "    for word in sent: # for each word in a review/sentence\n",
    "        if word in w2v_words:\n",
    "            vec = w2v_model.wv[word]\n",
    "            sent_vec += vec\n",
    "            cnt_words += 1\n",
    "    if cnt_words != 0:\n",
    "        sent_vec /= cnt_words\n",
    "    sent_vectors_TRAIN_rbf_aw2v.append(sent_vec)\n",
    "print(len(sent_vectors_TRAIN_rbf_aw2v))\n",
    "print(len(sent_vectors_TRAIN_rbf_aw2v[0]))\n",
    "    \n",
    "    \n",
    "sent_vectors_TEST_rbf_aw2v = []; \n",
    "for sent in tqdm(list_of_sent_test_rbf): \n",
    "    sent_vec = np.zeros(50)\n",
    "    cnt_words =0; \n",
    "    for word in sent: \n",
    "        if word in w2v_words:\n",
    "            vec = w2v_model.wv[word]\n",
    "            sent_vec += vec\n",
    "            cnt_words += 1\n",
    "    if cnt_words != 0:\n",
    "        sent_vec /= cnt_words\n",
    "    sent_vectors_TEST_rbf_aw2v.append(sent_vec)    \n",
    "\n",
    "print(len(sent_vectors_TEST_rbf_aw2v))\n",
    "print(len(sent_vectors_TEST_rbf_aw2v[0]))"
   ]
  },
  {
   "cell_type": "markdown",
   "metadata": {},
   "source": [
    "#### [4.4.1.2] TFIDF weighted W2v"
   ]
  },
  {
   "cell_type": "code",
   "execution_count": 95,
   "metadata": {
    "collapsed": true
   },
   "outputs": [],
   "source": [
    "# S = [\"abc def pqr\", \"def def def abc\", \"pqr pqr def\"]\n",
    "model = TfidfVectorizer(max_features=500)\n",
    "tf_idf_matrix = model.fit_transform(preprocessed_reviews)\n",
    "# we are converting a dictionary with word as a key, and the idf as a value\n",
    "dictionary1 = dict(zip(model.get_feature_names(), list(model.idf_)))\n",
    "\n",
    "model2 = TfidfVectorizer(max_features=500)\n",
    "tf_idf_matrix_2 = model2.fit_transform(preprocessed_reviews_rbf)\n",
    "# we are converting a dictionary with word as a key, and the idf as a value\n",
    "dictionary2 = dict(zip(model2.get_feature_names(), list(model2.idf_)))"
   ]
  },
  {
   "cell_type": "code",
   "execution_count": 96,
   "metadata": {
    "scrolled": true
   },
   "outputs": [
    {
     "name": "stderr",
     "output_type": "stream",
     "text": [
      "100%|███████████████████████████████████████████████████████████████████████████| 70000/70000 [01:45<00:00, 663.83it/s]\n",
      "100%|███████████████████████████████████████████████████████████████████████████| 30000/30000 [00:46<00:00, 641.65it/s]\n",
      "100%|███████████████████████████████████████████████████████████████████████████| 28000/28000 [00:43<00:00, 647.56it/s]\n",
      "100%|███████████████████████████████████████████████████████████████████████████| 12000/12000 [00:17<00:00, 671.49it/s]\n"
     ]
    }
   ],
   "source": [
    "# TF-IDF weighted Word2Vec\n",
    "tfidf_feat = model.get_feature_names() # tfidf words/col-names\n",
    "# final_tf_idf is the sparse matrix with row= sentence, col=word and cell_val = tfidf\n",
    "\n",
    "tfidf_sent_vectors_TRAIN_tfidfw2v = []; # the tfidf-w2v for each sentence/review is stored in this list\n",
    "row=0;\n",
    "for sent in tqdm(list_of_sentance): # for each review/sentence \n",
    "    sent_vec = np.zeros(50) # as word vectors are of zero length\n",
    "    weight_sum =0; # num of words with a valid vector in the sentence/review\n",
    "    for word in sent: # for each word in a review/sentence\n",
    "        if word in w2v_words and word in tfidf_feat:\n",
    "            vec = w2v_model.wv[word]\n",
    "#             tf_idf = tf_idf_matrix[row, tfidf_feat.index(word)]\n",
    "            # to reduce the computation we are \n",
    "            # dictionary[word] = idf value of word in whole courpus\n",
    "            # sent.count(word) = tf valeus of word in this review\n",
    "            tf_idf = dictionary1[word]*(sent.count(word)/len(sent))\n",
    "            sent_vec += (vec * tf_idf)\n",
    "            weight_sum += tf_idf\n",
    "    if weight_sum != 0:\n",
    "        sent_vec /= weight_sum\n",
    "    tfidf_sent_vectors_TRAIN_tfidfw2v.append(sent_vec)\n",
    "    row += 1\n",
    "    \n",
    "tfidf_sent_vectors_TEST_tfidfw2v = [];\n",
    "row=0\n",
    "for sent in tqdm(list_of_sent_test):  \n",
    "    sent_vec = np.zeros(50) \n",
    "    weight_sum =0\n",
    "    for word in sent: \n",
    "        if word in w2v_words and word in tfidf_feat:\n",
    "            vec = w2v_model.wv[word]\n",
    "            tf_idf = dictionary1[word]*(sent.count(word)/len(sent))\n",
    "            sent_vec += (vec * tf_idf)\n",
    "            weight_sum += tf_idf\n",
    "    if weight_sum != 0:\n",
    "        sent_vec /= weight_sum\n",
    "    tfidf_sent_vectors_TEST_tfidfw2v.append(sent_vec)\n",
    "    row += 1\n",
    "    \n",
    "# TF-IDF weighted Word2Vec\n",
    "tfidf_feat = model2.get_feature_names() # tfidf words/col-names\n",
    "# final_tf_idf is the sparse matrix with row= sentence, col=word and cell_val = tfidf\n",
    "\n",
    "tfidf_sent_vectors_TRAIN_rbf_tfidfw2v = []; # the tfidf-w2v for each sentence/review is stored in this list\n",
    "row=0;\n",
    "for sent in tqdm(list_of_sentance_rbf): # for each review/sentence \n",
    "    sent_vec = np.zeros(50) # as word vectors are of zero length\n",
    "    weight_sum =0; # num of words with a valid vector in the sentence/review\n",
    "    for word in sent: # for each word in a review/sentence\n",
    "        if word in w2v_words and word in tfidf_feat:\n",
    "            vec = w2v_model.wv[word]\n",
    "#             tf_idf = tf_idf_matrix[row, tfidf_feat.index(word)]\n",
    "            # to reduce the computation we are \n",
    "            # dictionary[word] = idf value of word in whole courpus\n",
    "            # sent.count(word) = tf valeus of word in this review\n",
    "            tf_idf = dictionary2[word]*(sent.count(word)/len(sent))\n",
    "            sent_vec += (vec * tf_idf)\n",
    "            weight_sum += tf_idf\n",
    "    if weight_sum != 0:\n",
    "        sent_vec /= weight_sum\n",
    "    tfidf_sent_vectors_TRAIN_rbf_tfidfw2v.append(sent_vec)\n",
    "    row += 1\n",
    "    \n",
    "tfidf_sent_vectors_TEST_rbf_tfidfw2v = [];\n",
    "row=0\n",
    "for sent in tqdm(list_of_sent_test_rbf):  \n",
    "    sent_vec = np.zeros(50) \n",
    "    weight_sum =0\n",
    "    for word in sent: \n",
    "        if word in w2v_words and word in tfidf_feat:\n",
    "            vec = w2v_model.wv[word]\n",
    "            tf_idf = dictionary2[word]*(sent.count(word)/len(sent))\n",
    "            sent_vec += (vec * tf_idf)\n",
    "            weight_sum += tf_idf\n",
    "    if weight_sum != 0:\n",
    "        sent_vec /= weight_sum\n",
    "    tfidf_sent_vectors_TEST_rbf_tfidfw2v.append(sent_vec)\n",
    "    row += 1            "
   ]
  },
  {
   "cell_type": "markdown",
   "metadata": {},
   "source": [
    "# SVM"
   ]
  },
  {
   "cell_type": "markdown",
   "metadata": {},
   "source": [
    "<ol>\n",
    "    <li><strong>Apply SVM on these feature sets</strong>\n",
    "        <ul>\n",
    "            <li><font color='red'>SET 1:</font>Review text, preprocessed one converted into vectors using (BOW)</li>\n",
    "            <li><font color='red'>SET 2:</font>Review text, preprocessed one converted into vectors using (TFIDF)</li>\n",
    "            <li><font color='red'>SET 3:</font>Review text, preprocessed one converted into vectors using (AVG W2v)</li>\n",
    "            <li><font color='red'>SET 4:</font>Review text, preprocessed one converted into vectors using (TFIDF W2v)</li>\n",
    "        </ul>\n",
    "    </li>\n",
    "    <br>\n",
    "    <li><strong>Procedure</strong>\n",
    "        <ul>\n",
    "    <li>You need to work with 2 versions of SVM\n",
    "        <ul><li>Linear kernel</li>\n",
    "            <li>RBF kernel</li></ul>\n",
    "    <li>Use of SGDClassifier’ with hinge loss because it is computationally less expensive and works like linear SVM</li>\n",
    "    <li>Similarly, like kdtree of knn, while working with RBF kernel it's better to reduce the number of dimensions. min_df = 10, max_features = 500. 40k points considered.</li>                \n",
    "        </ul>\n",
    "    </li>\n",
    "    <br>\n",
    "    <li><strong>Hyper paramter tuning (Best alpha in range [10^-4 to 10^4], and the best penalty among 'l1', 'l2')</strong>\n",
    "        <ul>\n",
    "    <li>Finding the best hyper paramter using 3-fold cross validation.</li>\n",
    "    <li>Used gridsearch cv for hyper parameter tuning in the case of RBF kernel SVM.</li>          \n",
    "        </ul>\n",
    "    </li>\n",
    "    <br>\n",
    "    <li><strong>Feature importance</strong>\n",
    "        <ul>\n",
    "    <li>While working on the linear kernel with BOW or TFIDF top 10 best features are printed for each of the positive and negative classes.</li>\n",
    "        </ul>\n",
    "    </li>"
   ]
  },
  {
   "cell_type": "markdown",
   "metadata": {},
   "source": [
    "# Applying SVM"
   ]
  },
  {
   "cell_type": "markdown",
   "metadata": {},
   "source": [
    "## [5.1] Linear SVM"
   ]
  },
  {
   "cell_type": "markdown",
   "metadata": {},
   "source": [
    "### [5.1.1] Applying Linear SVM on BOW,<font color='red'> SET 1</font>"
   ]
  },
  {
   "cell_type": "code",
   "execution_count": 124,
   "metadata": {
    "collapsed": true,
    "scrolled": false
   },
   "outputs": [],
   "source": [
    "# standardization\n",
    "from sklearn.preprocessing import StandardScaler\n",
    "std = StandardScaler(copy=True, with_mean=False, with_std=True)\n",
    "X_tra = std.fit_transform(X_train_bow)\n",
    "X_tes = std.transform(X_test_bow)\n",
    "\n",
    "\n",
    "from sklearn.linear_model import SGDClassifier\n",
    "from sklearn.calibration import CalibratedClassifierCV\n",
    "from sklearn.metrics import roc_auc_score\n",
    "\n",
    "alpha = [0.0001,0.001,0.01,0.1,1,10,100,1000]\n",
    "pen =  ['l2','l1']\n",
    "d = {}\n",
    "\n",
    "for i in alpha:\n",
    "    for j in pen:                         \n",
    "        clf = SGDClassifier(alpha=i, penalty=j, loss='hinge', random_state=10)\n",
    "        clf.fit(X_tra, Y_train)\n",
    "        cccv = CalibratedClassifierCV(clf, method=\"sigmoid\")\n",
    "        cccv.fit(X_tra, Y_train)\n",
    "        predict_y = cccv.predict_proba(X_tes)[:,1]\n",
    "        temp = roc_auc_score(Y_test, predict_y)\n",
    "        d[i,j] = (temp)   "
   ]
  },
  {
   "cell_type": "code",
   "execution_count": 125,
   "metadata": {},
   "outputs": [
    {
     "data": {
      "image/png": "[encoded data removed]",
      "text/plain": [
       "<matplotlib.figure.Figure at 0x282fb685ef0>"
      ]
     },
     "metadata": {},
     "output_type": "display_data"
    }
   ],
   "source": [
    "l1 = []\n",
    "l2 = []\n",
    "for i in alpha:\n",
    "    l1.append(d[i,'l1'])\n",
    "    l2.append(d[i,'l2'])\n",
    "\n",
    "plt.plot(np.log(alpha),l1, color = 'darkorange', label='L1')\n",
    "plt.plot(np.log(alpha),l2, color = 'blue', label='L2')\n",
    "plt.legend()\n",
    "plt.xlabel('Hyperparameter')\n",
    "plt.ylabel('AUC')\n",
    "plt.title(' Hyperparameter v/s AUC')\n",
    "plt.show()"
   ]
  },
  {
   "cell_type": "code",
   "execution_count": 126,
   "metadata": {},
   "outputs": [
    {
     "name": "stdout",
     "output_type": "stream",
     "text": [
      "The best value of hyper parameter is  (0.1, 'l2')\n",
      "The max auc score is  0.9469278064\n"
     ]
    }
   ],
   "source": [
    "import operator\n",
    "c_ = max(d.items(), key=operator.itemgetter(1))[0]\n",
    "max_auc = d[c_]\n",
    "print('The best value of hyper parameter is ', c_)\n",
    "print('The max auc score is ', max_auc)"
   ]
  },
  {
   "cell_type": "code",
   "execution_count": 127,
   "metadata": {},
   "outputs": [
    {
     "data": {
      "image/png": "[encoded data removed]",
      "text/plain": [
       "<matplotlib.figure.Figure at 0x282fda57eb8>"
      ]
     },
     "metadata": {},
     "output_type": "display_data"
    },
    {
     "name": "stdout",
     "output_type": "stream",
     "text": [
      "Accuracy on test set: 0.89%\n",
      "Precision on test set: 0.88%\n",
      "Recall on test set: 0.89%\n",
      "F1 score on test set: 0.89%\n"
     ]
    },
    {
     "data": {
      "image/png": "[encoded data removed]",
      "text/plain": [
       "<matplotlib.figure.Figure at 0x282fd15bb38>"
      ]
     },
     "metadata": {},
     "output_type": "display_data"
    }
   ],
   "source": [
    "#training the model with best value of hyper parameter\n",
    "from sklearn.linear_model import SGDClassifier\n",
    "from sklearn.calibration import CalibratedClassifierCV\n",
    "from sklearn.metrics import accuracy_score, f1_score, recall_score, precision_score, roc_curve, auc\n",
    "\n",
    "clf = SGDClassifier(alpha=c_[0], penalty=c_[1], loss='hinge', random_state=10)\n",
    "clf.fit(X_tra, Y_train)\n",
    "cccv = CalibratedClassifierCV(clf, method=\"sigmoid\")\n",
    "cccv.fit(X_tra, Y_train)\n",
    "\n",
    "predict_y_tr = cccv.predict_proba(X_tra)\n",
    "predict_y = cccv.predict_proba(X_tes)\n",
    "y_pred  = cccv.predict(X_tes)\n",
    "\n",
    "fpr, tpr, thresholds = roc_curve(Y_test, predict_y[:,1])\n",
    "fpr_tr, tpr_tr, thresholds_tr = roc_curve(Y_train, predict_y_tr[:,1])\n",
    "\n",
    "roc_auc_te = auc(fpr, tpr)\n",
    "roc_auc_tr = auc(fpr_tr, tpr_tr)\n",
    "\n",
    "plt.figure()\n",
    "plt.plot(fpr, tpr, color='darkorange', lw=1, label='Test curve (area = %0.2f)' % roc_auc_te)\n",
    "plt.plot(fpr_tr, tpr_tr, color='blue', lw=1, label='Train (area = %0.2f)' % roc_auc_tr)\n",
    "plt.plot([0, 1], [0, 1], color='navy', linestyle='--')\n",
    "plt.xlim([0.0, 1.0])\n",
    "plt.ylim([0.0, 1.05])\n",
    "plt.xlabel('False Positive Rate')\n",
    "plt.ylabel('True Positive Rate')\n",
    "plt.title('Receiver operating characteristic')\n",
    "plt.legend(loc=\"lower right\")\n",
    "plt.show()\n",
    "\n",
    "import seaborn as sns\n",
    "ax = sns.heatmap(confusion_matrix(Y_test, y_pred), annot=True, fmt='d')\n",
    "\n",
    "print('Accuracy on test set: %0.2f%%'%(accuracy_score(Y_test, y_pred)))\n",
    "print('Precision on test set: %0.2f%%'%(precision_score(Y_test, y_pred)))\n",
    "print('Recall on test set: %0.2f%%'%(recall_score(Y_test, y_pred)))\n",
    "print('F1 score on test set: %0.2f%%'%(f1_score(Y_test, y_pred)))"
   ]
  },
  {
   "cell_type": "code",
   "execution_count": 128,
   "metadata": {},
   "outputs": [
    {
     "name": "stdout",
     "output_type": "stream",
     "text": [
      "\t\t\tNegative\t\t\t\t\t\tPositive\n",
      "________________________________________________________________________________________________\n",
      "\t-0.2678\tnot            \t\t\t\t0.2267\tgreat          \n",
      "\t-0.1478\tdisappointed   \t\t\t\t0.1686\tbest           \n",
      "\t-0.1062\tworst          \t\t\t\t0.1568\tgood           \n",
      "\t-0.1014\tterrible       \t\t\t\t0.1484\tlove           \n",
      "\t-0.0984\tawful          \t\t\t\t0.1447\tdelicious      \n",
      "\t-0.0919\tdisappointing  \t\t\t\t0.1227\tloves          \n",
      "\t-0.0909\tstale          \t\t\t\t0.1066\tperfect        \n",
      "\t-0.0861\thorrible       \t\t\t\t0.1023\texcellent      \n",
      "\t-0.0860\tthought        \t\t\t\t0.0962\tnice           \n",
      "\t-0.0840\tdisappointment \t\t\t\t0.0932\twonderful      \n"
     ]
    }
   ],
   "source": [
    "def show_most_informative_features(vectorizer, clf, n=10):\n",
    "    feature_names = vectorizer.get_feature_names()\n",
    "    coefs_with_fns = sorted(zip(clf.coef_[0], feature_names))\n",
    "    top = zip(coefs_with_fns[:n], coefs_with_fns[:-(n + 1):-1])\n",
    "    print(\"\\t\\t\\tNegative\\t\\t\\t\\t\\t\\tPositive\")\n",
    "    print(\"________________________________________________________________________________________________\")\n",
    "    for (coef_1, fn_1), (coef_2, fn_2) in top:\n",
    "        print(\"\\t%.4f\\t%-15s\\t\\t\\t\\t%.4f\\t%-15s\" % (coef_1, fn_1, coef_2, fn_2))\n",
    "        \n",
    "show_most_informative_features(count_vect,clf)\n",
    "#Code Reference:https://stackoverflow.com/questions/11116697/how-to-get-most-informative-features-for-scikit-learn-classifiers"
   ]
  },
  {
   "cell_type": "markdown",
   "metadata": {},
   "source": [
    "### [5.1.2] Applying Linear SVM on TFIDF,<font color='red'> SET 2</font>"
   ]
  },
  {
   "cell_type": "code",
   "execution_count": 97,
   "metadata": {
    "collapsed": true
   },
   "outputs": [],
   "source": [
    "# standardization\n",
    "from sklearn.preprocessing import StandardScaler\n",
    "std = StandardScaler(copy=True, with_mean=False, with_std=True)\n",
    "X_tra = std.fit_transform(X_train_tfidf)\n",
    "X_tes = std.transform(X_test_tfidf)\n",
    "\n",
    "\n",
    "from sklearn.linear_model import SGDClassifier\n",
    "from sklearn.calibration import CalibratedClassifierCV\n",
    "from sklearn.metrics import hinge_loss\n",
    "from sklearn.metrics import log_loss\n",
    "from sklearn.metrics import roc_auc_score\n",
    "\n",
    "alpha = [0.0001,0.001,0.01,0.1,1,10,100,1000]\n",
    "pen =  ['l2','l1']\n",
    "d = {}\n",
    "\n",
    "for i in alpha:\n",
    "    for j in pen:                         \n",
    "        clf = SGDClassifier(alpha=i, penalty=j, loss='hinge', random_state=10, class_weight='balanced')\n",
    "        clf.fit(X_tra, Y_train)\n",
    "        cccv = CalibratedClassifierCV(clf, cv=10, method=\"sigmoid\")\n",
    "        cccv.fit(X_tra, Y_train)\n",
    "        predict_y = cccv.predict_proba(X_tes)[:,1]\n",
    "        temp = roc_auc_score(Y_test,predict_y)\n",
    "        d[i,j] = (temp)   "
   ]
  },
  {
   "cell_type": "code",
   "execution_count": 98,
   "metadata": {},
   "outputs": [
    {
     "data": {
      "image/png": "[encoded data removed]",
      "text/plain": [
       "<matplotlib.figure.Figure at 0x282fb60ee80>"
      ]
     },
     "metadata": {},
     "output_type": "display_data"
    }
   ],
   "source": [
    "l1 = []\n",
    "l2 = []\n",
    "for i in alpha:\n",
    "    l1.append(d[i,'l1'])\n",
    "    l2.append(d[i,'l2'])\n",
    "\n",
    "plt.plot(np.log(alpha),l1, color = 'darkorange', label='L1')\n",
    "plt.plot(np.log(alpha),l2, color = 'blue', label='L2')\n",
    "plt.legend()\n",
    "plt.xlabel('Hyperparameter')\n",
    "plt.ylabel('AUC')\n",
    "plt.title(' Hyperparameter v/s AUC')\n",
    "plt.show()"
   ]
  },
  {
   "cell_type": "code",
   "execution_count": 100,
   "metadata": {},
   "outputs": [
    {
     "name": "stdout",
     "output_type": "stream",
     "text": [
      "The best value of hyper parameter is  (1, 'l2')\n",
      "The max auc score  0.96157645189\n"
     ]
    }
   ],
   "source": [
    "import operator\n",
    "c_ = max(d.items(), key=operator.itemgetter(1))[0]\n",
    "max_auc = d[c_]\n",
    "print('The best value of hyper parameter is ', c_)\n",
    "print('The max auc score ', max_auc)"
   ]
  },
  {
   "cell_type": "code",
   "execution_count": 101,
   "metadata": {},
   "outputs": [
    {
     "data": {
      "image/png": "[encoded data removed]",
      "text/plain": [
       "<matplotlib.figure.Figure at 0x282fb6a6208>"
      ]
     },
     "metadata": {},
     "output_type": "display_data"
    },
    {
     "name": "stdout",
     "output_type": "stream",
     "text": [
      "Accuracy on test set: 0.90%\n",
      "Precision on test set: 0.90%\n",
      "Recall on test set: 0.90%\n",
      "F1 score on test set: 0.90%\n"
     ]
    },
    {
     "data": {
      "image/png": "[encoded data removed]",
      "text/plain": [
       "<matplotlib.figure.Figure at 0x282fb6b0da0>"
      ]
     },
     "metadata": {},
     "output_type": "display_data"
    }
   ],
   "source": [
    "#training the model with best value of hyper parameter\n",
    "from sklearn.linear_model import SGDClassifier\n",
    "from sklearn.calibration import CalibratedClassifierCV\n",
    "from sklearn.metrics import accuracy_score, f1_score, recall_score, precision_score, roc_curve, auc\n",
    "\n",
    "clf = SGDClassifier(alpha=c_[0], penalty=c_[1], loss='hinge', random_state=10)\n",
    "clf.fit(X_tra, Y_train)\n",
    "cccv = CalibratedClassifierCV(clf, method=\"sigmoid\")\n",
    "cccv.fit(X_tra, Y_train)\n",
    "\n",
    "predict_y_tr = cccv.predict_proba(X_tra)[:,1]\n",
    "predict_y = cccv.predict_proba(X_tes)[:,1]\n",
    "y_pred  = cccv.predict(X_tes)\n",
    "\n",
    "fpr, tpr, thresholds = roc_curve(Y_test, predict_y)\n",
    "fpr_tr, tpr_tr, thresholds_tr = roc_curve(Y_train, predict_y_tr)\n",
    "\n",
    "roc_auc_te = auc(fpr, tpr)\n",
    "roc_auc_tr = auc(fpr_tr, tpr_tr)\n",
    "\n",
    "plt.figure()\n",
    "plt.plot(fpr, tpr, color='darkorange', lw=1, label='Test curve (area = %0.2f)' % roc_auc_te)\n",
    "plt.plot(fpr_tr, tpr_tr, color='blue', lw=1, label='Train (area = %0.2f)' % roc_auc_tr)\n",
    "plt.plot([0, 1], [0, 1], color='navy', linestyle='--')\n",
    "plt.xlim([0.0, 1.0])\n",
    "plt.ylim([0.0, 1.05])\n",
    "plt.xlabel('False Positive Rate')\n",
    "plt.ylabel('True Positive Rate')\n",
    "plt.title('Receiver operating characteristic')\n",
    "plt.legend(loc=\"lower right\")\n",
    "plt.show()\n",
    "\n",
    "import seaborn as sns\n",
    "ax = sns.heatmap(confusion_matrix(Y_test, y_pred), annot=True, fmt='d')\n",
    "\n",
    "print('Accuracy on test set: %0.2f%%'%(accuracy_score(Y_test, y_pred)))\n",
    "print('Precision on test set: %0.2f%%'%(precision_score(Y_test, y_pred)))\n",
    "print('Recall on test set: %0.2f%%'%(recall_score(Y_test, y_pred)))\n",
    "print('F1 score on test set: %0.2f%%'%(f1_score(Y_test, y_pred)))"
   ]
  },
  {
   "cell_type": "code",
   "execution_count": 103,
   "metadata": {},
   "outputs": [
    {
     "name": "stdout",
     "output_type": "stream",
     "text": [
      "\t\t\tNegative\t\t\t\t\t\tPositive\n",
      "________________________________________________________________________________________________\n",
      "\t-0.0518\tnot            \t\t\t\t0.0526\tgreat          \n",
      "\t-0.0390\tdisappointed   \t\t\t\t0.0398\tbest           \n",
      "\t-0.0309\tnot good       \t\t\t\t0.0387\tdelicious      \n",
      "\t-0.0275\tnot buy        \t\t\t\t0.0377\tlove           \n",
      "\t-0.0269\tworst          \t\t\t\t0.0333\tgood           \n",
      "\t-0.0259\tdisappointing  \t\t\t\t0.0302\tloves          \n",
      "\t-0.0259\tnot recommend  \t\t\t\t0.0294\tperfect        \n",
      "\t-0.0256\tnot worth      \t\t\t\t0.0263\texcellent      \n",
      "\t-0.0238\tawful          \t\t\t\t0.0261\twonderful      \n",
      "\t-0.0236\tterrible       \t\t\t\t0.0244\tfavorite       \n"
     ]
    }
   ],
   "source": [
    "def show_most_informative_features(vectorizer, clf, n=10):\n",
    "    feature_names = vectorizer.get_feature_names()\n",
    "    coefs_with_fns = sorted(zip(clf.coef_[0], feature_names))\n",
    "    top = zip(coefs_with_fns[:n], coefs_with_fns[:-(n + 1):-1])\n",
    "    print(\"\\t\\t\\tNegative\\t\\t\\t\\t\\t\\tPositive\")\n",
    "    print(\"________________________________________________________________________________________________\")\n",
    "    for (coef_1, fn_1), (coef_2, fn_2) in top:\n",
    "        print(\"\\t%.4f\\t%-15s\\t\\t\\t\\t%.4f\\t%-15s\" % (coef_1, fn_1, coef_2, fn_2))\n",
    "        \n",
    "show_most_informative_features(tf_idf_vect,clf)\n",
    "#Code Reference:https://stackoverflow.com/questions/11116697/how-to-get-most-informative-features-for-scikit-learn-classifiers"
   ]
  },
  {
   "cell_type": "markdown",
   "metadata": {},
   "source": [
    "### [5.1.3]  Applying Linear SVM on AVG W2V,<font color='red'> SET 3</font>"
   ]
  },
  {
   "cell_type": "code",
   "execution_count": 104,
   "metadata": {
    "collapsed": true
   },
   "outputs": [],
   "source": [
    "# standardization\n",
    "from sklearn.preprocessing import StandardScaler\n",
    "std = StandardScaler(copy=True, with_mean=False, with_std=True)\n",
    "X_tra = std.fit_transform(sent_vectors_TRAIN_aw2v)\n",
    "X_tes = std.transform(sent_vectors_TEST_aw2v)\n",
    "\n",
    "\n",
    "from sklearn.linear_model import SGDClassifier\n",
    "from sklearn.calibration import CalibratedClassifierCV\n",
    "from sklearn.metrics import hinge_loss\n",
    "from sklearn.metrics import log_loss\n",
    "from sklearn.metrics import roc_auc_score\n",
    "\n",
    "alpha = [0.0001,0.001,0.01,0.1,1,10,100,1000]\n",
    "pen =  ['l2','l1']\n",
    "d = {}\n",
    "\n",
    "for i in alpha:\n",
    "    for j in pen:                         \n",
    "        clf = SGDClassifier(alpha=i, penalty=j, loss='hinge', random_state=10, class_weight='balanced')\n",
    "        clf.fit(X_tra, Y_train)\n",
    "        cccv = CalibratedClassifierCV(clf, cv=10, method=\"sigmoid\")\n",
    "        cccv.fit(X_tra, Y_train)\n",
    "        predict_y = cccv.predict_proba(X_tes)[:,1]\n",
    "        temp = roc_auc_score(Y_test,predict_y)\n",
    "        d[i,j] = (temp)   "
   ]
  },
  {
   "cell_type": "code",
   "execution_count": 105,
   "metadata": {},
   "outputs": [
    {
     "data": {
      "image/png": "[encoded data removed]",
      "text/plain": [
       "<matplotlib.figure.Figure at 0x282fd94b550>"
      ]
     },
     "metadata": {},
     "output_type": "display_data"
    }
   ],
   "source": [
    "l1 = []\n",
    "l2 = []\n",
    "for i in alpha:\n",
    "    l1.append(d[i,'l1'])\n",
    "    l2.append(d[i,'l2'])\n",
    "\n",
    "plt.plot(np.log(alpha),l1, color = 'darkorange', label='L1')\n",
    "plt.plot(np.log(alpha),l2, color = 'blue', label='L2')\n",
    "plt.legend()\n",
    "plt.xlabel('Hyperparameter')\n",
    "plt.ylabel('AUC')\n",
    "plt.title(' Hyperparameter v/s AUC')\n",
    "plt.show()"
   ]
  },
  {
   "cell_type": "code",
   "execution_count": 106,
   "metadata": {},
   "outputs": [
    {
     "name": "stdout",
     "output_type": "stream",
     "text": [
      "The best value of hyper parameter is  (0.01, 'l2')\n",
      "The max auc score  0.918579601718\n"
     ]
    }
   ],
   "source": [
    "import operator\n",
    "c_ = max(d.items(), key=operator.itemgetter(1))[0]\n",
    "max_auc = d[c_]\n",
    "print('The best value of hyper parameter is ', c_)\n",
    "print('The max auc score ', max_auc)"
   ]
  },
  {
   "cell_type": "code",
   "execution_count": 107,
   "metadata": {},
   "outputs": [
    {
     "data": {
      "image/png": "[encoded data removed]",
      "text/plain": [
       "<matplotlib.figure.Figure at 0x282fb8e7c88>"
      ]
     },
     "metadata": {},
     "output_type": "display_data"
    },
    {
     "name": "stdout",
     "output_type": "stream",
     "text": [
      "Accuracy on test set: 0.84%\n",
      "Precision on test set: 0.85%\n",
      "Recall on test set: 0.84%\n",
      "F1 score on test set: 0.84%\n"
     ]
    },
    {
     "data": {
      "image/png": "[encoded data removed]",
      "text/plain": [
       "<matplotlib.figure.Figure at 0x282fdab5a58>"
      ]
     },
     "metadata": {},
     "output_type": "display_data"
    }
   ],
   "source": [
    "#training the model with best value of hyper parameter\n",
    "from sklearn.linear_model import SGDClassifier\n",
    "from sklearn.calibration import CalibratedClassifierCV\n",
    "from sklearn.metrics import accuracy_score, f1_score, recall_score, precision_score, roc_curve, auc\n",
    "\n",
    "clf = SGDClassifier(alpha=c_[0], penalty=c_[1], loss='hinge', random_state=10)\n",
    "clf.fit(X_tra, Y_train)\n",
    "cccv = CalibratedClassifierCV(clf, method=\"sigmoid\")\n",
    "cccv.fit(X_tra, Y_train)\n",
    "\n",
    "predict_y_tr = cccv.predict_proba(X_tra)[:,1]\n",
    "predict_y = cccv.predict_proba(X_tes)[:,1]\n",
    "y_pred  = cccv.predict(X_tes)\n",
    "\n",
    "fpr, tpr, thresholds = roc_curve(Y_test, predict_y)\n",
    "fpr_tr, tpr_tr, thresholds_tr = roc_curve(Y_train, predict_y_tr)\n",
    "\n",
    "roc_auc_te = auc(fpr, tpr)\n",
    "roc_auc_tr = auc(fpr_tr, tpr_tr)\n",
    "\n",
    "plt.figure()\n",
    "plt.plot(fpr, tpr, color='darkorange', lw=1, label='Test curve (area = %0.2f)' % roc_auc_te)\n",
    "plt.plot(fpr_tr, tpr_tr, color='blue', lw=1, label='Train (area = %0.2f)' % roc_auc_tr)\n",
    "plt.plot([0, 1], [0, 1], color='navy', linestyle='--')\n",
    "plt.xlim([0.0, 1.0])\n",
    "plt.ylim([0.0, 1.05])\n",
    "plt.xlabel('False Positive Rate')\n",
    "plt.ylabel('True Positive Rate')\n",
    "plt.title('Receiver operating characteristic')\n",
    "plt.legend(loc=\"lower right\")\n",
    "plt.show()\n",
    "\n",
    "import seaborn as sns\n",
    "ax = sns.heatmap(confusion_matrix(Y_test, y_pred), annot=True, fmt='d')\n",
    "\n",
    "print('Accuracy on test set: %0.2f%%'%(accuracy_score(Y_test, y_pred)))\n",
    "print('Precision on test set: %0.2f%%'%(precision_score(Y_test, y_pred)))\n",
    "print('Recall on test set: %0.2f%%'%(recall_score(Y_test, y_pred)))\n",
    "print('F1 score on test set: %0.2f%%'%(f1_score(Y_test, y_pred)))"
   ]
  },
  {
   "cell_type": "markdown",
   "metadata": {},
   "source": [
    "### [5.1.4]  Applying Linear SVM on TFIDF W2V,<font color='red'> SET 4</font>"
   ]
  },
  {
   "cell_type": "code",
   "execution_count": 108,
   "metadata": {
    "collapsed": true
   },
   "outputs": [],
   "source": [
    "# standardization\n",
    "from sklearn.preprocessing import StandardScaler\n",
    "std = StandardScaler(copy=True, with_mean=False, with_std=True)\n",
    "X_tra = std.fit_transform(tfidf_sent_vectors_TRAIN_tfidfw2v)\n",
    "X_tes = std.transform(tfidf_sent_vectors_TEST_tfidfw2v)\n",
    "\n",
    "\n",
    "from sklearn.linear_model import SGDClassifier\n",
    "from sklearn.calibration import CalibratedClassifierCV\n",
    "from sklearn.metrics import hinge_loss\n",
    "from sklearn.metrics import log_loss\n",
    "from sklearn.metrics import roc_auc_score\n",
    "\n",
    "alpha = [0.0001,0.001,0.01,0.1,1,10,100,1000]\n",
    "pen =  ['l2','l1']\n",
    "d = {}\n",
    "\n",
    "for i in alpha:\n",
    "    for j in pen:                         \n",
    "        clf = SGDClassifier(alpha=i, penalty=j, loss='hinge', random_state=10, class_weight='balanced')\n",
    "        clf.fit(X_tra, Y_train)\n",
    "        cccv = CalibratedClassifierCV(clf, cv=10, method=\"sigmoid\")\n",
    "        cccv.fit(X_tra, Y_train)\n",
    "        predict_y = cccv.predict_proba(X_tes)[:,1]\n",
    "        temp = roc_auc_score(Y_test,predict_y)\n",
    "        d[i,j] = (temp)   "
   ]
  },
  {
   "cell_type": "code",
   "execution_count": 109,
   "metadata": {},
   "outputs": [
    {
     "data": {
      "image/png": "[encoded data removed]",
      "text/plain": [
       "<matplotlib.figure.Figure at 0x282f5c0c128>"
      ]
     },
     "metadata": {},
     "output_type": "display_data"
    }
   ],
   "source": [
    "l1 = []\n",
    "l2 = []\n",
    "for i in alpha:\n",
    "    l1.append(d[i,'l1'])\n",
    "    l2.append(d[i,'l2'])\n",
    "\n",
    "plt.plot(np.log(alpha),l1, color = 'darkorange', label='L1')\n",
    "plt.plot(np.log(alpha),l2, color = 'blue', label='L2')\n",
    "plt.legend()\n",
    "plt.xlabel('Hyperparameter')\n",
    "plt.ylabel('AUC')\n",
    "plt.title(' Hyperparameter v/s AUC')\n",
    "plt.show()"
   ]
  },
  {
   "cell_type": "code",
   "execution_count": 110,
   "metadata": {},
   "outputs": [
    {
     "name": "stdout",
     "output_type": "stream",
     "text": [
      "The best value of hyper parameter is  (0.01, 'l2')\n",
      "The max auc score  0.862938247012\n"
     ]
    }
   ],
   "source": [
    "import operator\n",
    "c_ = max(d.items(), key=operator.itemgetter(1))[0]\n",
    "max_auc = d[c_]\n",
    "print('The best value of hyper parameter is ', c_)\n",
    "print('The max auc score ', max_auc)"
   ]
  },
  {
   "cell_type": "code",
   "execution_count": 111,
   "metadata": {},
   "outputs": [
    {
     "data": {
      "image/png": "[encoded data removed]",
      "text/plain": [
       "<matplotlib.figure.Figure at 0x282fda826a0>"
      ]
     },
     "metadata": {},
     "output_type": "display_data"
    },
    {
     "name": "stdout",
     "output_type": "stream",
     "text": [
      "Accuracy on test set: 0.79%\n",
      "Precision on test set: 0.79%\n",
      "Recall on test set: 0.77%\n",
      "F1 score on test set: 0.78%\n"
     ]
    },
    {
     "data": {
      "image/png": "[encoded data removed]",
      "text/plain": [
       "<matplotlib.figure.Figure at 0x282f5c03898>"
      ]
     },
     "metadata": {},
     "output_type": "display_data"
    }
   ],
   "source": [
    "#training the model with best value of hyper parameter\n",
    "from sklearn.linear_model import SGDClassifier\n",
    "from sklearn.calibration import CalibratedClassifierCV\n",
    "from sklearn.metrics import accuracy_score, f1_score, recall_score, precision_score, roc_curve, auc\n",
    "\n",
    "clf = SGDClassifier(alpha=c_[0], penalty=c_[1], loss='hinge', random_state=10)\n",
    "clf.fit(X_tra, Y_train)\n",
    "cccv = CalibratedClassifierCV(clf, method=\"sigmoid\")\n",
    "cccv.fit(X_tra, Y_train)\n",
    "\n",
    "predict_y_tr = cccv.predict_proba(X_tra)[:,1]\n",
    "predict_y = cccv.predict_proba(X_tes)[:,1]\n",
    "y_pred  = cccv.predict(X_tes)\n",
    "\n",
    "fpr, tpr, thresholds = roc_curve(Y_test, predict_y)\n",
    "fpr_tr, tpr_tr, thresholds_tr = roc_curve(Y_train, predict_y_tr)\n",
    "\n",
    "roc_auc_te = auc(fpr, tpr)\n",
    "roc_auc_tr = auc(fpr_tr, tpr_tr)\n",
    "\n",
    "plt.figure()\n",
    "plt.plot(fpr, tpr, color='darkorange', lw=1, label='Test curve (area = %0.2f)' % roc_auc_te)\n",
    "plt.plot(fpr_tr, tpr_tr, color='blue', lw=1, label='Train (area = %0.2f)' % roc_auc_tr)\n",
    "plt.plot([0, 1], [0, 1], color='navy', linestyle='--')\n",
    "plt.xlim([0.0, 1.0])\n",
    "plt.ylim([0.0, 1.05])\n",
    "plt.xlabel('False Positive Rate')\n",
    "plt.ylabel('True Positive Rate')\n",
    "plt.title('Receiver operating characteristic')\n",
    "plt.legend(loc=\"lower right\")\n",
    "plt.show()\n",
    "\n",
    "import seaborn as sns\n",
    "ax = sns.heatmap(confusion_matrix(Y_test, y_pred), annot=True, fmt='d')\n",
    "\n",
    "print('Accuracy on test set: %0.2f%%'%(accuracy_score(Y_test, y_pred)))\n",
    "print('Precision on test set: %0.2f%%'%(precision_score(Y_test, y_pred)))\n",
    "print('Recall on test set: %0.2f%%'%(recall_score(Y_test, y_pred)))\n",
    "print('F1 score on test set: %0.2f%%'%(f1_score(Y_test, y_pred)))"
   ]
  },
  {
   "cell_type": "markdown",
   "metadata": {},
   "source": [
    "## [5.2] RBF SVM"
   ]
  },
  {
   "cell_type": "markdown",
   "metadata": {},
   "source": [
    "### [5.2.1] Applying RBF SVM on BOW,<font color='red'> SET 1</font>"
   ]
  },
  {
   "cell_type": "code",
   "execution_count": 47,
   "metadata": {},
   "outputs": [
    {
     "name": "stdout",
     "output_type": "stream",
     "text": [
      "Fitting 3 folds for each of 7 candidates, totalling 21 fits\n"
     ]
    },
    {
     "name": "stderr",
     "output_type": "stream",
     "text": [
      "[Parallel(n_jobs=1)]: Done  21 out of  21 | elapsed: 238.8min finished\n"
     ]
    },
    {
     "name": "stdout",
     "output_type": "stream",
     "text": [
      "Best HyperParameter:  {'C': 100}\n",
      "Best AUC score:  0.909849473538\n"
     ]
    }
   ],
   "source": [
    "from sklearn.model_selection import GridSearchCV\n",
    "from sklearn.svm import SVC\n",
    "from sklearn.metrics import roc_curve, auc, make_scorer\n",
    "\n",
    "def custom_auc(ground_truth, predictions):\n",
    "    fpr, tpr, _ = roc_curve(ground_truth, predictions[:, 1])    \n",
    "    return auc(fpr, tpr)\n",
    "\n",
    "auc_ = make_scorer(custom_auc, greater_is_better=True, needs_proba=True)\n",
    "\n",
    "\n",
    "clf = SVC(kernel='rbf', probability=True)\n",
    "param_grid = {'C':[0.001,0.01,0.1,1,10,100,1000]} #params\n",
    "gsv = GridSearchCV(clf,param_grid,verbose=1,scoring=auc_)\n",
    "gsv.fit(X_train_bow_rbf,Y_train_rbf)\n",
    "print(\"Best HyperParameter: \",gsv.best_params_)\n",
    "print(\"Best AUC score: \", gsv.best_score_)"
   ]
  },
  {
   "cell_type": "code",
   "execution_count": 49,
   "metadata": {},
   "outputs": [
    {
     "name": "stderr",
     "output_type": "stream",
     "text": [
      "C:\\Users\\chauh\\Anaconda3\\lib\\site-packages\\sklearn\\model_selection\\_search.py:747: DeprecationWarning: The grid_scores_ attribute was deprecated in version 0.18 in favor of the more elaborate cv_results_ attribute. The grid_scores_ attribute will not be available from 0.20\n",
      "  DeprecationWarning)\n"
     ]
    },
    {
     "data": {
      "image/png": "[encoded data removed]",
      "text/plain": [
       "<matplotlib.figure.Figure at 0x21b51ebb2e8>"
      ]
     },
     "metadata": {},
     "output_type": "display_data"
    }
   ],
   "source": [
    "x = []\n",
    "y = []\n",
    "c = gsv.best_params_['C']\n",
    "\n",
    "for i in gsv.grid_scores_:\n",
    "    x.append(i[0]['C'])\n",
    "    \n",
    "y_test = gsv.cv_results_['mean_test_score']\n",
    "y_train = gsv.cv_results_['mean_train_score']\n",
    "\n",
    "plt.xlabel('log(C)')\n",
    "plt.ylabel('AUC score')\n",
    "plt.plot(np.log(x),y_test, color = 'darkorange')\n",
    "plt.plot(np.log(x),y_train, color = 'blue')\n",
    "plt.legend()\n",
    "plt.title(' C v/s auc score')\n",
    "plt.show()"
   ]
  },
  {
   "cell_type": "code",
   "execution_count": 55,
   "metadata": {},
   "outputs": [
    {
     "data": {
      "image/png": "[encoded data removed]",
      "text/plain": [
       "<matplotlib.figure.Figure at 0x21b4b1da550>"
      ]
     },
     "metadata": {},
     "output_type": "display_data"
    },
    {
     "name": "stdout",
     "output_type": "stream",
     "text": [
      "Accuracy on test set: 0.84%\n",
      "Precision on test set: 0.85%\n",
      "Recall on test set: 0.83%\n",
      "F1 score on test set: 0.84%\n"
     ]
    },
    {
     "data": {
      "image/png": "[encoded data removed]",
      "text/plain": [
       "<matplotlib.figure.Figure at 0x21b4b236278>"
      ]
     },
     "metadata": {},
     "output_type": "display_data"
    }
   ],
   "source": [
    "clf = SVC(C=c, probability=True)\n",
    "clf.fit(X_train_bow_rbf,Y_train_rbf)\n",
    "y_pred = clf.predict_proba(X_test_bow_rbf)\n",
    "y_pred_tr = clf.predict_proba(X_train_bow_rbf)\n",
    "y_pr = clf.predict(X_test_bow_rbf)\n",
    "\n",
    "from sklearn.metrics import roc_curve, auc, accuracy_score, precision_score, recall_score, f1_score\n",
    "\n",
    "fpr, tpr, thresholds = roc_curve(Y_test_rbf, y_pred[:,1])\n",
    "fpr_tr, tpr_tr, thresholds_tr = roc_curve(Y_train_rbf, y_pred_tr[:,1])\n",
    "\n",
    "roc_auc_te = auc(fpr, tpr)\n",
    "roc_auc_tr = auc(fpr_tr, tpr_tr)\n",
    "\n",
    "plt.figure()\n",
    "plt.plot(fpr, tpr, color='darkorange', lw=1, label='Test curve (area = %0.2f)' % roc_auc_te)\n",
    "plt.plot(fpr_tr, tpr_tr, color='blue', lw=1, label='Train (area = %0.2f)' % roc_auc_tr)\n",
    "plt.plot([0, 1], [0, 1], color='navy', linestyle='--')\n",
    "plt.xlim([0.0, 1.0])\n",
    "plt.ylim([0.0, 1.05])\n",
    "plt.xlabel('False Positive Rate')\n",
    "plt.ylabel('True Positive Rate')\n",
    "plt.title('Receiver operating characteristic')\n",
    "plt.legend(loc=\"lower right\")\n",
    "plt.show()\n",
    "\n",
    "print('Accuracy on test set: %0.2f%%'%(accuracy_score(Y_test_rbf, y_pr)))\n",
    "print('Precision on test set: %0.2f%%'%(precision_score(Y_test_rbf, y_pr)))\n",
    "print('Recall on test set: %0.2f%%'%(recall_score(Y_test_rbf, y_pr)))\n",
    "print('F1 score on test set: %0.2f%%'%(f1_score(Y_test_rbf, y_pr)))\n",
    "ax = sns.heatmap(confusion_matrix(Y_test_rbf, y_pr), annot=True, fmt='d')"
   ]
  },
  {
   "cell_type": "markdown",
   "metadata": {},
   "source": [
    "### [5.2.2] Applying RBF SVM on TFIDF,<font color='red'> SET 2</font>"
   ]
  },
  {
   "cell_type": "code",
   "execution_count": 56,
   "metadata": {},
   "outputs": [
    {
     "name": "stdout",
     "output_type": "stream",
     "text": [
      "Fitting 3 folds for each of 7 candidates, totalling 21 fits\n"
     ]
    },
    {
     "name": "stderr",
     "output_type": "stream",
     "text": [
      "[Parallel(n_jobs=1)]: Done  21 out of  21 | elapsed: 105.0min finished\n"
     ]
    },
    {
     "name": "stdout",
     "output_type": "stream",
     "text": [
      "Best HyperParameter:  {'C': 1000}\n",
      "Best AUC score:  0.91609480409\n"
     ]
    }
   ],
   "source": [
    "from sklearn.model_selection import GridSearchCV\n",
    "from sklearn.svm import SVC\n",
    "from sklearn.metrics import roc_curve, auc, make_scorer\n",
    "\n",
    "def custom_auc(ground_truth, predictions):\n",
    "    fpr, tpr, _ = roc_curve(ground_truth, predictions[:, 1])    \n",
    "    return auc(fpr, tpr)\n",
    "\n",
    "auc_ = make_scorer(custom_auc, greater_is_better=True, needs_proba=True)\n",
    "\n",
    "\n",
    "clf = SVC(kernel='rbf', probability=True)\n",
    "param_grid = {'C':[0.001,0.01,0.1,1,10,100,1000]} #params\n",
    "gsv = GridSearchCV(clf,param_grid,verbose=1,scoring=auc_)\n",
    "gsv.fit(X_train_tfidf_rbf,Y_train_rbf)\n",
    "print(\"Best HyperParameter: \",gsv.best_params_)\n",
    "print(\"Best AUC score: \", gsv.best_score_)"
   ]
  },
  {
   "cell_type": "code",
   "execution_count": 57,
   "metadata": {},
   "outputs": [
    {
     "name": "stderr",
     "output_type": "stream",
     "text": [
      "C:\\Users\\chauh\\Anaconda3\\lib\\site-packages\\sklearn\\model_selection\\_search.py:747: DeprecationWarning: The grid_scores_ attribute was deprecated in version 0.18 in favor of the more elaborate cv_results_ attribute. The grid_scores_ attribute will not be available from 0.20\n",
      "  DeprecationWarning)\n"
     ]
    },
    {
     "data": {
      "image/png": "[encoded data removed]",
      "text/plain": [
       "<matplotlib.figure.Figure at 0x21b3b7c7cf8>"
      ]
     },
     "metadata": {},
     "output_type": "display_data"
    }
   ],
   "source": [
    "x = []\n",
    "y = []\n",
    "c = gsv.best_params_['C']\n",
    "\n",
    "for i in gsv.grid_scores_:\n",
    "    x.append(i[0]['C'])\n",
    "    \n",
    "y_test = gsv.cv_results_['mean_test_score']\n",
    "y_train = gsv.cv_results_['mean_train_score']\n",
    "\n",
    "plt.xlabel('log(C)')\n",
    "plt.ylabel('AUC score')\n",
    "plt.plot(np.log(x),y_test, color = 'darkorange')\n",
    "plt.plot(np.log(x),y_train, color = 'blue')\n",
    "plt.legend()\n",
    "plt.title(' C v/s auc score')\n",
    "plt.show()"
   ]
  },
  {
   "cell_type": "code",
   "execution_count": 61,
   "metadata": {},
   "outputs": [
    {
     "data": {
      "image/png": "[encoded data removed]",
      "text/plain": [
       "<matplotlib.figure.Figure at 0x21b50b776a0>"
      ]
     },
     "metadata": {},
     "output_type": "display_data"
    },
    {
     "name": "stdout",
     "output_type": "stream",
     "text": [
      "Accuracy on test set: 0.84%\n",
      "Precision on test set: 0.85%\n",
      "Recall on test set: 0.83%\n",
      "F1 score on test set: 0.84%\n"
     ]
    },
    {
     "data": {
      "image/png": "[encoded data removed]",
      "text/plain": [
       "<matplotlib.figure.Figure at 0x21b51763eb8>"
      ]
     },
     "metadata": {},
     "output_type": "display_data"
    }
   ],
   "source": [
    "clf = SVC(C=c, probability=True)\n",
    "clf.fit(X_train_tfidf_rbf,Y_train_rbf)\n",
    "y_pred = clf.predict_proba(X_test_tfidf_rbf)\n",
    "y_pred_tr = clf.predict_proba(X_train_tfidf_rbf)\n",
    "y_pr = clf.predict(X_test_tfidf_rbf)\n",
    "\n",
    "\n",
    "from sklearn.metrics import roc_curve, auc, accuracy_score, precision_score, recall_score, f1_score\n",
    "\n",
    "fpr, tpr, thresholds = roc_curve(Y_test_rbf, y_pred[:,1])\n",
    "fpr_tr, tpr_tr, thresholds_tr = roc_curve(Y_train_rbf, y_pred_tr[:,1])\n",
    "\n",
    "roc_auc_te = auc(fpr, tpr)\n",
    "roc_auc_tr = auc(fpr_tr, tpr_tr)\n",
    "\n",
    "plt.figure()\n",
    "plt.plot(fpr, tpr, color='darkorange', lw=1, label='Test curve (area = %0.2f)' % roc_auc_te)\n",
    "plt.plot(fpr_tr, tpr_tr, color='blue', lw=1, label='Train (area = %0.2f)' % roc_auc_tr)\n",
    "plt.plot([0, 1], [0, 1], color='navy', linestyle='--')\n",
    "plt.xlim([0.0, 1.0])\n",
    "plt.ylim([0.0, 1.05])\n",
    "plt.xlabel('False Positive Rate')\n",
    "plt.ylabel('True Positive Rate')\n",
    "plt.title('Receiver operating characteristic')\n",
    "plt.legend(loc=\"lower right\")\n",
    "plt.show()\n",
    "\n",
    "print('Accuracy on test set: %0.2f%%'%(accuracy_score(Y_test_rbf, y_pr)))\n",
    "print('Precision on test set: %0.2f%%'%(precision_score(Y_test_rbf, y_pr)))\n",
    "print('Recall on test set: %0.2f%%'%(recall_score(Y_test_rbf, y_pr)))\n",
    "print('F1 score on test set: %0.2f%%'%(f1_score(Y_test_rbf, y_pr)))\n",
    "ax = sns.heatmap(confusion_matrix(Y_test_rbf, y_pr), annot=True, fmt='d')"
   ]
  },
  {
   "cell_type": "markdown",
   "metadata": {},
   "source": [
    "### [5.2.3]  Applying RBF SVM on AVG W2V,<font color='red'> SET 3</font>"
   ]
  },
  {
   "cell_type": "code",
   "execution_count": 62,
   "metadata": {},
   "outputs": [
    {
     "name": "stdout",
     "output_type": "stream",
     "text": [
      "Fitting 3 folds for each of 7 candidates, totalling 21 fits\n"
     ]
    },
    {
     "name": "stderr",
     "output_type": "stream",
     "text": [
      "[Parallel(n_jobs=1)]: Done  21 out of  21 | elapsed: 146.5min finished\n"
     ]
    },
    {
     "name": "stdout",
     "output_type": "stream",
     "text": [
      "Best HyperParameter:  {'C': 10}\n",
      "Best AUC score:  0.926609631395\n"
     ]
    }
   ],
   "source": [
    "from sklearn.model_selection import GridSearchCV\n",
    "from sklearn.svm import SVC\n",
    "from sklearn.metrics import roc_curve, auc, make_scorer\n",
    "\n",
    "def custom_auc(ground_truth, predictions):\n",
    "    fpr, tpr, _ = roc_curve(ground_truth, predictions[:, 1])    \n",
    "    return auc(fpr, tpr)\n",
    "\n",
    "auc_ = make_scorer(custom_auc, greater_is_better=True, needs_proba=True)\n",
    "\n",
    "\n",
    "clf = SVC(kernel='rbf', probability=True)\n",
    "param_grid = {'C':[0.001,0.01,0.1,1,10,100,1000]} #params\n",
    "gsv = GridSearchCV(clf,param_grid,verbose=1,scoring=auc_)\n",
    "gsv.fit(sent_vectors_TRAIN_rbf_aw2v,Y_train_rbf)\n",
    "print(\"Best HyperParameter: \",gsv.best_params_)\n",
    "print(\"Best AUC score: \", gsv.best_score_)"
   ]
  },
  {
   "cell_type": "code",
   "execution_count": 63,
   "metadata": {},
   "outputs": [
    {
     "name": "stderr",
     "output_type": "stream",
     "text": [
      "C:\\Users\\chauh\\Anaconda3\\lib\\site-packages\\sklearn\\model_selection\\_search.py:747: DeprecationWarning: The grid_scores_ attribute was deprecated in version 0.18 in favor of the more elaborate cv_results_ attribute. The grid_scores_ attribute will not be available from 0.20\n",
      "  DeprecationWarning)\n"
     ]
    },
    {
     "data": {
      "image/png": "[encoded data removed]",
      "text/plain": [
       "<matplotlib.figure.Figure at 0x21b83228a58>"
      ]
     },
     "metadata": {},
     "output_type": "display_data"
    }
   ],
   "source": [
    "x = []\n",
    "y = []\n",
    "c = gsv.best_params_['C']\n",
    "\n",
    "for i in gsv.grid_scores_:\n",
    "    x.append(i[0]['C'])\n",
    "    \n",
    "y_test = gsv.cv_results_['mean_test_score']\n",
    "y_train = gsv.cv_results_['mean_train_score']\n",
    "\n",
    "plt.xlabel('log(C)')\n",
    "plt.ylabel('AUC score')\n",
    "plt.plot(np.log(x),y_test, color = 'darkorange')\n",
    "plt.plot(np.log(x),y_train, color = 'blue')\n",
    "plt.legend()\n",
    "plt.title(' C v/s auc score')\n",
    "plt.show()"
   ]
  },
  {
   "cell_type": "code",
   "execution_count": 65,
   "metadata": {},
   "outputs": [
    {
     "data": {
      "image/png": "[encoded data removed]",
      "text/plain": [
       "<matplotlib.figure.Figure at 0x21b825190b8>"
      ]
     },
     "metadata": {},
     "output_type": "display_data"
    },
    {
     "name": "stdout",
     "output_type": "stream",
     "text": [
      "Accuracy on test set: 0.85%\n",
      "Precision on test set: 0.86%\n",
      "Recall on test set: 0.85%\n",
      "F1 score on test set: 0.85%\n"
     ]
    },
    {
     "data": {
      "image/png": "[encoded data removed]",
      "text/plain": [
       "<matplotlib.figure.Figure at 0x21b547d4470>"
      ]
     },
     "metadata": {},
     "output_type": "display_data"
    }
   ],
   "source": [
    "clf = SVC(C=c, probability=True)\n",
    "clf.fit(sent_vectors_TRAIN_rbf_aw2v,Y_train_rbf)\n",
    "y_pred = clf.predict_proba(sent_vectors_TEST_rbf_aw2v)\n",
    "y_pred_tr = clf.predict_proba(sent_vectors_TRAIN_rbf_aw2v)\n",
    "y_pr = clf.predict(sent_vectors_TEST_rbf_aw2v)\n",
    "\n",
    "\n",
    "from sklearn.metrics import roc_curve, auc, accuracy_score, precision_score, recall_score, f1_score\n",
    "\n",
    "fpr, tpr, thresholds = roc_curve(Y_test_rbf, y_pred[:,1])\n",
    "fpr_tr, tpr_tr, thresholds_tr = roc_curve(Y_train_rbf, y_pred_tr[:,1])\n",
    "\n",
    "roc_auc_te = auc(fpr, tpr)\n",
    "roc_auc_tr = auc(fpr_tr, tpr_tr)\n",
    "\n",
    "plt.figure()\n",
    "plt.plot(fpr, tpr, color='darkorange', lw=1, label='Test curve (area = %0.2f)' % roc_auc_te)\n",
    "plt.plot(fpr_tr, tpr_tr, color='blue', lw=1, label='Train (area = %0.2f)' % roc_auc_tr)\n",
    "plt.plot([0, 1], [0, 1], color='navy', linestyle='--')\n",
    "plt.xlim([0.0, 1.0])\n",
    "plt.ylim([0.0, 1.05])\n",
    "plt.xlabel('False Positive Rate')\n",
    "plt.ylabel('True Positive Rate')\n",
    "plt.title('Receiver operating characteristic')\n",
    "plt.legend(loc=\"lower right\")\n",
    "plt.show()\n",
    "\n",
    "print('Accuracy on test set: %0.2f%%'%(accuracy_score(Y_test_rbf, y_pr)))\n",
    "print('Precision on test set: %0.2f%%'%(precision_score(Y_test_rbf, y_pr)))\n",
    "print('Recall on test set: %0.2f%%'%(recall_score(Y_test_rbf, y_pr)))\n",
    "print('F1 score on test set: %0.2f%%'%(f1_score(Y_test_rbf, y_pr)))\n",
    "ax = sns.heatmap(confusion_matrix(Y_test_rbf, y_pr), annot=True, fmt='d')"
   ]
  },
  {
   "cell_type": "markdown",
   "metadata": {},
   "source": [
    "### [5.2.4]  Applying RBF SVM on TFIDF W2V,<font color='red'> SET 4</font>"
   ]
  },
  {
   "cell_type": "code",
   "execution_count": 67,
   "metadata": {},
   "outputs": [
    {
     "name": "stdout",
     "output_type": "stream",
     "text": [
      "Fitting 3 folds for each of 7 candidates, totalling 21 fits\n"
     ]
    },
    {
     "name": "stderr",
     "output_type": "stream",
     "text": [
      "[Parallel(n_jobs=1)]: Done  21 out of  21 | elapsed: 240.6min finished\n"
     ]
    },
    {
     "name": "stdout",
     "output_type": "stream",
     "text": [
      "Best HyperParameter:  {'C': 1}\n",
      "Best AUC score:  0.88031455414\n"
     ]
    }
   ],
   "source": [
    "from sklearn.model_selection import GridSearchCV\n",
    "from sklearn.svm import SVC\n",
    "from sklearn.metrics import roc_curve, auc, make_scorer\n",
    "\n",
    "def custom_auc(ground_truth, predictions):\n",
    "    fpr, tpr, _ = roc_curve(ground_truth, predictions[:, 1])    \n",
    "    return auc(fpr, tpr)\n",
    "\n",
    "auc_ = make_scorer(custom_auc, greater_is_better=True, needs_proba=True)\n",
    "\n",
    "\n",
    "clf = SVC(kernel='rbf', probability=True)\n",
    "param_grid = {'C':[0.001,0.01,0.1,1,10,100,1000]} #params\n",
    "gsv = GridSearchCV(clf,param_grid,verbose=1,scoring=auc_)\n",
    "gsv.fit(tfidf_sent_vectors_TRAIN_rbf_tfidfw2v,Y_train_rbf)\n",
    "print(\"Best HyperParameter: \",gsv.best_params_)\n",
    "print(\"Best AUC score: \", gsv.best_score_)"
   ]
  },
  {
   "cell_type": "code",
   "execution_count": 68,
   "metadata": {},
   "outputs": [
    {
     "name": "stderr",
     "output_type": "stream",
     "text": [
      "C:\\Users\\chauh\\Anaconda3\\lib\\site-packages\\sklearn\\model_selection\\_search.py:747: DeprecationWarning: The grid_scores_ attribute was deprecated in version 0.18 in favor of the more elaborate cv_results_ attribute. The grid_scores_ attribute will not be available from 0.20\n",
      "  DeprecationWarning)\n"
     ]
    },
    {
     "data": {
      "image/png": "[encoded data removed]",
      "text/plain": [
       "<matplotlib.figure.Figure at 0x21b3b867a58>"
      ]
     },
     "metadata": {},
     "output_type": "display_data"
    }
   ],
   "source": [
    "x = []\n",
    "y = []\n",
    "c = gsv.best_params_['C']\n",
    "\n",
    "for i in gsv.grid_scores_:\n",
    "    x.append(i[0]['C'])\n",
    "    \n",
    "y_test = gsv.cv_results_['mean_test_score']\n",
    "y_train = gsv.cv_results_['mean_train_score']\n",
    "\n",
    "plt.xlabel('log(C)')\n",
    "plt.ylabel('AUC score')\n",
    "plt.plot(np.log(x),y_test, color = 'darkorange')\n",
    "plt.plot(np.log(x),y_train, color = 'blue')\n",
    "plt.legend()\n",
    "plt.title(' C v/s auc score')\n",
    "plt.show()"
   ]
  },
  {
   "cell_type": "code",
   "execution_count": 70,
   "metadata": {},
   "outputs": [
    {
     "data": {
      "image/png": "[encoded data removed]",
      "text/plain": [
       "<matplotlib.figure.Figure at 0x21b3af09fd0>"
      ]
     },
     "metadata": {},
     "output_type": "display_data"
    },
    {
     "name": "stdout",
     "output_type": "stream",
     "text": [
      "Accuracy on test set: 0.81%\n",
      "Precision on test set: 0.81%\n",
      "Recall on test set: 0.79%\n",
      "F1 score on test set: 0.80%\n"
     ]
    },
    {
     "data": {
      "image/png": "[encoded data removed]",
      "text/plain": [
       "<matplotlib.figure.Figure at 0x21b452062b0>"
      ]
     },
     "metadata": {},
     "output_type": "display_data"
    }
   ],
   "source": [
    "clf = SVC(C=c, probability=True)\n",
    "clf.fit(tfidf_sent_vectors_TRAIN_rbf_tfidfw2v,Y_train_rbf)\n",
    "y_pred = clf.predict_proba(tfidf_sent_vectors_TEST_rbf_tfidfw2v)\n",
    "y_pred_tr = clf.predict_proba(tfidf_sent_vectors_TRAIN_rbf_tfidfw2v)\n",
    "y_pr = clf.predict(tfidf_sent_vectors_TEST_rbf_tfidfw2v)\n",
    "\n",
    "\n",
    "from sklearn.metrics import roc_curve, auc, accuracy_score, precision_score, recall_score, f1_score\n",
    "\n",
    "fpr, tpr, thresholds = roc_curve(Y_test_rbf, y_pred[:,1])\n",
    "fpr_tr, tpr_tr, thresholds_tr = roc_curve(Y_train_rbf, y_pred_tr[:,1])\n",
    "\n",
    "roc_auc_te = auc(fpr, tpr)\n",
    "roc_auc_tr = auc(fpr_tr, tpr_tr)\n",
    "\n",
    "plt.figure()\n",
    "plt.plot(fpr, tpr, color='darkorange', lw=1, label='Test curve (area = %0.2f)' % roc_auc_te)\n",
    "plt.plot(fpr_tr, tpr_tr, color='blue', lw=1, label='Train (area = %0.2f)' % roc_auc_tr)\n",
    "plt.plot([0, 1], [0, 1], color='navy', linestyle='--')\n",
    "plt.xlim([0.0, 1.0])\n",
    "plt.ylim([0.0, 1.05])\n",
    "plt.xlabel('False Positive Rate')\n",
    "plt.ylabel('True Positive Rate')\n",
    "plt.title('Receiver operating characteristic')\n",
    "plt.legend(loc=\"lower right\")\n",
    "plt.show()\n",
    "\n",
    "print('Accuracy on test set: %0.2f%%'%(accuracy_score(Y_test_rbf, y_pr)))\n",
    "print('Precision on test set: %0.2f%%'%(precision_score(Y_test_rbf, y_pr)))\n",
    "print('Recall on test set: %0.2f%%'%(recall_score(Y_test_rbf, y_pr)))\n",
    "print('F1 score on test set: %0.2f%%'%(f1_score(Y_test_rbf, y_pr)))\n",
    "ax = sns.heatmap(confusion_matrix(Y_test_rbf, y_pr), annot=True, fmt='d')"
   ]
  },
  {
   "cell_type": "markdown",
   "metadata": {},
   "source": [
    "# [6] Conclusions"
   ]
  },
  {
   "cell_type": "code",
   "execution_count": 123,
   "metadata": {},
   "outputs": [
    {
     "name": "stdout",
     "output_type": "stream",
     "text": [
      "============================Linear Kernel(SGDClassifier with hinge loss)=================================)\n",
      "+------------+-------+----------------+-----------+\n",
      "| Vectorizer | alpha | regularization | AUC Score |\n",
      "+------------+-------+----------------+-----------+\n",
      "|    BoW     |  0.1  |       l2       |    0.95   |\n",
      "|   Tf-idf   |   1   |       l2       |    0.96   |\n",
      "|  Avg W2V   |  0.01 |       l2       |    0.92   |\n",
      "| Tf-idf W2V |  0.01 |       l2       |    0.86   |\n",
      "+------------+-------+----------------+-----------+\n",
      "==============================Radial bias function kernel(rbf kernel)===================================)\n",
      "+------------+------+-----------+\n",
      "| Vectorizer |  C   | AUC Score |\n",
      "+------------+------+-----------+\n",
      "|    BoW     | 100  |    0.92   |\n",
      "|   Tf-idf   | 1000 |    0.96   |\n",
      "|  Avg W2V   |  10  |    0.92   |\n",
      "| Tf-idf W2V |  1   |    0.93   |\n",
      "+------------+------+-----------+\n"
     ]
    }
   ],
   "source": [
    "from prettytable import PrettyTable\n",
    "\n",
    "x = PrettyTable()\n",
    "y = PrettyTable()\n",
    "print('============================Linear Kernel(SGDClassifier with hinge loss)=================================)')\n",
    "x.field_names = [\"Vectorizer\", \"alpha\", \"regularization\", \"AUC Score\"]\n",
    "x.add_row([\"BoW\", 0.1, \"l2\", 0.95])\n",
    "x.add_row([\"Tf-idf\", 1, \"l2\", 0.96])\n",
    "x.add_row([\"Avg W2V\", 0.01, \"l2\", 0.92])\n",
    "x.add_row([\"Tf-idf W2V\", 0.01, \"l2\", 0.86])\n",
    "print(x)\n",
    "print('==============================Radial bias function kernel(rbf kernel)===================================)')\n",
    "y.field_names = [\"Vectorizer\", \"C\", \"AUC Score\"]\n",
    "y.add_row([\"BoW\", 100, 0.92])\n",
    "y.add_row([\"Tf-idf\", 1000, 0.96])\n",
    "y.add_row([\"Avg W2V\", 10, 0.92])\n",
    "y.add_row([\"Tf-idf W2V\", 1, 0.93])\n",
    "print(y)"
   ]
  }
 ],
 "metadata": {
  "kernelspec": {
   "display_name": "Python 3",
   "language": "python",
   "name": "python3"
  },
  "language_info": {
   "codemirror_mode": {
    "name": "ipython",
    "version": 3
   },
   "file_extension": ".py",
   "mimetype": "text/x-python",
   "name": "python",
   "nbconvert_exporter": "python",
   "pygments_lexer": "ipython3",
   "version": "3.6.2"
  }
 },
 "nbformat": 4,
 "nbformat_minor": 2
}
